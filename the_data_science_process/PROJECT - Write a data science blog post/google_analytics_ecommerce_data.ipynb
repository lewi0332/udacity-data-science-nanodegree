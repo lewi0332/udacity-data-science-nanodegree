{
 "metadata": {
  "language_info": {
   "codemirror_mode": {
    "name": "ipython",
    "version": 3
   },
   "file_extension": ".py",
   "mimetype": "text/x-python",
   "name": "python",
   "nbconvert_exporter": "python",
   "pygments_lexer": "ipython3",
   "version": "3.8.5-final"
  },
  "orig_nbformat": 2,
  "kernelspec": {
   "name": "python3",
   "display_name": "Python 3",
   "language": "python"
  }
 },
 "nbformat": 4,
 "nbformat_minor": 2,
 "cells": [
  {
   "source": [
    "# Google Analytics 360 Sample\n",
    "---\n",
    "\n",
    "# CRISP-DM Process\n",
    "\n",
    "Using the Cross Industry Standard Process for Data Mining, this project is an opportunity to explore and analyze data ecommerce data from Google Analytics 360 exported to BigQuery from the Google Merchandise Store.\n",
    "\n",
    "CRISP-DM is a process model with 6 phases:\n",
    "\n",
    "1. Busisness Understanding\n",
    "2. Data Understanding\n",
    "3. Data Preperation\n",
    "4. Modeling\n",
    "5. Evaluation\n",
    "6. Deployment\n",
    "\n",
    "## 1. Business Understanding\n",
    "\n",
    "As an e-commerce store, much of the marketing resources are spent attracting potential customers through digital means. Using tools such as affliate marketing, display ads, and paid search terms are industry standard methods of bring new potential buyers. Our digital world is being being bifurcated into iOS and Android. Apple has recently begun to differentiate itself among the big four (Apple, Facebook, Google, Amazon) as the one who champions privacy. Safari users now see less-targeted ads, the App Store is increasing the scrutiny on how an iOS app is allowed to collect data and consumers are given easy choices, often by default, about disallowing cookies, location and other trackers.\n",
    "\n",
    "But with those measures, are Apple users less inclined to be driven to purchase from ads?\n",
    "\n",
    "**Business Objective**\n",
    "\n",
    "Ultimately, this information may drive the business to adjust decisions on how or where to spend marketing dollars attracting nw customers. Our objective is to increase the effectiveness of our marketing efforts. Whether that means a reduction in spending targeted to Apple users or an increase in spending to another demographic that *is* afffected by targeted advertising.\n",
    "\n",
    "### I will attempt to answer the following questions to meet our business objectives:\n",
    "\n",
    "1. Do macOS/iOS affected by traffic source in the same way... organic, paid display. Are targeted ads less effective on iOS? \n",
    "\n",
    "2. Do macOS/iOS users purchase more than windows/android users?\n",
    "\n",
    "3. Is there a correlation of refering traffic to higher average order value?\n",
    "\n",
    "--- \n",
    "\n",
    "## 2. Data Understanding\n",
    "\n",
    "Google Cloud has shared its Google Analytics 360 data as a [public dataset](https://cloud.google.com/bigquery/public-data/).\n",
    "\n",
    "**Where it comes from**\n",
    "\n",
    "The sample dataset contains obfuscated Google Analytics 360 data from the [Google Merchandise Store](https://www.googlemerchandisestore.com/shop.axd/Home?utm_source=Partners&utm_medium=affiliate&utm_campaign=Data%20Share%20Promo), a real ecommerce store. The Google Merchandise Store sells Google branded merchandise. The data is typical of what you would see for an ecommerce website. It includes the following kinds of information:\n",
    "\n",
    "- Traffic source data: information about where website visitors originate. This includes data about organic traffic, paid search traffic, display traffic, etc.\n",
    "- Content data: information about the behavior of users on the site. This includes the URLs of pages that visitors look at, how they interact with content, etc.\n",
    "- Transactional data: information about the transactions that occur on the Google Merchandise Store website.\n",
    "\n",
    "Data includes records from August of 2016 through August of 2017. \n",
    "\n",
    "In the next blocks of this notebook, I will collect, describe, explore, and verify our data will be useful to meet our business objectives. \n"
   ],
   "cell_type": "markdown",
   "metadata": {}
  },
  {
   "source": [
    "--- \n",
    "\n",
    "**Collect**\n",
    "\n",
    "First, import dependancies and create Google Cloud client connection to my project through a BigQuery service account. This will give us access to make quries on the data see what is available.\n",
    "\n",
    "Creating a connection to Google BigQuery for the first time is a non-trivial task. While there is extensive documentation from Google Cloud Products, for those unfamiliar with the process and setup this will take some time to create a project_id, a service_account and configure python libraries with the connection parameters.\n",
    "\n",
    "Great instructions can be found [here](https://cloud.google.com/getting-started/) \n",
    "\n",
    "Additionally, please see the installation steps in the README file associated with this project."
   ],
   "cell_type": "markdown",
   "metadata": {}
  },
  {
   "cell_type": "code",
   "execution_count": 1,
   "metadata": {},
   "outputs": [
    {
     "output_type": "stream",
     "name": "stdout",
     "text": [
      "numpy = 1.19.1\npandas = 1.1.0\nbigquery = 1.22.0\n"
     ]
    }
   ],
   "source": [
    "import pandas as pd\n",
    "import numpy as np\n",
    "from google.cloud import bigquery\n",
    "from google.oauth2 import service_account\n",
    "import plotly.graph_objects as go\n",
    "import fohr_theme_light\n",
    "import chart_studio.plotly as py\n",
    "import statsmodels.api as sm\n",
    "pd.options.plotting.backend = 'plotly'\n",
    "\n",
    "# Connect to \n",
    "CREDENTIALS = service_account.Credentials.from_service_account_file('bigquery.json')\n",
    "PROJECT_ID = 'udacity-bigquery'\n",
    "CLIENT = bigquery.Client(credentials=CREDENTIALS, project=PROJECT_ID)\n",
    "\n",
    "print(f'numpy = {np.__version__}')\n",
    "print(f'pandas = {pd.__version__}')\n",
    "print(f'bigquery = {bigquery.__version__}')"
   ]
  },
  {
   "source": [
    "---\n",
    "\n",
    "**Describe** & **Explore**\n",
    "\n",
    "Let's take a look at what is stored in this data frame. Similar to AWS Athena, Google BigQuery has subtables inside columns. It can also auto-detect a schema on read for supported formats and allows for Nulls. "
   ],
   "cell_type": "markdown",
   "metadata": {}
  },
  {
   "cell_type": "code",
   "execution_count": 2,
   "metadata": {},
   "outputs": [
    {
     "output_type": "execute_result",
     "data": {
      "text/plain": [
       "             column_name                                          data_type\n",
       "0        channelGrouping                                             STRING\n",
       "1               clientId                                             STRING\n",
       "2       customDimensions           ARRAY<STRUCT<index INT64, value STRING>>\n",
       "3                   date                                             STRING\n",
       "4                 device  STRUCT<browser STRING, browserVersion STRING, ...\n",
       "5          fullVisitorId                                             STRING\n",
       "6             geoNetwork  STRUCT<continent STRING, subContinent STRING, ...\n",
       "7                   hits  ARRAY<STRUCT<hitNumber INT64, time INT64, hour...\n",
       "8                   hits  ARRAY<STRUCT<hitNumber INT64, time INT64, hour...\n",
       "9   socialEngagementType                                             STRING\n",
       "10                totals  STRUCT<visits INT64, hits INT64, pageviews INT...\n",
       "11         trafficSource  STRUCT<referralPath STRING, campaign STRING, s...\n",
       "12                userId                                             STRING\n",
       "13               visitId                                              INT64\n",
       "14           visitNumber                                              INT64\n",
       "15        visitStartTime                                              INT64\n",
       "16             visitorId                                              INT64"
      ],
      "text/html": "<div>\n<style scoped>\n    .dataframe tbody tr th:only-of-type {\n        vertical-align: middle;\n    }\n\n    .dataframe tbody tr th {\n        vertical-align: top;\n    }\n\n    .dataframe thead th {\n        text-align: right;\n    }\n</style>\n<table border=\"1\" class=\"dataframe\">\n  <thead>\n    <tr style=\"text-align: right;\">\n      <th></th>\n      <th>column_name</th>\n      <th>data_type</th>\n    </tr>\n  </thead>\n  <tbody>\n    <tr>\n      <th>0</th>\n      <td>channelGrouping</td>\n      <td>STRING</td>\n    </tr>\n    <tr>\n      <th>1</th>\n      <td>clientId</td>\n      <td>STRING</td>\n    </tr>\n    <tr>\n      <th>2</th>\n      <td>customDimensions</td>\n      <td>ARRAY&lt;STRUCT&lt;index INT64, value STRING&gt;&gt;</td>\n    </tr>\n    <tr>\n      <th>3</th>\n      <td>date</td>\n      <td>STRING</td>\n    </tr>\n    <tr>\n      <th>4</th>\n      <td>device</td>\n      <td>STRUCT&lt;browser STRING, browserVersion STRING, ...</td>\n    </tr>\n    <tr>\n      <th>5</th>\n      <td>fullVisitorId</td>\n      <td>STRING</td>\n    </tr>\n    <tr>\n      <th>6</th>\n      <td>geoNetwork</td>\n      <td>STRUCT&lt;continent STRING, subContinent STRING, ...</td>\n    </tr>\n    <tr>\n      <th>7</th>\n      <td>hits</td>\n      <td>ARRAY&lt;STRUCT&lt;hitNumber INT64, time INT64, hour...</td>\n    </tr>\n    <tr>\n      <th>8</th>\n      <td>hits</td>\n      <td>ARRAY&lt;STRUCT&lt;hitNumber INT64, time INT64, hour...</td>\n    </tr>\n    <tr>\n      <th>9</th>\n      <td>socialEngagementType</td>\n      <td>STRING</td>\n    </tr>\n    <tr>\n      <th>10</th>\n      <td>totals</td>\n      <td>STRUCT&lt;visits INT64, hits INT64, pageviews INT...</td>\n    </tr>\n    <tr>\n      <th>11</th>\n      <td>trafficSource</td>\n      <td>STRUCT&lt;referralPath STRING, campaign STRING, s...</td>\n    </tr>\n    <tr>\n      <th>12</th>\n      <td>userId</td>\n      <td>STRING</td>\n    </tr>\n    <tr>\n      <th>13</th>\n      <td>visitId</td>\n      <td>INT64</td>\n    </tr>\n    <tr>\n      <th>14</th>\n      <td>visitNumber</td>\n      <td>INT64</td>\n    </tr>\n    <tr>\n      <th>15</th>\n      <td>visitStartTime</td>\n      <td>INT64</td>\n    </tr>\n    <tr>\n      <th>16</th>\n      <td>visitorId</td>\n      <td>INT64</td>\n    </tr>\n  </tbody>\n</table>\n</div>"
     },
     "metadata": {},
     "execution_count": 2
    }
   ],
   "source": [
    "query = '''\n",
    "    SELECT distinct column_name, data_type\n",
    "    FROM `bigquery-public-data.google_analytics_sample.INFORMATION_SCHEMA.COLUMNS`\n",
    "    WHERE table_name like 'ga_sessions_%'\n",
    "    ORDER BY 1\n",
    "'''\n",
    "data = CLIENT.query(query).result().to_dataframe()\n",
    "data"
   ]
  },
  {
   "source": [
    "**Data Pull Function** \n",
    "\n",
    "To make further queries of the data, build a function to reduce repetition."
   ],
   "cell_type": "markdown",
   "metadata": {}
  },
  {
   "cell_type": "code",
   "execution_count": 3,
   "metadata": {},
   "outputs": [],
   "source": [
    "DF = pd.DataFrame()\n",
    "\n",
    "def get_data(query: str, client=CLIENT)-> DF:\n",
    "    \"\"\"\n",
    "    INPUT - query  = SQL-like query string to retrieve data from Google BigQuery\n",
    "            client = A google bigquery.client object set with your own credentials and project ID. \n",
    "                     Use variable named 'CLIENT' as a default or pass in your own client variable name.\n",
    "    \n",
    "    OUTPUT - Pandas DataFrame object\n",
    "    \n",
    "    Functions calls Google Cloud BigQuery and returns the results stored as a Pandas DataFrame.\n",
    "    \"\"\"\n",
    "    return client.query(query).result().to_dataframe()\n"
   ]
  },
  {
   "source": [
    "I can see that 7 of the 17 columns have a sub-structure with more data. Using a SQL-like sintax of `.` we can ultimately call these sub-column fields directly.\n",
    "\n",
    "Let's take a look at the first one.\n",
    "\n",
    "The `customDimensions` column has an `array` stored in each field. I can `UNNEST` the field and then use the `.` syntax to retrieve fields inside the column. In this case I will use the wildcard `*` to SELECT all the columns to view. "
   ],
   "cell_type": "markdown",
   "metadata": {}
  },
  {
   "cell_type": "code",
   "execution_count": 4,
   "metadata": {},
   "outputs": [
    {
     "output_type": "execute_result",
     "data": {
      "text/plain": [
       "   index          value\n",
       "0      4           APAC\n",
       "1      4  North America\n",
       "2      4           EMEA\n",
       "3      4           APAC\n",
       "4      4           EMEA"
      ],
      "text/html": "<div>\n<style scoped>\n    .dataframe tbody tr th:only-of-type {\n        vertical-align: middle;\n    }\n\n    .dataframe tbody tr th {\n        vertical-align: top;\n    }\n\n    .dataframe thead th {\n        text-align: right;\n    }\n</style>\n<table border=\"1\" class=\"dataframe\">\n  <thead>\n    <tr style=\"text-align: right;\">\n      <th></th>\n      <th>index</th>\n      <th>value</th>\n    </tr>\n  </thead>\n  <tbody>\n    <tr>\n      <th>0</th>\n      <td>4</td>\n      <td>APAC</td>\n    </tr>\n    <tr>\n      <th>1</th>\n      <td>4</td>\n      <td>North America</td>\n    </tr>\n    <tr>\n      <th>2</th>\n      <td>4</td>\n      <td>EMEA</td>\n    </tr>\n    <tr>\n      <th>3</th>\n      <td>4</td>\n      <td>APAC</td>\n    </tr>\n    <tr>\n      <th>4</th>\n      <td>4</td>\n      <td>EMEA</td>\n    </tr>\n  </tbody>\n</table>\n</div>"
     },
     "metadata": {},
     "execution_count": 4
    }
   ],
   "source": [
    "data = get_data(''' \n",
    "    SELECT cd.* \n",
    "    FROM `bigquery-public-data.google_analytics_sample.ga_sessions_*`, \n",
    "    UNNEST(customDimensions) cd \n",
    "    WHERE _TABLE_SUFFIX between '20160801' and '20160901' \n",
    "    LIMIT 5 \n",
    "    ''')\n",
    "data"
   ]
  },
  {
   "source": [
    "Hmmm.  I don't really know what `index` means. `value` is clearly a geo region, but it looks like that might also be stored in the `GeoNetwork` column.\n",
    "\n",
    "Let's look at another column."
   ],
   "cell_type": "markdown",
   "metadata": {}
  },
  {
   "cell_type": "code",
   "execution_count": 5,
   "metadata": {},
   "outputs": [
    {
     "output_type": "execute_result",
     "data": {
      "text/plain": [
       " \n",
       "2  not available in demo dataset     False  not available in demo dataset   \n",
       "3  not available in demo dataset     False  not available in demo dataset   \n",
       "4  not available in demo dataset     False  not available in demo dataset   \n",
       "\n",
       "               mobileDeviceModel            mobileInputSelector  \\\n",
       "0  not available in demo dataset  not available in demo dataset   \n",
       "1  not available in demo dataset  not available in demo dataset   \n",
       "2  not available in demo dataset  not available in demo dataset   \n",
       "3  not available in demo dataset  not available in demo dataset   \n",
       "4  not available in demo dataset  not available in demo dataset   \n",
       "\n",
       "                mobileDeviceInfo      mobileDeviceMarketingName  \\\n",
       "0  not available in demo dataset  not available in demo dataset   \n",
       "1  not available in demo dataset  not available in demo dataset   \n",
       "2  not available in demo dataset  not available in demo dataset   \n",
       "3  not available in demo dataset  not available in demo dataset   \n",
       "4  not available in demo dataset  not available in demo dataset   \n",
       "\n",
       "                    flashVersion javaEnabled                       language  \\\n",
       "0  not available in demo dataset        None  not available in demo dataset   \n",
       "1  not available in demo dataset        None  not available in demo dataset   \n",
       "2  not available in demo dataset        None  not available in demo dataset   \n",
       "3  not available in demo dataset        None  not available in demo dataset   \n",
       "4  not available in demo dataset        None  not available in demo dataset   \n",
       "\n",
       "                    screenColors               screenResolution deviceCategory  \n",
       "0  not available in demo dataset  not available in demo dataset         mobile  \n",
       "1  not available in demo dataset  not available in demo dataset        desktop  \n",
       "2  not available in demo dataset  not available in demo dataset        desktop  \n",
       "3  not available in demo dataset  not available in demo dataset        desktop  \n",
       "4  not available in demo dataset  not available in demo dataset        desktop  "
      ],
      "text/html": "<div>\n<style scoped>\n    .dataframe tbody tr th:only-of-type {\n        vertical-align: middle;\n    }\n\n    .dataframe tbody tr th {\n        vertical-align: top;\n    }\n\n    .dataframe thead th {\n        text-align: right;\n    }\n</style>\n<table border=\"1\" class=\"dataframe\">\n  <thead>\n    <tr style=\"text-align: right;\">\n      <th></th>\n      <th>visitorId</th>\n      <th>fullVisitorId</th>\n      <th>browser</th>\n      <th>browserVersion</th>\n      <th>browserSize</th>\n      <th>operatingSystem</th>\n      <th>operatingSystemVersion</th>\n      <th>isMobile</th>\n      <th>mobileDeviceBranding</th>\n      <th>mobileDeviceModel</th>\n      <th>mobileInputSelector</th>\n      <th>mobileDeviceInfo</th>\n      <th>mobileDeviceMarketingName</th>\n      <th>flashVersion</th>\n      <th>javaEnabled</th>\n      <th>language</th>\n      <th>screenColors</th>\n      <th>screenResolution</th>\n      <th>deviceCategory</th>\n    </tr>\n  </thead>\n  <tbody>\n    <tr>\n      <th>0</th>\n      <td>None</td>\n      <td>2558542945282276924</td>\n      <td>Chrome</td>\n      <td>not available in demo dataset</td>\n      <td>not available in demo dataset</td>\n      <td>Android</td>\n      <td>not available in demo dataset</td>\n      <td>True</td>\n      <td>not available in demo dataset</td>\n      <td>not available in demo dataset</td>\n      <td>not available in demo dataset</td>\n      <td>not available in demo dataset</td>\n      <td>not available in demo dataset</td>\n      <td>not available in demo dataset</td>\n      <td>None</td>\n      <td>not available in demo dataset</td>\n      <td>not available in demo dataset</td>\n      <td>not available in demo dataset</td>\n      <td>mobile</td>\n    </tr>\n    <tr>\n      <th>1</th>\n      <td>None</td>\n      <td>3559409406108279851</td>\n      <td>Chrome</td>\n      <td>not available in demo dataset</td>\n      <td>not available in demo dataset</td>\n      <td>Windows</td>\n      <td>not available in demo dataset</td>\n      <td>False</td>\n      <td>not available in demo dataset</td>\n      <td>not available in demo dataset</td>\n      <td>not available in demo dataset</td>\n      <td>not available in demo dataset</td>\n      <td>not available in demo dataset</td>\n      <td>not available in demo dataset</td>\n      <td>None</td>\n      <td>not available in demo dataset</td>\n      <td>not available in demo dataset</td>\n      <td>not available in demo dataset</td>\n      <td>desktop</td>\n    </tr>\n    <tr>\n      <th>2</th>\n      <td>None</td>\n      <td>1236280516298011032</td>\n      <td>Chrome</td>\n      <td>not available in demo dataset</td>\n      <td>not available in demo dataset</td>\n      <td>Macintosh</td>\n      <td>not available in demo dataset</td>\n      <td>False</td>\n      <td>not available in demo dataset</td>\n      <td>not available in demo dataset</td>\n      <td>not available in demo dataset</td>\n      <td>not available in demo dataset</td>\n      <td>not available in demo dataset</td>\n      <td>not available in demo dataset</td>\n      <td>None</td>\n      <td>not available in demo dataset</td>\n      <td>not available in demo dataset</td>\n      <td>not available in demo dataset</td>\n      <td>desktop</td>\n    </tr>\n    <tr>\n      <th>3</th>\n      <td>None</td>\n      <td>9717817368523884345</td>\n      <td>Chrome</td>\n      <td>not available in demo dataset</td>\n      <td>not available in demo dataset</td>\n      <td>Windows</td>\n      <td>not available in demo dataset</td>\n      <td>False</td>\n      <td>not available in demo dataset</td>\n      <td>not available in demo dataset</td>\n      <td>not available in demo dataset</td>\n      <td>not available in demo dataset</td>\n      <td>not available in demo dataset</td>\n      <td>not available in demo dataset</td>\n      <td>None</td>\n      <td>not available in demo dataset</td>\n      <td>not available in demo dataset</td>\n      <td>not available in demo dataset</td>\n      <td>desktop</td>\n    </tr>\n    <tr>\n      <th>4</th>\n      <td>None</td>\n      <td>9422257354738249512</td>\n      <td>Chrome</td>\n      <td>not available in demo dataset</td>\n      <td>not available in demo dataset</td>\n      <td>Macintosh</td>\n      <td>not available in demo dataset</td>\n      <td>False</td>\n      <td>not available in demo dataset</td>\n      <td>not available in demo dataset</td>\n      <td>not available in demo dataset</td>\n      <td>not available in demo dataset</td>\n      <td>not available in demo dataset</td>\n      <td>not available in demo dataset</td>\n      <td>None</td>\n      <td>not available in demo dataset</td>\n      <td>not available in demo dataset</td>\n      <td>not available in demo dataset</td>\n      <td>desktop</td>\n    </tr>\n  </tbody>\n</table>\n</div>"
     },
     "metadata": {},
     "execution_count": 5
    }
   ],
   "source": [
    "data = get_data(''' \n",
    "    SELECT visitorId, fullVisitorId, device.* \n",
    "    FROM `bigquery-public-data.google_analytics_sample.ga_sessions_*` \n",
    "    WHERE _TABLE_SUFFIX between '20160801' and '20160901' \n",
    "    LIMIT 5 \n",
    "    ''')\n",
    "data"
   ]
  },
  {
   "cell_type": "code",
   "execution_count": 6,
   "metadata": {},
   "outputs": [
    {
     "output_type": "execute_result",
     "data": {
      "text/plain": [
       "19"
      ]
     },
     "metadata": {},
     "execution_count": 6
    }
   ],
   "source": [
    "data.shape[1]"
   ]
  },
  {
   "source": [
    "Now that is a lot more information. The sub-fields in the `device` columns allows us to see information about the device connecting to the store. However, as this is a public dataset, much of the data has been removed. Many columns have `not available in demo dataset` as the only value in all fields. `browser`, `operatingSystem`, `isMobile` and `deviceCategory` remain. Although the last two seem to be redundant information.\n",
    "\n",
    "---\n",
    "\n"
   ],
   "cell_type": "markdown",
   "metadata": {}
  },
  {
   "cell_type": "code",
   "execution_count": 7,
   "metadata": {},
   "outputs": [
    {
     "output_type": "execute_result",
     "data": {
      "text/plain": [
       "fullVisitorId continent      subContinent        country  \\\n",
       "0      None  4187266305458832238  Americas  Northern America  United States   \n",
       "1      None  8768848781522423530    Europe    Eastern Europe         Russia   \n",
       "2      None  9342546397803278307    Europe    Eastern Europe         Russia   \n",
       "3      None  0924580349699227752  Americas  Northern America  United States   \n",
       "4      None  7272617006657421843  Americas  Northern America  United States   \n",
       "\n",
       "                          region                              metro  \\\n",
       "0  not available in demo dataset      not available in demo dataset   \n",
       "1  not available in demo dataset      not available in demo dataset   \n",
       "2  not available in demo dataset      not available in demo dataset   \n",
       "3                     California  San Francisco-Oakland-San Jose CA   \n",
       "4                     California  San Francisco-Oakland-San Jose CA   \n",
       "\n",
       "                            city                         cityId  \\\n",
       "0  not available in demo dataset  not available in demo dataset   \n",
       "1  not available in demo dataset  not available in demo dataset   \n",
       "2  not available in demo dataset  not available in demo dataset   \n",
       "3                  San Francisco  not available in demo dataset   \n",
       "4                  Mountain View  not available in demo dataset   \n",
       "\n",
       "     networkDomain                       latitude  \\\n",
       "0   mycingular.net  not available in demo dataset   \n",
       "1          sknt.ru  not available in demo dataset   \n",
       "2  unknown.unknown  not available in demo dataset   \n",
       "3        (not set)  not available in demo dataset   \n",
       "4        (not set)  not available in demo dataset   \n",
       "\n",
       "                       longitude                networkLocation  \n",
       "0  not available in demo dataset  not available in demo dataset  \n",
       "1  not available in demo dataset  not available in demo dataset  \n",
       "2  not available in demo dataset  not available in demo dataset  \n",
       "3  not available in demo dataset  not available in demo dataset  \n",
       "4  not available in demo dataset  not available in demo dataset  "
      ],
      "text/html": "<div>\n<style scoped>\n    .dataframe tbody tr th:only-of-type {\n        vertical-align: middle;\n    }\n\n    .dataframe tbody tr th {\n        vertical-align: top;\n    }\n\n    .dataframe thead th {\n        text-align: right;\n    }\n</style>\n<table border=\"1\" class=\"dataframe\">\n  <thead>\n    <tr style=\"text-align: right;\">\n      <th></th>\n      <th>visitorId</th>\n      <th>fullVisitorId</th>\n      <th>continent</th>\n      <th>subContinent</th>\n      <th>country</th>\n      <th>region</th>\n      <th>metro</th>\n      <th>city</th>\n      <th>cityId</th>\n      <th>networkDomain</th>\n      <th>latitude</th>\n      <th>longitude</th>\n      <th>networkLocation</th>\n    </tr>\n  </thead>\n  <tbody>\n    <tr>\n      <th>0</th>\n      <td>None</td>\n      <td>4187266305458832238</td>\n      <td>Americas</td>\n      <td>Northern America</td>\n      <td>United States</td>\n      <td>not available in demo dataset</td>\n      <td>not available in demo dataset</td>\n      <td>not available in demo dataset</td>\n      <td>not available in demo dataset</td>\n      <td>mycingular.net</td>\n      <td>not available in demo dataset</td>\n      <td>not available in demo dataset</td>\n      <td>not available in demo dataset</td>\n    </tr>\n    <tr>\n      <th>1</th>\n      <td>None</td>\n      <td>8768848781522423530</td>\n      <td>Europe</td>\n      <td>Eastern Europe</td>\n      <td>Russia</td>\n      <td>not available in demo dataset</td>\n      <td>not available in demo dataset</td>\n      <td>not available in demo dataset</td>\n      <td>not available in demo dataset</td>\n      <td>sknt.ru</td>\n      <td>not available in demo dataset</td>\n      <td>not available in demo dataset</td>\n      <td>not available in demo dataset</td>\n    </tr>\n    <tr>\n      <th>2</th>\n      <td>None</td>\n      <td>9342546397803278307</td>\n      <td>Europe</td>\n      <td>Eastern Europe</td>\n      <td>Russia</td>\n      <td>not available in demo dataset</td>\n      <td>not available in demo dataset</td>\n      <td>not available in demo dataset</td>\n      <td>not available in demo dataset</td>\n      <td>unknown.unknown</td>\n      <td>not available in demo dataset</td>\n      <td>not available in demo dataset</td>\n      <td>not available in demo dataset</td>\n    </tr>\n    <tr>\n      <th>3</th>\n      <td>None</td>\n      <td>0924580349699227752</td>\n      <td>Americas</td>\n      <td>Northern America</td>\n      <td>United States</td>\n      <td>California</td>\n      <td>San Francisco-Oakland-San Jose CA</td>\n      <td>San Francisco</td>\n      <td>not available in demo dataset</td>\n      <td>(not set)</td>\n      <td>not available in demo dataset</td>\n      <td>not available in demo dataset</td>\n      <td>not available in demo dataset</td>\n    </tr>\n    <tr>\n      <th>4</th>\n      <td>None</td>\n      <td>7272617006657421843</td>\n      <td>Americas</td>\n      <td>Northern America</td>\n      <td>United States</td>\n      <td>California</td>\n      <td>San Francisco-Oakland-San Jose CA</td>\n      <td>Mountain View</td>\n      <td>not available in demo dataset</td>\n      <td>(not set)</td>\n      <td>not available in demo dataset</td>\n      <td>not available in demo dataset</td>\n      <td>not available in demo dataset</td>\n    </tr>\n  </tbody>\n</table>\n</div>"
     },
     "metadata": {},
     "execution_count": 7
    }
   ],
   "source": [
    "data = get_data(''' \n",
    "    SELECT visitorId, fullVisitorId, geoNetwork.* \n",
    "    FROM `bigquery-public-data.google_analytics_sample.ga_sessions_*` \n",
    "    WHERE _TABLE_SUFFIX between '20160801' and '20160901' \n",
    "    LIMIT 5 \n",
    "    ''')\n",
    "data"
   ]
  },
  {
   "source": [
    "`geoNetwork` looks to be infomation about the location of the user. Only `latitude`, `longitude` and `networkLocation` have been removed. \n",
    "\n",
    "---\n"
   ],
   "cell_type": "markdown",
   "metadata": {}
  },
  {
   "cell_type": "code",
   "execution_count": 8,
   "metadata": {},
   "outputs": [
    {
     "output_type": "execute_result",
     "data": {
      "text/plain": [
       "846898396397          1     0    13      22     None           True   \n",
       "\n",
       "   isEntrance  isExit                                            referer  ...  \\\n",
       "0        True    True  https://www.google.com/url?sa=t&rct=j&q=&esrc=...  ...   \n",
       "1        True    True                             https://www.google.it/  ...   \n",
       "2        True    True  https://www.startpage.com/do/dsearch?query=goo...  ...   \n",
       "3        True    True                            https://www.google.com/  ...   \n",
       "4        True    True                            https://www.google.com/  ...   \n",
       "\n",
       "  customVariables customDimensions customMetrics  type  \\\n",
       "0              []               []            []  PAGE   \n",
       "1              []               []            []  PAGE   \n",
       "2              []               []            []  PAGE   \n",
       "3              []               []            []  PAGE   \n",
       "4              []               []            []  PAGE   \n",
       "\n",
       "                                              social latencyTracking  \\\n",
       "0  {'socialInteractionNetwork': None, 'socialInte...            None   \n",
       "1  {'socialInteractionNetwork': None, 'socialInte...            None   \n",
       "2  {'socialInteractionNetwork': None, 'socialInte...            None   \n",
       "3  {'socialInteractionNetwork': None, 'socialInte...            None   \n",
       "4  {'socialInteractionNetwork': None, 'socialInte...            None   \n",
       "\n",
       "  sourcePropertyInfo                                       contentGroup  \\\n",
       "0               None  {'contentGroup1': '(not set)', 'contentGroup2'...   \n",
       "1               None  {'contentGroup1': '(not set)', 'contentGroup2'...   \n",
       "2               None  {'contentGroup1': '(not set)', 'contentGroup2'...   \n",
       "3               None  {'contentGroup1': '(not set)', 'contentGroup2'...   \n",
       "4               None  {'contentGroup1': '(not set)', 'contentGroup2'...   \n",
       "\n",
       "  dataSource publisher_infos  \n",
       "0       None              []  \n",
       "1       None              []  \n",
       "2       None              []  \n",
       "3       None              []  \n",
       "4       None              []  \n",
       "\n",
       "[5 rows x 34 columns]"
      ],
      "text/html": "<div>\n<style scoped>\n    .dataframe tbody tr th:only-of-type {\n        vertical-align: middle;\n    }\n\n    .dataframe tbody tr th {\n        vertical-align: top;\n    }\n\n    .dataframe thead th {\n        text-align: right;\n    }\n</style>\n<table border=\"1\" class=\"dataframe\">\n  <thead>\n    <tr style=\"text-align: right;\">\n      <th></th>\n      <th>fullVisitorId</th>\n      <th>hitNumber</th>\n      <th>time</th>\n      <th>hour</th>\n      <th>minute</th>\n      <th>isSecure</th>\n      <th>isInteraction</th>\n      <th>isEntrance</th>\n      <th>isExit</th>\n      <th>referer</th>\n      <th>...</th>\n      <th>customVariables</th>\n      <th>customDimensions</th>\n      <th>customMetrics</th>\n      <th>type</th>\n      <th>social</th>\n      <th>latencyTracking</th>\n      <th>sourcePropertyInfo</th>\n      <th>contentGroup</th>\n      <th>dataSource</th>\n      <th>publisher_infos</th>\n    </tr>\n  </thead>\n  <tbody>\n    <tr>\n      <th>0</th>\n      <td>2053047893338047846</td>\n      <td>1</td>\n      <td>0</td>\n      <td>11</td>\n      <td>36</td>\n      <td>None</td>\n      <td>True</td>\n      <td>True</td>\n      <td>True</td>\n      <td>https://www.google.com/url?sa=t&amp;rct=j&amp;q=&amp;esrc=...</td>\n      <td>...</td>\n      <td>[]</td>\n      <td>[]</td>\n      <td>[]</td>\n      <td>PAGE</td>\n      <td>{'socialInteractionNetwork': None, 'socialInte...</td>\n      <td>None</td>\n      <td>None</td>\n      <td>{'contentGroup1': '(not set)', 'contentGroup2'...</td>\n      <td>None</td>\n      <td>[]</td>\n    </tr>\n    <tr>\n      <th>1</th>\n      <td>0646625287492885645</td>\n      <td>1</td>\n      <td>0</td>\n      <td>9</td>\n      <td>54</td>\n      <td>None</td>\n      <td>True</td>\n      <td>True</td>\n      <td>True</td>\n      <td>https://www.google.it/</td>\n      <td>...</td>\n      <td>[]</td>\n      <td>[]</td>\n      <td>[]</td>\n      <td>PAGE</td>\n      <td>{'socialInteractionNetwork': None, 'socialInte...</td>\n      <td>None</td>\n      <td>None</td>\n      <td>{'contentGroup1': '(not set)', 'contentGroup2'...</td>\n      <td>None</td>\n      <td>[]</td>\n    </tr>\n    <tr>\n      <th>2</th>\n      <td>0811339686180783981</td>\n      <td>1</td>\n      <td>0</td>\n      <td>9</td>\n      <td>49</td>\n      <td>None</td>\n      <td>True</td>\n      <td>True</td>\n      <td>True</td>\n      <td>https://www.startpage.com/do/dsearch?query=goo...</td>\n      <td>...</td>\n      <td>[]</td>\n      <td>[]</td>\n      <td>[]</td>\n      <td>PAGE</td>\n      <td>{'socialInteractionNetwork': None, 'socialInte...</td>\n      <td>None</td>\n      <td>None</td>\n      <td>{'contentGroup1': '(not set)', 'contentGroup2'...</td>\n      <td>None</td>\n      <td>[]</td>\n    </tr>\n    <tr>\n      <th>3</th>\n      <td>6773336867278757036</td>\n      <td>1</td>\n      <td>0</td>\n      <td>14</td>\n      <td>6</td>\n      <td>None</td>\n      <td>True</td>\n      <td>True</td>\n      <td>True</td>\n      <td>https://www.google.com/</td>\n      <td>...</td>\n      <td>[]</td>\n      <td>[]</td>\n      <td>[]</td>\n      <td>PAGE</td>\n      <td>{'socialInteractionNetwork': None, 'socialInte...</td>\n      <td>None</td>\n      <td>None</td>\n      <td>{'contentGroup1': '(not set)', 'contentGroup2'...</td>\n      <td>None</td>\n      <td>[]</td>\n    </tr>\n    <tr>\n      <th>4</th>\n      <td>8127921846898396397</td>\n      <td>1</td>\n      <td>0</td>\n      <td>13</td>\n      <td>22</td>\n      <td>None</td>\n      <td>True</td>\n      <td>True</td>\n      <td>True</td>\n      <td>https://www.google.com/</td>\n      <td>...</td>\n      <td>[]</td>\n      <td>[]</td>\n      <td>[]</td>\n      <td>PAGE</td>\n      <td>{'socialInteractionNetwork': None, 'socialInte...</td>\n      <td>None</td>\n      <td>None</td>\n      <td>{'contentGroup1': '(not set)', 'contentGroup2'...</td>\n      <td>None</td>\n      <td>[]</td>\n    </tr>\n  </tbody>\n</table>\n<p>5 rows × 34 columns</p>\n</div>"
     },
     "metadata": {},
     "execution_count": 8
    }
   ],
   "source": [
    "data = get_data(''' \n",
    "    SELECT fullVisitorId, h.* \n",
    "    FROM `bigquery-public-data.google_analytics_sample.ga_sessions_*`, \n",
    "    UNNEST(hits) h\n",
    "    WHERE _TABLE_SUFFIX between '20160801' and '20160901' \n",
    "    LIMIT 50\n",
    "    ''')\n",
    "data.head()"
   ]
  },
  {
   "cell_type": "code",
   "execution_count": 9,
   "metadata": {},
   "outputs": [
    {
     "output_type": "execute_result",
     "data": {
      "text/plain": [
       "34"
      ]
     },
     "metadata": {},
     "execution_count": 9
    }
   ],
   "source": [
    "data.shape[1]"
   ]
  },
  {
   "cell_type": "code",
   "execution_count": 10,
   "metadata": {},
   "outputs": [
    {
     "output_type": "execute_result",
     "data": {
      "text/plain": [
       "Index(['fullVisitorId', 'hitNumber', 'time', 'hour', 'minute', 'isSecure',\n",
       "       'isInteraction', 'isEntrance', 'isExit', 'referer', 'page',\n",
       "       'transaction', 'item', 'contentInfo', 'appInfo', 'exceptionInfo',\n",
       "       'eventInfo', 'product', 'promotion', 'promotionActionInfo', 'refund',\n",
       "       'eCommerceAction', 'experiment', 'publisher', 'customVariables',\n",
       "       'customDimensions', 'customMetrics', 'type', 'social',\n",
       "       'latencyTracking', 'sourcePropertyInfo', 'contentGroup', 'dataSource',\n",
       "       'publisher_infos'],\n",
       "      dtype='object')"
      ]
     },
     "metadata": {},
     "execution_count": 10
    }
   ],
   "source": [
    "data.columns"
   ]
  },
  {
   "cell_type": "code",
   "execution_count": 11,
   "metadata": {},
   "outputs": [
    {
     "output_type": "execute_result",
     "data": {
      "text/plain": [
       "{'pagePath': '/home',\n",
       " 'hostname': 'www.googlemerchandisestore.com',\n",
       " 'pageTitle': 'Google Online Store',\n",
       " 'searchKeyword': None,\n",
       " 'searchCategory': None,\n",
       " 'pagePathLevel1': '/home',\n",
       " 'pagePathLevel2': '',\n",
       " 'pagePathLevel3': '',\n",
       " 'pagePathLevel4': ''}"
      ]
     },
     "metadata": {},
     "execution_count": 11
    }
   ],
   "source": [
    "data['page'].values[4]"
   ]
  },
  {
   "cell_type": "code",
   "execution_count": 12,
   "metadata": {},
   "outputs": [
    {
     "output_type": "execute_result",
     "data": {
      "text/plain": [
       "0    https://www.google.com/url?sa=t&rct=j&q=&esrc=...\n",
       "1                               https://www.google.it/\n",
       "2    https://www.startpage.com/do/dsearch?query=goo...\n",
       "3                              https://www.google.com/\n",
       "4                              https://www.google.com/\n",
       "Name: referer, dtype: object"
      ]
     },
     "metadata": {},
     "execution_count": 12
    }
   ],
   "source": [
    "data['referer'].head()"
   ]
  },
  {
   "source": [
    "34 sub-fields of data in the `hits` column. Lots of great information in this column. However, like before many pieces have been removed. "
   ],
   "cell_type": "markdown",
   "metadata": {}
  },
  {
   "cell_type": "code",
   "execution_count": 13,
   "metadata": {},
   "outputs": [
    {
     "output_type": "execute_result",
     "data": {
      "text/plain": [
       "  visitorId        fullVisitorId  visits  hits  pageviews  timeOnSite bounces  \\\n",
       "0      None  1824326185009798244       1     5          5         510    None   \n",
       "1      None  6193340579732523713       1     6          6         258    None   \n",
       "2      None  9710825323738535026       1     5          5         291    None   \n",
       "3      None  3911433614163036483       1     4          4          37    None   \n",
       "4      None  5051442164305284284       1     4          4          97    None   \n",
       "\n",
       "  transactions transactionRevenue  newVisits screenviews uniqueScreenviews  \\\n",
       "0         None               None          1        None              None   \n",
       "1         None               None          1        None              None   \n",
       "2         None               None          1        None              None   \n",
       "3         None               None          1        None              None   \n",
       "4         None               None          1        None              None   \n",
       "\n",
       "  timeOnScreen totalTransactionRevenue sessionQualityDim  \n",
       "0         None                    None              None  \n",
       "1         None                    None              None  \n",
       "2         None                    None              None  \n",
       "3         None                    None              None  \n",
       "4         None                    None              None  "
      ],
      "text/html": "<div>\n<style scoped>\n    .dataframe tbody tr th:only-of-type {\n        vertical-align: middle;\n    }\n\n    .dataframe tbody tr th {\n        vertical-align: top;\n    }\n\n    .dataframe thead th {\n        text-align: right;\n    }\n</style>\n<table border=\"1\" class=\"dataframe\">\n  <thead>\n    <tr style=\"text-align: right;\">\n      <th></th>\n      <th>visitorId</th>\n      <th>fullVisitorId</th>\n      <th>visits</th>\n      <th>hits</th>\n      <th>pageviews</th>\n      <th>timeOnSite</th>\n      <th>bounces</th>\n      <th>transactions</th>\n      <th>transactionRevenue</th>\n      <th>newVisits</th>\n      <th>screenviews</th>\n      <th>uniqueScreenviews</th>\n      <th>timeOnScreen</th>\n      <th>totalTransactionRevenue</th>\n      <th>sessionQualityDim</th>\n    </tr>\n  </thead>\n  <tbody>\n    <tr>\n      <th>0</th>\n      <td>None</td>\n      <td>1824326185009798244</td>\n      <td>1</td>\n      <td>5</td>\n      <td>5</td>\n      <td>510</td>\n      <td>None</td>\n      <td>None</td>\n      <td>None</td>\n      <td>1</td>\n      <td>None</td>\n      <td>None</td>\n      <td>None</td>\n      <td>None</td>\n      <td>None</td>\n    </tr>\n    <tr>\n      <th>1</th>\n      <td>None</td>\n      <td>6193340579732523713</td>\n      <td>1</td>\n      <td>6</td>\n      <td>6</td>\n      <td>258</td>\n      <td>None</td>\n      <td>None</td>\n      <td>None</td>\n      <td>1</td>\n      <td>None</td>\n      <td>None</td>\n      <td>None</td>\n      <td>None</td>\n      <td>None</td>\n    </tr>\n    <tr>\n      <th>2</th>\n      <td>None</td>\n      <td>9710825323738535026</td>\n      <td>1</td>\n      <td>5</td>\n      <td>5</td>\n      <td>291</td>\n      <td>None</td>\n      <td>None</td>\n      <td>None</td>\n      <td>1</td>\n      <td>None</td>\n      <td>None</td>\n      <td>None</td>\n      <td>None</td>\n      <td>None</td>\n    </tr>\n    <tr>\n      <th>3</th>\n      <td>None</td>\n      <td>3911433614163036483</td>\n      <td>1</td>\n      <td>4</td>\n      <td>4</td>\n      <td>37</td>\n      <td>None</td>\n      <td>None</td>\n      <td>None</td>\n      <td>1</td>\n      <td>None</td>\n      <td>None</td>\n      <td>None</td>\n      <td>None</td>\n      <td>None</td>\n    </tr>\n    <tr>\n      <th>4</th>\n      <td>None</td>\n      <td>5051442164305284284</td>\n      <td>1</td>\n      <td>4</td>\n      <td>4</td>\n      <td>97</td>\n      <td>None</td>\n      <td>None</td>\n      <td>None</td>\n      <td>1</td>\n      <td>None</td>\n      <td>None</td>\n      <td>None</td>\n      <td>None</td>\n      <td>None</td>\n    </tr>\n  </tbody>\n</table>\n</div>"
     },
     "metadata": {},
     "execution_count": 13
    }
   ],
   "source": [
    "data = get_data(''' \n",
    "    SELECT visitorId, fullVisitorId, totals.* \n",
    "    FROM `bigquery-public-data.google_analytics_sample.ga_sessions_*` \n",
    "    WHERE _TABLE_SUFFIX between '20160801' and '20160901' \n",
    "    LIMIT 5 \n",
    "    ''')\n",
    "data"
   ]
  },
  {
   "cell_type": "code",
   "execution_count": 14,
   "metadata": {},
   "outputs": [
    {
     "output_type": "execute_result",
     "data": {
      "text/plain": [
       "15"
      ]
     },
     "metadata": {},
     "execution_count": 14
    }
   ],
   "source": [
    "data.shape[1]"
   ]
  },
  {
   "source": [
    "15 subfields in the `totals` column. Key here will be `transactions` and `transactionRevenue`."
   ],
   "cell_type": "markdown",
   "metadata": {}
  },
  {
   "cell_type": "code",
   "execution_count": 15,
   "metadata": {},
   "outputs": [
    {
     "output_type": "execute_result",
     "data": {
      "text/plain": [
       "  referralPath   campaign    source   medium         keyword adContent  \\\n",
       "0         None  (not set)    google  organic  (not provided)      None   \n",
       "1         None  (not set)    google  organic  (not provided)      None   \n",
       "2         None  (not set)  (direct)   (none)            None      None   \n",
       "3         None  (not set)    google  organic  (not provided)      None   \n",
       "4         None  (not set)    google  organic  (not provided)      None   \n",
       "\n",
       "                                    adwordsClickInfo isTrueDirect campaignCode  \n",
       "0  {'campaignId': None, 'adGroupId': None, 'creat...         None         None  \n",
       "1  {'campaignId': None, 'adGroupId': None, 'creat...         None         None  \n",
       "2  {'campaignId': None, 'adGroupId': None, 'creat...         True         None  \n",
       "3  {'campaignId': None, 'adGroupId': None, 'creat...         None         None  \n",
       "4  {'campaignId': None, 'adGroupId': None, 'creat...         None         None  "
      ],
      "text/html": "<div>\n<style scoped>\n    .dataframe tbody tr th:only-of-type {\n        vertical-align: middle;\n    }\n\n    .dataframe tbody tr th {\n        vertical-align: top;\n    }\n\n    .dataframe thead th {\n        text-align: right;\n    }\n</style>\n<table border=\"1\" class=\"dataframe\">\n  <thead>\n    <tr style=\"text-align: right;\">\n      <th></th>\n      <th>referralPath</th>\n      <th>campaign</th>\n      <th>source</th>\n      <th>medium</th>\n      <th>keyword</th>\n      <th>adContent</th>\n      <th>adwordsClickInfo</th>\n      <th>isTrueDirect</th>\n      <th>campaignCode</th>\n    </tr>\n  </thead>\n  <tbody>\n    <tr>\n      <th>0</th>\n      <td>None</td>\n      <td>(not set)</td>\n      <td>google</td>\n      <td>organic</td>\n      <td>(not provided)</td>\n      <td>None</td>\n      <td>{'campaignId': None, 'adGroupId': None, 'creat...</td>\n      <td>None</td>\n      <td>None</td>\n    </tr>\n    <tr>\n      <th>1</th>\n      <td>None</td>\n      <td>(not set)</td>\n      <td>google</td>\n      <td>organic</td>\n      <td>(not provided)</td>\n      <td>None</td>\n      <td>{'campaignId': None, 'adGroupId': None, 'creat...</td>\n      <td>None</td>\n      <td>None</td>\n    </tr>\n    <tr>\n      <th>2</th>\n      <td>None</td>\n      <td>(not set)</td>\n      <td>(direct)</td>\n      <td>(none)</td>\n      <td>None</td>\n      <td>None</td>\n      <td>{'campaignId': None, 'adGroupId': None, 'creat...</td>\n      <td>True</td>\n      <td>None</td>\n    </tr>\n    <tr>\n      <th>3</th>\n      <td>None</td>\n      <td>(not set)</td>\n      <td>google</td>\n      <td>organic</td>\n      <td>(not provided)</td>\n      <td>None</td>\n      <td>{'campaignId': None, 'adGroupId': None, 'creat...</td>\n      <td>None</td>\n      <td>None</td>\n    </tr>\n    <tr>\n      <th>4</th>\n      <td>None</td>\n      <td>(not set)</td>\n      <td>google</td>\n      <td>organic</td>\n      <td>(not provided)</td>\n      <td>None</td>\n      <td>{'campaignId': None, 'adGroupId': None, 'creat...</td>\n      <td>None</td>\n      <td>None</td>\n    </tr>\n  </tbody>\n</table>\n</div>"
     },
     "metadata": {},
     "execution_count": 15
    }
   ],
   "source": [
    "data = get_data(''' \n",
    "    SELECT trafficSource.* \n",
    "    FROM `bigquery-public-data.google_analytics_sample.ga_sessions_*` \n",
    "    WHERE _TABLE_SUFFIX between '20160801' and '20160901' \n",
    "    LIMIT 50\n",
    "    ''')\n",
    "data.head()"
   ]
  },
  {
   "cell_type": "code",
   "execution_count": 16,
   "metadata": {},
   "outputs": [
    {
     "output_type": "execute_result",
     "data": {
      "text/plain": [
       "9"
      ]
     },
     "metadata": {},
     "execution_count": 16
    }
   ],
   "source": [
    "data.shape[1]"
   ]
  },
  {
   "cell_type": "code",
   "execution_count": 17,
   "metadata": {},
   "outputs": [
    {
     "output_type": "execute_result",
     "data": {
      "text/plain": [
       "{'campaignId': None,\n",
       " 'adGroupId': None,\n",
       " 'creativeId': None,\n",
       " 'criteriaId': None,\n",
       " 'page': None,\n",
       " 'slot': None,\n",
       " 'criteriaParameters': 'not available in demo dataset',\n",
       " 'gclId': None,\n",
       " 'customerId': None,\n",
       " 'adNetworkType': None,\n",
       " 'targetingCriteria': None,\n",
       " 'isVideoAd': None}"
      ]
     },
     "metadata": {},
     "execution_count": 17
    }
   ],
   "source": [
    "data['adwordsClickInfo'].values[42]"
   ]
  },
  {
   "source": [
    "The `trafficSource` column also has interesting sub-fields to look at. Sadly it doesn't seem that `adwordsClickInfo` is one of them. \n",
    "\n",
    "---\n",
    "\n",
    "Finally lets look at the direct columns to see the type of data involved and better understand its meaning in context. "
   ],
   "cell_type": "markdown",
   "metadata": {}
  },
  {
   "cell_type": "code",
   "execution_count": 18,
   "metadata": {},
   "outputs": [
    {
     "output_type": "execute_result",
     "data": {
      "text/plain": [
       "          fullvisitorId channelGrouping clientId  socialEngagementType userId  \\\n",
       "29  0044028373383778376  Organic Search     None  Not Socially Engaged   None   \n",
       "45  6431427809350567522  Organic Search     None  Not Socially Engaged   None   \n",
       "41  1693160726448147902  Organic Search     None  Not Socially Engaged   None   \n",
       "6   0702494090355446159  Organic Search     None  Not Socially Engaged   None   \n",
       "11  8387781726885662321  Organic Search     None  Not Socially Engaged   None   \n",
       "\n",
       "       visitId  visitNumber  visitStartTime visitorId  \n",
       "29  1500596947            1      1500596947      None  \n",
       "45  1500560295            1      1500560295      None  \n",
       "41  1500595690            1      1500595690      None  \n",
       "6   1500572175            1      1500572175      None  \n",
       "11  1500562176            1      1500562176      None  "
      ],
      "text/html": "<div>\n<style scoped>\n    .dataframe tbody tr th:only-of-type {\n        vertical-align: middle;\n    }\n\n    .dataframe tbody tr th {\n        vertical-align: top;\n    }\n\n    .dataframe thead th {\n        text-align: right;\n    }\n</style>\n<table border=\"1\" class=\"dataframe\">\n  <thead>\n    <tr style=\"text-align: right;\">\n      <th></th>\n      <th>fullvisitorId</th>\n      <th>channelGrouping</th>\n      <th>clientId</th>\n      <th>socialEngagementType</th>\n      <th>userId</th>\n      <th>visitId</th>\n      <th>visitNumber</th>\n      <th>visitStartTime</th>\n      <th>visitorId</th>\n    </tr>\n  </thead>\n  <tbody>\n    <tr>\n      <th>29</th>\n      <td>0044028373383778376</td>\n      <td>Organic Search</td>\n      <td>None</td>\n      <td>Not Socially Engaged</td>\n      <td>None</td>\n      <td>1500596947</td>\n      <td>1</td>\n      <td>1500596947</td>\n      <td>None</td>\n    </tr>\n    <tr>\n      <th>45</th>\n      <td>6431427809350567522</td>\n      <td>Organic Search</td>\n      <td>None</td>\n      <td>Not Socially Engaged</td>\n      <td>None</td>\n      <td>1500560295</td>\n      <td>1</td>\n      <td>1500560295</td>\n      <td>None</td>\n    </tr>\n    <tr>\n      <th>41</th>\n      <td>1693160726448147902</td>\n      <td>Organic Search</td>\n      <td>None</td>\n      <td>Not Socially Engaged</td>\n      <td>None</td>\n      <td>1500595690</td>\n      <td>1</td>\n      <td>1500595690</td>\n      <td>None</td>\n    </tr>\n    <tr>\n      <th>6</th>\n      <td>0702494090355446159</td>\n      <td>Organic Search</td>\n      <td>None</td>\n      <td>Not Socially Engaged</td>\n      <td>None</td>\n      <td>1500572175</td>\n      <td>1</td>\n      <td>1500572175</td>\n      <td>None</td>\n    </tr>\n    <tr>\n      <th>11</th>\n      <td>8387781726885662321</td>\n      <td>Organic Search</td>\n      <td>None</td>\n      <td>Not Socially Engaged</td>\n      <td>None</td>\n      <td>1500562176</td>\n      <td>1</td>\n      <td>1500562176</td>\n      <td>None</td>\n    </tr>\n  </tbody>\n</table>\n</div>"
     },
     "metadata": {},
     "execution_count": 18
    }
   ],
   "source": [
    "data = get_data(''' \n",
    "    SELECT  fullvisitorId, channelGrouping, clientId, socialEngagementType, userId, visitId, visitNumber, visitStartTime, visitorId\t\n",
    "    FROM `bigquery-public-data.google_analytics_sample.ga_sessions_*` \n",
    "    WHERE _TABLE_SUFFIX between '20170701' and '20170801'\n",
    "    LIMIT 50\n",
    "    ''')\n",
    "data.sample(5)"
   ]
  },
  {
   "source": [
    "---\n",
    "\n",
    "**Verify** \n",
    "\n",
    "Interestingly I saw that `fullvisitorId` number 0288998128011317800 has `7` listed in visitNumber.  It is assumned that we have seen visitor: 0288998128011317800 at least 7 times.\n",
    "\n",
    "Let's verify the data to see if that means what I think it means. Let's pull the query back the full year and look for that `fullvisitorId` to see if we have more than one record and if the `visitNumber` increments accordingly. \n",
    "\n",
    "Understand that this visitor may have come to the site before the August 2016, but perhaps we can still see the visitor count increment. "
   ],
   "cell_type": "markdown",
   "metadata": {}
  },
  {
   "cell_type": "code",
   "execution_count": 19,
   "metadata": {},
   "outputs": [
    {
     "output_type": "execute_result",
     "data": {
      "text/plain": [
       "         fullvisitorId channelGrouping clientId  socialEngagementType userId  \\\n",
       "0  0288998128011317800  Organic Search     None  Not Socially Engaged   None   \n",
       "1  0288998128011317800  Organic Search     None  Not Socially Engaged   None   \n",
       "2  0288998128011317800  Organic Search     None  Not Socially Engaged   None   \n",
       "3  0288998128011317800  Organic Search     None  Not Socially Engaged   None   \n",
       "4  0288998128011317800  Organic Search     None  Not Socially Engaged   None   \n",
       "5  0288998128011317800  Organic Search     None  Not Socially Engaged   None   \n",
       "6  0288998128011317800  Organic Search     None  Not Socially Engaged   None   \n",
       "7  0288998128011317800  Organic Search     None  Not Socially Engaged   None   \n",
       "8  0288998128011317800  Organic Search     None  Not Socially Engaged   None   \n",
       "\n",
       "      visitId  visitNumber  visitStartTime visitorId  \n",
       "0  1492967657            4      1492967657      None  \n",
       "1  1498637120            6      1498637120      None  \n",
       "2  1500035030            8      1500035030      None  \n",
       "3  1492085541            2      1492085541      None  \n",
       "4  1494753995            5      1494753995      None  \n",
       "5  1498978602            7      1498979704      None  \n",
       "6  1492506599            3      1492506599      None  \n",
       "7  1498978602            7      1498978602      None  \n",
       "8  1491825966            1      1491825966      None  "
      ],
      "text/html": "<div>\n<style scoped>\n    .dataframe tbody tr th:only-of-type {\n        vertical-align: middle;\n    }\n\n    .dataframe tbody tr th {\n        vertical-align: top;\n    }\n\n    .dataframe thead th {\n        text-align: right;\n    }\n</style>\n<table border=\"1\" class=\"dataframe\">\n  <thead>\n    <tr style=\"text-align: right;\">\n      <th></th>\n      <th>fullvisitorId</th>\n      <th>channelGrouping</th>\n      <th>clientId</th>\n      <th>socialEngagementType</th>\n      <th>userId</th>\n      <th>visitId</th>\n      <th>visitNumber</th>\n      <th>visitStartTime</th>\n      <th>visitorId</th>\n    </tr>\n  </thead>\n  <tbody>\n    <tr>\n      <th>0</th>\n      <td>0288998128011317800</td>\n      <td>Organic Search</td>\n      <td>None</td>\n      <td>Not Socially Engaged</td>\n      <td>None</td>\n      <td>1492967657</td>\n      <td>4</td>\n      <td>1492967657</td>\n      <td>None</td>\n    </tr>\n    <tr>\n      <th>1</th>\n      <td>0288998128011317800</td>\n      <td>Organic Search</td>\n      <td>None</td>\n      <td>Not Socially Engaged</td>\n      <td>None</td>\n      <td>1498637120</td>\n      <td>6</td>\n      <td>1498637120</td>\n      <td>None</td>\n    </tr>\n    <tr>\n      <th>2</th>\n      <td>0288998128011317800</td>\n      <td>Organic Search</td>\n      <td>None</td>\n      <td>Not Socially Engaged</td>\n      <td>None</td>\n      <td>1500035030</td>\n      <td>8</td>\n      <td>1500035030</td>\n      <td>None</td>\n    </tr>\n    <tr>\n      <th>3</th>\n      <td>0288998128011317800</td>\n      <td>Organic Search</td>\n      <td>None</td>\n      <td>Not Socially Engaged</td>\n      <td>None</td>\n      <td>1492085541</td>\n      <td>2</td>\n      <td>1492085541</td>\n      <td>None</td>\n    </tr>\n    <tr>\n      <th>4</th>\n      <td>0288998128011317800</td>\n      <td>Organic Search</td>\n      <td>None</td>\n      <td>Not Socially Engaged</td>\n      <td>None</td>\n      <td>1494753995</td>\n      <td>5</td>\n      <td>1494753995</td>\n      <td>None</td>\n    </tr>\n    <tr>\n      <th>5</th>\n      <td>0288998128011317800</td>\n      <td>Organic Search</td>\n      <td>None</td>\n      <td>Not Socially Engaged</td>\n      <td>None</td>\n      <td>1498978602</td>\n      <td>7</td>\n      <td>1498979704</td>\n      <td>None</td>\n    </tr>\n    <tr>\n      <th>6</th>\n      <td>0288998128011317800</td>\n      <td>Organic Search</td>\n      <td>None</td>\n      <td>Not Socially Engaged</td>\n      <td>None</td>\n      <td>1492506599</td>\n      <td>3</td>\n      <td>1492506599</td>\n      <td>None</td>\n    </tr>\n    <tr>\n      <th>7</th>\n      <td>0288998128011317800</td>\n      <td>Organic Search</td>\n      <td>None</td>\n      <td>Not Socially Engaged</td>\n      <td>None</td>\n      <td>1498978602</td>\n      <td>7</td>\n      <td>1498978602</td>\n      <td>None</td>\n    </tr>\n    <tr>\n      <th>8</th>\n      <td>0288998128011317800</td>\n      <td>Organic Search</td>\n      <td>None</td>\n      <td>Not Socially Engaged</td>\n      <td>None</td>\n      <td>1491825966</td>\n      <td>1</td>\n      <td>1491825966</td>\n      <td>None</td>\n    </tr>\n  </tbody>\n</table>\n</div>"
     },
     "metadata": {},
     "execution_count": 19
    }
   ],
   "source": [
    "data = get_data(''' \n",
    "    SELECT  fullvisitorId, channelGrouping, clientId, socialEngagementType, userId, visitId, visitNumber, visitStartTime, visitorId\t\n",
    "    FROM `bigquery-public-data.google_analytics_sample.ga_sessions_*` \n",
    "    WHERE _TABLE_SUFFIX between '20160801' and '20170801' and fullvisitorId = '0288998128011317800'\n",
    "    LIMIT 50\n",
    "    ''')\n",
    "data"
   ]
  },
  {
   "source": [
    "Indeed we can see that this user has come to the size at least 8 times during the year we have data for. This confirms that we can use `visitNumber` in the way I assumed to help analyse the data.\n",
    "\n",
    "---\n",
    "\n",
    "Following this test, I will also test to be sure that dates also line up with this and look for transactionTotal amounts to determine if these are cumulative for the lifetime of the visitor.\n",
    "\n",
    "First I will need to find a visitor that has many visit and at least a couple of trnasactions.\n",
    "\n"
   ],
   "cell_type": "markdown",
   "metadata": {}
  },
  {
   "cell_type": "code",
   "execution_count": 20,
   "metadata": {},
   "outputs": [
    {
     "output_type": "execute_result",
     "data": {
      "text/plain": [
       "Empty DataFrame\n",
       "Columns: [fullvisitorId, f0_, f1_, f2_, f3_]\n",
       "Index: []"
      ],
      "text/html": "<div>\n<style scoped>\n    .dataframe tbody tr th:only-of-type {\n        vertical-align: middle;\n    }\n\n    .dataframe tbody tr th {\n        vertical-align: top;\n    }\n\n    .dataframe thead th {\n        text-align: right;\n    }\n</style>\n<table border=\"1\" class=\"dataframe\">\n  <thead>\n    <tr style=\"text-align: right;\">\n      <th></th>\n      <th>fullvisitorId</th>\n      <th>f0_</th>\n      <th>f1_</th>\n      <th>f2_</th>\n      <th>f3_</th>\n    </tr>\n  </thead>\n  <tbody>\n  </tbody>\n</table>\n</div>"
     },
     "metadata": {},
     "execution_count": 20
    }
   ],
   "source": [
    "data = get_data(''' \n",
    "    SELECT  fullvisitorId, AVG(visitNumber), sum(totals.transactions), sum(totals.transactionRevenue), sum(totals.totalTransactionRevenue)\n",
    "    FROM `bigquery-public-data.google_analytics_sample.ga_sessions_*` \n",
    "    WHERE _TABLE_SUFFIX between '20160801' and '20170801' and visitNumber > 1 and channelGrouping = 'Display'\n",
    "    GROUP BY fullvisitorId\n",
    "    LIMIT 50\n",
    "    ''')\n",
    "data.loc[data['f1_'].notna()]"
   ]
  },
  {
   "cell_type": "code",
   "execution_count": 21,
   "metadata": {},
   "outputs": [
    {
     "output_type": "execute_result",
     "data": {
      "text/plain": [
       "         fullvisitorId      date     visitId  visitNumber  visitStartTime  \\\n",
       "0  4085972867127024343  20161014  1476453496            1      1476453496   \n",
       "4  4085972867127024343  20161101  1478033380            2      1478033380   \n",
       "8  4085972867127024343  20161107  1478547833            3      1478547833   \n",
       "9  4085972867127024343  20161107  1478550684            4      1478550684   \n",
       "5  4085972867127024343  20161110  1478808651            7      1478808651   \n",
       "3  4085972867127024343  20161113  1479097793            8      1479097793   \n",
       "6  4085972867127024343  20161120  1479676039            9      1479676039   \n",
       "2  4085972867127024343  20161121  1479760240           10      1479760240   \n",
       "7  4085972867127024343  20161122  1479856417           11      1479856417   \n",
       "1  4085972867127024343  20161213  1481660216           12      1481660216   \n",
       "\n",
       "  visitorId  transactions  transactionRevenue  totalTransactionRevenue  \n",
       "0      None           NaN                 NaN                      NaN  \n",
       "4      None           NaN                 NaN                      NaN  \n",
       "8      None           NaN                 NaN                      NaN  \n",
       "9      None           1.0          19190000.0               26190000.0  \n",
       "5      None           NaN                 NaN                      NaN  \n",
       "3      None           1.0          19190000.0               24190000.0  \n",
       "6      None           NaN                 NaN                      NaN  \n",
       "2      None           NaN                 NaN                      NaN  \n",
       "7      None           1.0          23990000.0               29990000.0  \n",
       "1      None           1.0          19190000.0               22190000.0  "
      ],
      "text/html": "<div>\n<style scoped>\n    .dataframe tbody tr th:only-of-type {\n        vertical-align: middle;\n    }\n\n    .dataframe tbody tr th {\n        vertical-align: top;\n    }\n\n    .dataframe thead th {\n        text-align: right;\n    }\n</style>\n<table border=\"1\" class=\"dataframe\">\n  <thead>\n    <tr style=\"text-align: right;\">\n      <th></th>\n      <th>fullvisitorId</th>\n      <th>date</th>\n      <th>visitId</th>\n      <th>visitNumber</th>\n      <th>visitStartTime</th>\n      <th>visitorId</th>\n      <th>transactions</th>\n      <th>transactionRevenue</th>\n      <th>totalTransactionRevenue</th>\n    </tr>\n  </thead>\n  <tbody>\n    <tr>\n      <th>0</th>\n      <td>4085972867127024343</td>\n      <td>20161014</td>\n      <td>1476453496</td>\n      <td>1</td>\n      <td>1476453496</td>\n      <td>None</td>\n      <td>NaN</td>\n      <td>NaN</td>\n      <td>NaN</td>\n    </tr>\n    <tr>\n      <th>4</th>\n      <td>4085972867127024343</td>\n      <td>20161101</td>\n      <td>1478033380</td>\n      <td>2</td>\n      <td>1478033380</td>\n      <td>None</td>\n      <td>NaN</td>\n      <td>NaN</td>\n      <td>NaN</td>\n    </tr>\n    <tr>\n      <th>8</th>\n      <td>4085972867127024343</td>\n      <td>20161107</td>\n      <td>1478547833</td>\n      <td>3</td>\n      <td>1478547833</td>\n      <td>None</td>\n      <td>NaN</td>\n      <td>NaN</td>\n      <td>NaN</td>\n    </tr>\n    <tr>\n      <th>9</th>\n      <td>4085972867127024343</td>\n      <td>20161107</td>\n      <td>1478550684</td>\n      <td>4</td>\n      <td>1478550684</td>\n      <td>None</td>\n      <td>1.0</td>\n      <td>19190000.0</td>\n      <td>26190000.0</td>\n    </tr>\n    <tr>\n      <th>5</th>\n      <td>4085972867127024343</td>\n      <td>20161110</td>\n      <td>1478808651</td>\n      <td>7</td>\n      <td>1478808651</td>\n      <td>None</td>\n      <td>NaN</td>\n      <td>NaN</td>\n      <td>NaN</td>\n    </tr>\n    <tr>\n      <th>3</th>\n      <td>4085972867127024343</td>\n      <td>20161113</td>\n      <td>1479097793</td>\n      <td>8</td>\n      <td>1479097793</td>\n      <td>None</td>\n      <td>1.0</td>\n      <td>19190000.0</td>\n      <td>24190000.0</td>\n    </tr>\n    <tr>\n      <th>6</th>\n      <td>4085972867127024343</td>\n      <td>20161120</td>\n      <td>1479676039</td>\n      <td>9</td>\n      <td>1479676039</td>\n      <td>None</td>\n      <td>NaN</td>\n      <td>NaN</td>\n      <td>NaN</td>\n    </tr>\n    <tr>\n      <th>2</th>\n      <td>4085972867127024343</td>\n      <td>20161121</td>\n      <td>1479760240</td>\n      <td>10</td>\n      <td>1479760240</td>\n      <td>None</td>\n      <td>NaN</td>\n      <td>NaN</td>\n      <td>NaN</td>\n    </tr>\n    <tr>\n      <th>7</th>\n      <td>4085972867127024343</td>\n      <td>20161122</td>\n      <td>1479856417</td>\n      <td>11</td>\n      <td>1479856417</td>\n      <td>None</td>\n      <td>1.0</td>\n      <td>23990000.0</td>\n      <td>29990000.0</td>\n    </tr>\n    <tr>\n      <th>1</th>\n      <td>4085972867127024343</td>\n      <td>20161213</td>\n      <td>1481660216</td>\n      <td>12</td>\n      <td>1481660216</td>\n      <td>None</td>\n      <td>1.0</td>\n      <td>19190000.0</td>\n      <td>22190000.0</td>\n    </tr>\n  </tbody>\n</table>\n</div>"
     },
     "metadata": {},
     "execution_count": 21
    }
   ],
   "source": [
    "data = get_data(''' \n",
    "    SELECT  fullvisitorId, date, visitId, visitNumber, visitStartTime, visitorId, totals.transactions, totals.transactionRevenue, totals.totalTransactionRevenue\n",
    "    FROM `bigquery-public-data.google_analytics_sample.ga_sessions_*` \n",
    "    WHERE _TABLE_SUFFIX between '20160801' and '20170801' and fullvisitorId = '4085972867127024343'\n",
    "    LIMIT 50\n",
    "    ''')\n",
    "data.sort_values('visitNumber')"
   ]
  },
  {
   "source": [
    "Great. Now we can see that `totalTransactionRevenue` is not cumalitive across a visitors lifetime. In fact it looks like the value is incrementally higher than the `transactionRevenue` column. I think we can assume that a `totalTransactionRevenue` adds something like tax or shipping costs.\n",
    "\n",
    "----\n",
    "\n",
    "Now, can Transactions ever be more than 1 in a single record?  Meaning do transactions represent items in an order? "
   ],
   "cell_type": "markdown",
   "metadata": {}
  },
  {
   "cell_type": "code",
   "execution_count": 22,
   "metadata": {},
   "outputs": [
    {
     "output_type": "execute_result",
     "data": {
      "text/plain": [
       "   transactions\n",
       "0             6\n",
       "1             2\n",
       "2             2\n",
       "3             2\n",
       "4             2"
      ],
      "text/html": "<div>\n<style scoped>\n    .dataframe tbody tr th:only-of-type {\n        vertical-align: middle;\n    }\n\n    .dataframe tbody tr th {\n        vertical-align: top;\n    }\n\n    .dataframe thead th {\n        text-align: right;\n    }\n</style>\n<table border=\"1\" class=\"dataframe\">\n  <thead>\n    <tr style=\"text-align: right;\">\n      <th></th>\n      <th>transactions</th>\n    </tr>\n  </thead>\n  <tbody>\n    <tr>\n      <th>0</th>\n      <td>6</td>\n    </tr>\n    <tr>\n      <th>1</th>\n      <td>2</td>\n    </tr>\n    <tr>\n      <th>2</th>\n      <td>2</td>\n    </tr>\n    <tr>\n      <th>3</th>\n      <td>2</td>\n    </tr>\n    <tr>\n      <th>4</th>\n      <td>2</td>\n    </tr>\n  </tbody>\n</table>\n</div>"
     },
     "metadata": {},
     "execution_count": 22
    }
   ],
   "source": [
    "data = get_data(''' \n",
    "    SELECT totals.transactions\n",
    "    FROM `bigquery-public-data.google_analytics_sample.ga_sessions_*` \n",
    "    WHERE _TABLE_SUFFIX between '20160801' and '20170801' and totals.transactions > 1\n",
    "    LIMIT 50\n",
    "    ''')\n",
    "data.head()"
   ]
  },
  {
   "source": [
    "Indeed they do.  \n",
    "\n",
    "Now I know that transactions must have represent the number of items in an order. We can use this to look for visitors that purchase more than one item. "
   ],
   "cell_type": "markdown",
   "metadata": {}
  },
  {
   "source": [
    "--- \n",
    "\n",
    "## 3. Data Preperation \n",
    "\n",
    "In the next several blocks I will prepare the dataset for modeling and analysis. \n",
    "\n",
    "To refresh we are looking to answer these questions to solve our business objectives.\n",
    "\n",
    "### Three Questions of the data\n",
    "\n",
    "1. Do macOS/iOS affected by traffic source in the same way... organic, paid display. Are targeted ads less effective on iOS? \n",
    "\n",
    "2. Do macOS/iOS users purchase more than windows/android users?\n",
    "\n",
    "3. Is there a correlation of refering traffic to higher average order value?\n",
    "\n"
   ],
   "cell_type": "markdown",
   "metadata": {}
  },
  {
   "source": [
    "--- \n",
    "\n",
    "First give a sense of how much traffic is coming to the site. "
   ],
   "cell_type": "markdown",
   "metadata": {}
  },
  {
   "cell_type": "code",
   "execution_count": 23,
   "metadata": {},
   "outputs": [],
   "source": [
    "data = get_data(''' \n",
    "    SELECT device.operatingSystem, count(device.operatingSystem)\n",
    "    FROM `bigquery-public-data.google_analytics_sample.ga_sessions_*`\n",
    "    GROUP BY device.operatingSystem\n",
    "    ;\n",
    "    ''')"
   ]
  },
  {
   "cell_type": "code",
   "execution_count": 24,
   "metadata": {},
   "outputs": [],
   "source": [
    "data = data.loc[data['f0_']>5000].sort_values('f0_', ascending=False)"
   ]
  },
  {
   "cell_type": "code",
   "execution_count": 25,
   "metadata": {},
   "outputs": [],
   "source": [
    "data['f0_'] = data['f0_'].div(data['f0_'].sum(axis=0))"
   ]
  },
  {
   "cell_type": "code",
   "execution_count": 26,
   "metadata": {},
   "outputs": [
    {
     "output_type": "display_data",
     "data": {
      "text/html": "        <script type=\"text/javascript\">\n        window.PlotlyConfig = {MathJaxConfig: 'local'};\n        if (window.MathJax) {MathJax.Hub.Config({SVG: {font: \"STIX-Web\"}});}\n        if (typeof require !== 'undefined') {\n        require.undef(\"plotly\");\n        requirejs.config({\n            paths: {\n                'plotly': ['https://cdn.plot.ly/plotly-latest.min']\n            }\n        });\n        require(['plotly'], function(Plotly) {\n            window._Plotly = Plotly;\n        });\n        }\n        </script>\n        "
     },
     "metadata": {}
    },
    {
     "output_type": "display_data",
     "data": {
      "text/html": "<div>\n        \n        \n            <div id=\"d1795eaf-6d9f-4546-8efe-ec9d49a61802\" class=\"plotly-graph-div\" style=\"height:525px; width:100%;\"></div>\n            <script type=\"text/javascript\">\n                require([\"plotly\"], function(Plotly) {\n                    window.PLOTLYENV=window.PLOTLYENV || {};\n                    \n                if (document.getElementById(\"d1795eaf-6d9f-4546-8efe-ec9d49a61802\")) {\n                    Plotly.newPlot(\n                        'd1795eaf-6d9f-4546-8efe-ec9d49a61802',\n                        [{\"type\": \"bar\", \"x\": [\"Windows\", \"Macintosh\", \"Android\", \"iOS\", \"Linux\", \"Chrome OS\"], \"y\": [0.3902967652167708, 0.2831165587810975, 0.13812771897277182, 0.12003616749429727, 0.03905955595593007, 0.02936323357913256]}],\n                        {\"template\": {\"layout\": {\"annotationdefaults\": {\"arrowcolor\": \"#f2f5fa\", \"arrowhead\": 0, \"arrowwidth\": 1}, \"coloraxis\": {\"colorbar\": {\"outlinewidth\": 0, \"ticks\": \"\"}}, \"colorscale\": {\"diverging\": [[0, \"#8e0152\"], [0.1, \"#c51b7d\"], [0.2, \"#de77ae\"], [0.3, \"#f1b6da\"], [0.4, \"#fde0ef\"], [0.5, \"#f7f7f7\"], [0.6, \"#e6f5d0\"], [0.7, \"#b8e186\"], [0.8, \"#7fbc41\"], [0.9, \"#4d9221\"], [1, \"#276419\"]], \"sequential\": [[0.0, \"#0d0887\"], [0.1111111111111111, \"#46039f\"], [0.2222222222222222, \"#7201a8\"], [0.3333333333333333, \"#9c179e\"], [0.4444444444444444, \"#bd3786\"], [0.5555555555555556, \"#d8576b\"], [0.6666666666666666, \"#ed7953\"], [0.7777777777777778, \"#fb9f3a\"], [0.8888888888888888, \"#fdca26\"], [1.0, \"#f0f921\"]], \"sequentialminus\": [[0.0, \"#0d0887\"], [0.1111111111111111, \"#46039f\"], [0.2222222222222222, \"#7201a8\"], [0.3333333333333333, \"#9c179e\"], [0.4444444444444444, \"#bd3786\"], [0.5555555555555556, \"#d8576b\"], [0.6666666666666666, \"#ed7953\"], [0.7777777777777778, \"#fb9f3a\"], [0.8888888888888888, \"#fdca26\"], [1.0, \"#f0f921\"]]}, \"colorway\": [\"rgba(0, 203, 166, 0.7)\", \"rgba(168, 168, 168, 0.7)\", \"#19d3f3\", \"#00cc96\", \"#ab63fa\", \"#00CBA6\", \"#FF6692\", \"#B6E880\", \"#FF97FF\", \"#FECB52\"], \"font\": {\"color\": \"#2a3f5f\", \"family\": \"plain\"}, \"geo\": {\"bgcolor\": \"black\", \"lakecolor\": \"white\", \"landcolor\": \"white\", \"showlakes\": true, \"showland\": true, \"subunitcolor\": \"#506784\"}, \"hoverlabel\": {\"align\": \"left\"}, \"hovermode\": \"closest\", \"images\": [{\"layer\": \"below\", \"opacity\": 0.05, \"sizex\": 0.7, \"sizey\": 0.7, \"source\": \"https://product-derrick.s3.amazonaws.com/logoWhite.png\", \"x\": 0.15, \"xref\": \"paper\", \"y\": 0.75, \"yref\": \"paper\"}], \"mapbox\": {\"style\": \"light\"}, \"paper_bgcolor\": \"white\", \"plot_bgcolor\": \"white\", \"polar\": {\"angularaxis\": {\"gridcolor\": \"#506784\", \"linecolor\": \"#506784\", \"ticks\": \"\"}, \"bgcolor\": \"white\", \"radialaxis\": {\"gridcolor\": \"#506784\", \"linecolor\": \"#506784\", \"ticks\": \"\"}}, \"scene\": {\"xaxis\": {\"backgroundcolor\": \"white\", \"gridcolor\": \"#506784\", \"gridwidth\": 2, \"linecolor\": \"#506784\", \"showbackground\": true, \"ticks\": \"\", \"zerolinecolor\": \"#C8D4E3\"}, \"yaxis\": {\"backgroundcolor\": \"white\", \"gridcolor\": \"#506784\", \"gridwidth\": 2, \"linecolor\": \"#506784\", \"showbackground\": true, \"ticks\": \"\", \"zerolinecolor\": \"#C8D4E3\"}, \"zaxis\": {\"backgroundcolor\": \"rgb(17,17,17)\", \"gridcolor\": \"#506784\", \"gridwidth\": 2, \"linecolor\": \"#506784\", \"showbackground\": true, \"ticks\": \"\", \"zerolinecolor\": \"#C8D4E3\"}}, \"shapedefaults\": {\"line\": {\"color\": \"#f2f5fa\"}}, \"sliderdefaults\": {\"bgcolor\": \"#C8D4E3\", \"bordercolor\": \"rgb(17,17,17)\", \"borderwidth\": 1, \"tickwidth\": 0}, \"ternary\": {\"aaxis\": {\"gridcolor\": \"#506784\", \"linecolor\": \"#506784\", \"ticks\": \"\"}, \"baxis\": {\"gridcolor\": \"#506784\", \"linecolor\": \"#506784\", \"ticks\": \"\"}, \"bgcolor\": \"rgb(17,17,17)\", \"caxis\": {\"gridcolor\": \"#506784\", \"linecolor\": \"#506784\", \"ticks\": \"\"}}, \"title\": {\"font\": {\"size\": 24}, \"x\": 0.05}, \"updatemenudefaults\": {\"bgcolor\": \"#506784\", \"borderwidth\": 0}, \"xaxis\": {\"automargin\": true, \"gridcolor\": \"#DFE8F3\", \"linecolor\": \"#A2B1C6\", \"tickfont\": {\"color\": \"#2a3f5f\", \"family\": \"InterstateMono\", \"size\": 10}, \"ticks\": \"\", \"title\": {\"font\": {\"family\": \"Plain\", \"size\": 18}}, \"zerolinecolor\": \"#DFE8F3\", \"zerolinewidth\": 2}, \"yaxis\": {\"automargin\": true, \"gridcolor\": \"#DFE8F3\", \"linecolor\": \"#A2B1C6\", \"tickfont\": {\"color\": \"#2a3f5f\", \"family\": \"InterstateMono\", \"size\": 10}, \"ticks\": \"\", \"title\": {\"font\": {\"family\": \"plain\", \"size\": 18}}, \"zerolinecolor\": \"#DFE8F3\", \"zerolinewidth\": 2}}}, \"title\": {\"text\": \"Traffic by Operating System\"}, \"yaxis\": {\"tickformat\": \",.0%\"}},\n                        {\"responsive\": true}\n                    ).then(function(){\n                            \nvar gd = document.getElementById('d1795eaf-6d9f-4546-8efe-ec9d49a61802');\nvar x = new MutationObserver(function (mutations, observer) {{\n        var display = window.getComputedStyle(gd).display;\n        if (!display || display === 'none') {{\n            console.log([gd, 'removed!']);\n            Plotly.purge(gd);\n            observer.disconnect();\n        }}\n}});\n\n// Listen for the removal of the full notebook cells\nvar notebookContainer = gd.closest('#notebook-container');\nif (notebookContainer) {{\n    x.observe(notebookContainer, {childList: true});\n}}\n\n// Listen for the clearing of the current output cell\nvar outputEl = gd.closest('.output');\nif (outputEl) {{\n    x.observe(outputEl, {childList: true});\n}}\n\n                        })\n                };\n                });\n            </script>\n        </div>"
     },
     "metadata": {}
    }
   ],
   "source": [
    "fig = go.Figure()\n",
    "fig.add_trace(\n",
    "    go.Bar(\n",
    "        y=data['f0_'],\n",
    "        x=data['operatingSystem']\n",
    "    )\n",
    ")\n",
    "fig.update_layout(title='Traffic by Operating System')\n",
    "fig.update_yaxes(tickformat=',.0%',)\n",
    "fig.show(renderer='notebook_connected')"
   ]
  },
  {
   "cell_type": "code",
   "execution_count": 27,
   "metadata": {},
   "outputs": [],
   "source": [
    "# Send Figure to Plotly Chart Studio to share on embed\n",
    "# py.plot(fig, filename = 'udacity-web-traffic', sharing='public')"
   ]
  },
  {
   "cell_type": "code",
   "execution_count": 28,
   "metadata": {},
   "outputs": [],
   "source": [
    "data = get_data(''' \n",
    "    SELECT channelGrouping, device.operatingSystem\n",
    "    FROM `bigquery-public-data.google_analytics_sample.ga_sessions_*`\n",
    "    ;\n",
    "    ''')"
   ]
  },
  {
   "cell_type": "code",
   "execution_count": 29,
   "metadata": {},
   "outputs": [],
   "source": [
    "# Turn traffic source into dummy categories\n",
    "data = data.drop('channelGrouping', axis=1).join(pd.get_dummies(data['channelGrouping']))\n",
    "# Add total volume of traffic\n",
    "totals = data.groupby('operatingSystem').sum().sum(axis=1)\n",
    "# Get percentage of traffice from soruce\n",
    "data = data.groupby('operatingSystem').sum().div(data.groupby('operatingSystem').sum().sum(axis=1), axis=0)\n",
    "# Add totals onto DataFrame\n",
    "data['totals'] = totals\n",
    "# Sort Descending\n",
    "data.sort_values('totals', ascending=False, inplace=True)\n",
    "# Remove minor Operating Systems like Xbox and Windows Phone.\n",
    "data = data.loc[data['totals']>5000]"
   ]
  },
  {
   "cell_type": "code",
   "execution_count": 30,
   "metadata": {},
   "outputs": [
    {
     "output_type": "execute_result",
     "data": {
      "text/plain": [
       "                  (Other)  Affiliates    Direct   Display  Organic Search  \\\n",
       "operatingSystem                                                             \n",
       "Windows          0.000080    0.029762  0.114999  0.003222        0.416329   \n",
       "Macintosh        0.000165    0.015811  0.134419  0.009372        0.315431   \n",
       "Android          0.000178    0.008919  0.261163  0.007781        0.506433   \n",
       "iOS              0.000139    0.003920  0.190991  0.006799        0.658115   \n",
       "Linux            0.000257    0.009391  0.250243  0.018325        0.241480   \n",
       "Chrome OS        0.000114    0.003455  0.190910  0.015643        0.458784   \n",
       "\n",
       "                 Paid Search  Referral    Social    totals  \n",
       "operatingSystem                                             \n",
       "Windows             0.017956  0.065587  0.352065  350072.0  \n",
       "Macintosh           0.020619  0.221790  0.282392  253938.0  \n",
       "Android             0.051214  0.028872  0.135441  123892.0  \n",
       "iOS                 0.058357  0.018734  0.062945  107665.0  \n",
       "Linux               0.005652  0.376063  0.098590   35034.0  \n",
       "Chrome OS           0.036602  0.255344  0.039146   26337.0  "
      ],
      "text/html": "<div>\n<style scoped>\n    .dataframe tbody tr th:only-of-type {\n        vertical-align: middle;\n    }\n\n    .dataframe tbody tr th {\n        vertical-align: top;\n    }\n\n    .dataframe thead th {\n        text-align: right;\n    }\n</style>\n<table border=\"1\" class=\"dataframe\">\n  <thead>\n    <tr style=\"text-align: right;\">\n      <th></th>\n      <th>(Other)</th>\n      <th>Affiliates</th>\n      <th>Direct</th>\n      <th>Display</th>\n      <th>Organic Search</th>\n      <th>Paid Search</th>\n      <th>Referral</th>\n      <th>Social</th>\n      <th>totals</th>\n    </tr>\n    <tr>\n      <th>operatingSystem</th>\n      <th></th>\n      <th></th>\n      <th></th>\n      <th></th>\n      <th></th>\n      <th></th>\n      <th></th>\n      <th></th>\n      <th></th>\n    </tr>\n  </thead>\n  <tbody>\n    <tr>\n      <th>Windows</th>\n      <td>0.000080</td>\n      <td>0.029762</td>\n      <td>0.114999</td>\n      <td>0.003222</td>\n      <td>0.416329</td>\n      <td>0.017956</td>\n      <td>0.065587</td>\n      <td>0.352065</td>\n      <td>350072.0</td>\n    </tr>\n    <tr>\n      <th>Macintosh</th>\n      <td>0.000165</td>\n      <td>0.015811</td>\n      <td>0.134419</td>\n      <td>0.009372</td>\n      <td>0.315431</td>\n      <td>0.020619</td>\n      <td>0.221790</td>\n      <td>0.282392</td>\n      <td>253938.0</td>\n    </tr>\n    <tr>\n      <th>Android</th>\n      <td>0.000178</td>\n      <td>0.008919</td>\n      <td>0.261163</td>\n      <td>0.007781</td>\n      <td>0.506433</td>\n      <td>0.051214</td>\n      <td>0.028872</td>\n      <td>0.135441</td>\n      <td>123892.0</td>\n    </tr>\n    <tr>\n      <th>iOS</th>\n      <td>0.000139</td>\n      <td>0.003920</td>\n      <td>0.190991</td>\n      <td>0.006799</td>\n      <td>0.658115</td>\n      <td>0.058357</td>\n      <td>0.018734</td>\n      <td>0.062945</td>\n      <td>107665.0</td>\n    </tr>\n    <tr>\n      <th>Linux</th>\n      <td>0.000257</td>\n      <td>0.009391</td>\n      <td>0.250243</td>\n      <td>0.018325</td>\n      <td>0.241480</td>\n      <td>0.005652</td>\n      <td>0.376063</td>\n      <td>0.098590</td>\n      <td>35034.0</td>\n    </tr>\n    <tr>\n      <th>Chrome OS</th>\n      <td>0.000114</td>\n      <td>0.003455</td>\n      <td>0.190910</td>\n      <td>0.015643</td>\n      <td>0.458784</td>\n      <td>0.036602</td>\n      <td>0.255344</td>\n      <td>0.039146</td>\n      <td>26337.0</td>\n    </tr>\n  </tbody>\n</table>\n</div>"
     },
     "metadata": {},
     "execution_count": 30
    }
   ],
   "source": [
    "data"
   ]
  },
  {
   "cell_type": "code",
   "execution_count": 31,
   "metadata": {},
   "outputs": [],
   "source": [
    "# Reorder columns based on volume\n",
    "data = data[list(data.sum(axis=0).sort_values(ascending=False).index)]"
   ]
  },
  {
   "cell_type": "code",
   "execution_count": 32,
   "metadata": {},
   "outputs": [
    {
     "output_type": "display_data",
     "data": {
      "text/html": "        <script type=\"text/javascript\">\n        window.PlotlyConfig = {MathJaxConfig: 'local'};\n        if (window.MathJax) {MathJax.Hub.Config({SVG: {font: \"STIX-Web\"}});}\n        if (typeof require !== 'undefined') {\n        require.undef(\"plotly\");\n        requirejs.config({\n            paths: {\n                'plotly': ['https://cdn.plot.ly/plotly-latest.min']\n            }\n        });\n        require(['plotly'], function(Plotly) {\n            window._Plotly = Plotly;\n        });\n        }\n        </script>\n        "
     },
     "metadata": {}
    },
    {
     "output_type": "display_data",
     "data": {
      "text/html": "<div>\n        \n        \n            <div id=\"8350c60e-9fa2-4825-a1f9-906a53708867\" class=\"plotly-graph-div\" style=\"height:525px; width:100%;\"></div>\n            <script type=\"text/javascript\">\n                require([\"plotly\"], function(Plotly) {\n                    window.PLOTLYENV=window.PLOTLYENV || {};\n                    \n                if (document.getElementById(\"8350c60e-9fa2-4825-a1f9-906a53708867\")) {\n                    Plotly.newPlot(\n                        '8350c60e-9fa2-4825-a1f9-906a53708867',\n                        [{\"hovertext\": [350072.0, 253938.0, 123892.0, 107665.0, 35034.0, 26337.0], \"name\": \"Organic Search\", \"type\": \"bar\", \"x\": [\"Windows\", \"Macintosh\", \"Android\", \"iOS\", \"Linux\", \"Chrome OS\"], \"y\": [0.41632864096528716, 0.31543132575668076, 0.5064330223097536, 0.6581154507035712, 0.24147970542901182, 0.4587842199187455]}, {\"hovertext\": [350072.0, 253938.0, 123892.0, 107665.0, 35034.0, 26337.0], \"name\": \"Direct\", \"type\": \"bar\", \"x\": [\"Windows\", \"Macintosh\", \"Android\", \"iOS\", \"Linux\", \"Chrome OS\"], \"y\": [0.11499920016453759, 0.1344186376202065, 0.2611629483743906, 0.19099057260948313, 0.2502426214534452, 0.1909101264380909]}, {\"hovertext\": [350072.0, 253938.0, 123892.0, 107665.0, 35034.0, 26337.0], \"name\": \"Social\", \"type\": \"bar\", \"x\": [\"Windows\", \"Macintosh\", \"Android\", \"iOS\", \"Linux\", \"Chrome OS\"], \"y\": [0.3520647181151306, 0.282391764918996, 0.13544054499079844, 0.06294524683044629, 0.09858994119997716, 0.039146447962941866]}, {\"hovertext\": [350072.0, 253938.0, 123892.0, 107665.0, 35034.0, 26337.0], \"name\": \"Referral\", \"type\": \"bar\", \"x\": [\"Windows\", \"Macintosh\", \"Android\", \"iOS\", \"Linux\", \"Chrome OS\"], \"y\": [0.06558650791837108, 0.22179035827642968, 0.028871920705130276, 0.018734036130590256, 0.37606325284009817, 0.2553441925807799]}, {\"hovertext\": [350072.0, 253938.0, 123892.0, 107665.0, 35034.0, 26337.0], \"name\": \"Paid Search\", \"type\": \"bar\", \"x\": [\"Windows\", \"Macintosh\", \"Android\", \"iOS\", \"Linux\", \"Chrome OS\"], \"y\": [0.01795630613131013, 0.020619206262946072, 0.051213960546282244, 0.058356940509915016, 0.005651652680253468, 0.03660249838630064]}, {\"hovertext\": [350072.0, 253938.0, 123892.0, 107665.0, 35034.0, 26337.0], \"name\": \"Affiliates\", \"type\": \"bar\", \"x\": [\"Windows\", \"Macintosh\", \"Android\", \"iOS\", \"Linux\", \"Chrome OS\"], \"y\": [0.02976244886766151, 0.01581094597893974, 0.008919058534852937, 0.003919565318348581, 0.00939087743335046, 0.0034552150966321144]}],\n                        {\"template\": {\"layout\": {\"annotationdefaults\": {\"arrowcolor\": \"#f2f5fa\", \"arrowhead\": 0, \"arrowwidth\": 1}, \"coloraxis\": {\"colorbar\": {\"outlinewidth\": 0, \"ticks\": \"\"}}, \"colorscale\": {\"diverging\": [[0, \"#8e0152\"], [0.1, \"#c51b7d\"], [0.2, \"#de77ae\"], [0.3, \"#f1b6da\"], [0.4, \"#fde0ef\"], [0.5, \"#f7f7f7\"], [0.6, \"#e6f5d0\"], [0.7, \"#b8e186\"], [0.8, \"#7fbc41\"], [0.9, \"#4d9221\"], [1, \"#276419\"]], \"sequential\": [[0.0, \"#0d0887\"], [0.1111111111111111, \"#46039f\"], [0.2222222222222222, \"#7201a8\"], [0.3333333333333333, \"#9c179e\"], [0.4444444444444444, \"#bd3786\"], [0.5555555555555556, \"#d8576b\"], [0.6666666666666666, \"#ed7953\"], [0.7777777777777778, \"#fb9f3a\"], [0.8888888888888888, \"#fdca26\"], [1.0, \"#f0f921\"]], \"sequentialminus\": [[0.0, \"#0d0887\"], [0.1111111111111111, \"#46039f\"], [0.2222222222222222, \"#7201a8\"], [0.3333333333333333, \"#9c179e\"], [0.4444444444444444, \"#bd3786\"], [0.5555555555555556, \"#d8576b\"], [0.6666666666666666, \"#ed7953\"], [0.7777777777777778, \"#fb9f3a\"], [0.8888888888888888, \"#fdca26\"], [1.0, \"#f0f921\"]]}, \"colorway\": [\"rgba(0, 203, 166, 0.7)\", \"rgba(168, 168, 168, 0.7)\", \"#19d3f3\", \"#00cc96\", \"#ab63fa\", \"#00CBA6\", \"#FF6692\", \"#B6E880\", \"#FF97FF\", \"#FECB52\"], \"font\": {\"color\": \"#2a3f5f\", \"family\": \"plain\"}, \"geo\": {\"bgcolor\": \"black\", \"lakecolor\": \"white\", \"landcolor\": \"white\", \"showlakes\": true, \"showland\": true, \"subunitcolor\": \"#506784\"}, \"hoverlabel\": {\"align\": \"left\"}, \"hovermode\": \"closest\", \"images\": [{\"layer\": \"below\", \"opacity\": 0.05, \"sizex\": 0.7, \"sizey\": 0.7, \"source\": \"https://product-derrick.s3.amazonaws.com/logoWhite.png\", \"x\": 0.15, \"xref\": \"paper\", \"y\": 0.75, \"yref\": \"paper\"}], \"mapbox\": {\"style\": \"light\"}, \"paper_bgcolor\": \"white\", \"plot_bgcolor\": \"white\", \"polar\": {\"angularaxis\": {\"gridcolor\": \"#506784\", \"linecolor\": \"#506784\", \"ticks\": \"\"}, \"bgcolor\": \"white\", \"radialaxis\": {\"gridcolor\": \"#506784\", \"linecolor\": \"#506784\", \"ticks\": \"\"}}, \"scene\": {\"xaxis\": {\"backgroundcolor\": \"white\", \"gridcolor\": \"#506784\", \"gridwidth\": 2, \"linecolor\": \"#506784\", \"showbackground\": true, \"ticks\": \"\", \"zerolinecolor\": \"#C8D4E3\"}, \"yaxis\": {\"backgroundcolor\": \"white\", \"gridcolor\": \"#506784\", \"gridwidth\": 2, \"linecolor\": \"#506784\", \"showbackground\": true, \"ticks\": \"\", \"zerolinecolor\": \"#C8D4E3\"}, \"zaxis\": {\"backgroundcolor\": \"rgb(17,17,17)\", \"gridcolor\": \"#506784\", \"gridwidth\": 2, \"linecolor\": \"#506784\", \"showbackground\": true, \"ticks\": \"\", \"zerolinecolor\": \"#C8D4E3\"}}, \"shapedefaults\": {\"line\": {\"color\": \"#f2f5fa\"}}, \"sliderdefaults\": {\"bgcolor\": \"#C8D4E3\", \"bordercolor\": \"rgb(17,17,17)\", \"borderwidth\": 1, \"tickwidth\": 0}, \"ternary\": {\"aaxis\": {\"gridcolor\": \"#506784\", \"linecolor\": \"#506784\", \"ticks\": \"\"}, \"baxis\": {\"gridcolor\": \"#506784\", \"linecolor\": \"#506784\", \"ticks\": \"\"}, \"bgcolor\": \"rgb(17,17,17)\", \"caxis\": {\"gridcolor\": \"#506784\", \"linecolor\": \"#506784\", \"ticks\": \"\"}}, \"title\": {\"font\": {\"size\": 24}, \"x\": 0.05}, \"updatemenudefaults\": {\"bgcolor\": \"#506784\", \"borderwidth\": 0}, \"xaxis\": {\"automargin\": true, \"gridcolor\": \"#DFE8F3\", \"linecolor\": \"#A2B1C6\", \"tickfont\": {\"color\": \"#2a3f5f\", \"family\": \"InterstateMono\", \"size\": 10}, \"ticks\": \"\", \"title\": {\"font\": {\"family\": \"Plain\", \"size\": 18}}, \"zerolinecolor\": \"#DFE8F3\", \"zerolinewidth\": 2}, \"yaxis\": {\"automargin\": true, \"gridcolor\": \"#DFE8F3\", \"linecolor\": \"#A2B1C6\", \"tickfont\": {\"color\": \"#2a3f5f\", \"family\": \"InterstateMono\", \"size\": 10}, \"ticks\": \"\", \"title\": {\"font\": {\"family\": \"plain\", \"size\": 18}}, \"zerolinecolor\": \"#DFE8F3\", \"zerolinewidth\": 2}}}, \"title\": {\"text\": \"Refering Source by Operating System\"}, \"yaxis\": {\"tickformat\": \",.0%\"}},\n                        {\"responsive\": true}\n                    ).then(function(){\n                            \nvar gd = document.getElementById('8350c60e-9fa2-4825-a1f9-906a53708867');\nvar x = new MutationObserver(function (mutations, observer) {{\n        var display = window.getComputedStyle(gd).display;\n        if (!display || display === 'none') {{\n            console.log([gd, 'removed!']);\n            Plotly.purge(gd);\n            observer.disconnect();\n        }}\n}});\n\n// Listen for the removal of the full notebook cells\nvar notebookContainer = gd.closest('#notebook-container');\nif (notebookContainer) {{\n    x.observe(notebookContainer, {childList: true});\n}}\n\n// Listen for the clearing of the current output cell\nvar outputEl = gd.closest('.output');\nif (outputEl) {{\n    x.observe(outputEl, {childList: true});\n}}\n\n                        })\n                };\n                });\n            </script>\n        </div>"
     },
     "metadata": {}
    }
   ],
   "source": [
    "refer_by_os_fig = go.Figure()\n",
    "\n",
    "for i in data.columns[1:-2]:\n",
    "    refer_by_os_fig.add_trace(\n",
    "        go.Bar(\n",
    "            x=data.index,\n",
    "            y=data[i],\n",
    "            name = i,\n",
    "            hovertext=data['totals']\n",
    "        )\n",
    "    )\n",
    "refer_by_os_fig.update_layout(title='Refering Source by Operating System')\n",
    "refer_by_os_fig.update_yaxes(tickformat=',.0%',)\n",
    "refer_by_os_fig.show(renderer='notebook_connected')"
   ]
  },
  {
   "source": [
    "That's a little busy.  Let's boil this down to paid and unpaid and show just what we are looking for. "
   ],
   "cell_type": "markdown",
   "metadata": {}
  },
  {
   "cell_type": "code",
   "execution_count": 33,
   "metadata": {},
   "outputs": [
    {
     "output_type": "stream",
     "name": "stderr",
     "text": [
      "<ipython-input-33-9f6d69e33808>:1: SettingWithCopyWarning:\n\n\nA value is trying to be set on a copy of a slice from a DataFrame.\nTry using .loc[row_indexer,col_indexer] = value instead\n\nSee the caveats in the documentation: https://pandas.pydata.org/pandas-docs/stable/user_guide/indexing.html#returning-a-view-versus-a-copy\n\n<ipython-input-33-9f6d69e33808>:2: SettingWithCopyWarning:\n\n\nA value is trying to be set on a copy of a slice from a DataFrame.\nTry using .loc[row_indexer,col_indexer] = value instead\n\nSee the caveats in the documentation: https://pandas.pydata.org/pandas-docs/stable/user_guide/indexing.html#returning-a-view-versus-a-copy\n\n"
     ]
    }
   ],
   "source": [
    "data['Unpaid'] = data['Organic Search'] + data['Direct'] + data['Referral'] + data['Social']\n",
    "data['Paid'] = data['Paid Search'] + data['Affiliates'] + data['Display']"
   ]
  },
  {
   "cell_type": "code",
   "execution_count": 34,
   "metadata": {},
   "outputs": [
    {
     "output_type": "execute_result",
     "data": {
      "text/plain": [
       "                   totals  Organic Search    Direct    Social  Referral  \\\n",
       "operatingSystem                                                           \n",
       "Windows          350072.0        0.416329  0.114999  0.352065  0.065587   \n",
       "Macintosh        253938.0        0.315431  0.134419  0.282392  0.221790   \n",
       "Android          123892.0        0.506433  0.261163  0.135441  0.028872   \n",
       "iOS              107665.0        0.658115  0.190991  0.062945  0.018734   \n",
       "Linux             35034.0        0.241480  0.250243  0.098590  0.376063   \n",
       "Chrome OS         26337.0        0.458784  0.190910  0.039146  0.255344   \n",
       "\n",
       "                 Paid Search  Affiliates   Display   (Other)    Unpaid  \\\n",
       "operatingSystem                                                          \n",
       "Windows             0.017956    0.029762  0.003222  0.000080  0.948979   \n",
       "Macintosh           0.020619    0.015811  0.009372  0.000165  0.954032   \n",
       "Android             0.051214    0.008919  0.007781  0.000178  0.931908   \n",
       "iOS                 0.058357    0.003920  0.006799  0.000139  0.930785   \n",
       "Linux               0.005652    0.009391  0.018325  0.000257  0.966376   \n",
       "Chrome OS           0.036602    0.003455  0.015643  0.000114  0.944185   \n",
       "\n",
       "                     Paid  \n",
       "operatingSystem            \n",
       "Windows          0.050941  \n",
       "Macintosh        0.045803  \n",
       "Android          0.067914  \n",
       "iOS              0.069075  \n",
       "Linux            0.033368  \n",
       "Chrome OS        0.055701  "
      ],
      "text/html": "<div>\n<style scoped>\n    .dataframe tbody tr th:only-of-type {\n        vertical-align: middle;\n    }\n\n    .dataframe tbody tr th {\n        vertical-align: top;\n    }\n\n    .dataframe thead th {\n        text-align: right;\n    }\n</style>\n<table border=\"1\" class=\"dataframe\">\n  <thead>\n    <tr style=\"text-align: right;\">\n      <th></th>\n      <th>totals</th>\n      <th>Organic Search</th>\n      <th>Direct</th>\n      <th>Social</th>\n      <th>Referral</th>\n      <th>Paid Search</th>\n      <th>Affiliates</th>\n      <th>Display</th>\n      <th>(Other)</th>\n      <th>Unpaid</th>\n      <th>Paid</th>\n    </tr>\n    <tr>\n      <th>operatingSystem</th>\n      <th></th>\n      <th></th>\n      <th></th>\n      <th></th>\n      <th></th>\n      <th></th>\n      <th></th>\n      <th></th>\n      <th></th>\n      <th></th>\n      <th></th>\n    </tr>\n  </thead>\n  <tbody>\n    <tr>\n      <th>Windows</th>\n      <td>350072.0</td>\n      <td>0.416329</td>\n      <td>0.114999</td>\n      <td>0.352065</td>\n      <td>0.065587</td>\n      <td>0.017956</td>\n      <td>0.029762</td>\n      <td>0.003222</td>\n      <td>0.000080</td>\n      <td>0.948979</td>\n      <td>0.050941</td>\n    </tr>\n    <tr>\n      <th>Macintosh</th>\n      <td>253938.0</td>\n      <td>0.315431</td>\n      <td>0.134419</td>\n      <td>0.282392</td>\n      <td>0.221790</td>\n      <td>0.020619</td>\n      <td>0.015811</td>\n      <td>0.009372</td>\n      <td>0.000165</td>\n      <td>0.954032</td>\n      <td>0.045803</td>\n    </tr>\n    <tr>\n      <th>Android</th>\n      <td>123892.0</td>\n      <td>0.506433</td>\n      <td>0.261163</td>\n      <td>0.135441</td>\n      <td>0.028872</td>\n      <td>0.051214</td>\n      <td>0.008919</td>\n      <td>0.007781</td>\n      <td>0.000178</td>\n      <td>0.931908</td>\n      <td>0.067914</td>\n    </tr>\n    <tr>\n      <th>iOS</th>\n      <td>107665.0</td>\n      <td>0.658115</td>\n      <td>0.190991</td>\n      <td>0.062945</td>\n      <td>0.018734</td>\n      <td>0.058357</td>\n      <td>0.003920</td>\n      <td>0.006799</td>\n      <td>0.000139</td>\n      <td>0.930785</td>\n      <td>0.069075</td>\n    </tr>\n    <tr>\n      <th>Linux</th>\n      <td>35034.0</td>\n      <td>0.241480</td>\n      <td>0.250243</td>\n      <td>0.098590</td>\n      <td>0.376063</td>\n      <td>0.005652</td>\n      <td>0.009391</td>\n      <td>0.018325</td>\n      <td>0.000257</td>\n      <td>0.966376</td>\n      <td>0.033368</td>\n    </tr>\n    <tr>\n      <th>Chrome OS</th>\n      <td>26337.0</td>\n      <td>0.458784</td>\n      <td>0.190910</td>\n      <td>0.039146</td>\n      <td>0.255344</td>\n      <td>0.036602</td>\n      <td>0.003455</td>\n      <td>0.015643</td>\n      <td>0.000114</td>\n      <td>0.944185</td>\n      <td>0.055701</td>\n    </tr>\n  </tbody>\n</table>\n</div>"
     },
     "metadata": {},
     "execution_count": 34
    }
   ],
   "source": [
    "data"
   ]
  },
  {
   "source": [
    "This looks ready to help us evaluate our business questions. Let's save this dataframe and continue preparing data for other parts of our business objectives. "
   ],
   "cell_type": "markdown",
   "metadata": {}
  },
  {
   "cell_type": "code",
   "execution_count": 35,
   "metadata": {},
   "outputs": [],
   "source": [
    "traffic_by_os = data.copy()"
   ]
  },
  {
   "source": [
    "## Did visitors who came to the site via paid source have a higher rate of transaction? \n",
    "\n",
    "First lets check the data to test that we can see the source as a result of a transaction. The key point is to see if the data maintains the value of source even on second and third visits. Perhaps the user was brought to the site through a piad visit initially and subsequently made a purchase on another visit as a direct visitor. "
   ],
   "cell_type": "markdown",
   "metadata": {}
  },
  {
   "cell_type": "code",
   "execution_count": 36,
   "metadata": {},
   "outputs": [
    {
     "output_type": "execute_result",
     "data": {
      "text/plain": [
       "         fullvisitorId channelGrouping operatingSystem      date     visitId  \\\n",
       "0  4085972867127024343        Referral       Macintosh  20161101  1478033380   \n",
       "1  4085972867127024343        Referral       Macintosh  20161110  1478808651   \n",
       "2  4085972867127024343        Referral       Macintosh  20161121  1479760240   \n",
       "3  4085972867127024343        Referral       Macintosh  20161107  1478547833   \n",
       "4  4085972867127024343        Referral       Macintosh  20161107  1478550684   \n",
       "5  4085972867127024343        Referral       Macintosh  20161213  1481660216   \n",
       "6  4085972867127024343        Referral       Macintosh  20161122  1479856417   \n",
       "7  4085972867127024343        Referral       Macintosh  20161120  1479676039   \n",
       "8  4085972867127024343        Referral       Macintosh  20161014  1476453496   \n",
       "9  4085972867127024343        Referral       Macintosh  20161113  1479097793   \n",
       "\n",
       "   visitNumber    source  medium  transactions  transactionRevenue  \n",
       "0            2  (direct)  (none)           NaN                 NaN  \n",
       "1            7  (direct)  (none)           NaN                 NaN  \n",
       "2           10  (direct)  (none)           NaN                 NaN  \n",
       "3            3  (direct)  (none)           NaN                 NaN  \n",
       "4            4  (direct)  (none)           1.0          19190000.0  \n",
       "5           12  (direct)  (none)           1.0          19190000.0  \n",
       "6           11  (direct)  (none)           1.0          23990000.0  \n",
       "7            9  (direct)  (none)           NaN                 NaN  \n",
       "8            1  (direct)  (none)           NaN                 NaN  \n",
       "9            8  (direct)  (none)           1.0          19190000.0  "
      ],
      "text/html": "<div>\n<style scoped>\n    .dataframe tbody tr th:only-of-type {\n        vertical-align: middle;\n    }\n\n    .dataframe tbody tr th {\n        vertical-align: top;\n    }\n\n    .dataframe thead th {\n        text-align: right;\n    }\n</style>\n<table border=\"1\" class=\"dataframe\">\n  <thead>\n    <tr style=\"text-align: right;\">\n      <th></th>\n      <th>fullvisitorId</th>\n      <th>channelGrouping</th>\n      <th>operatingSystem</th>\n      <th>date</th>\n      <th>visitId</th>\n      <th>visitNumber</th>\n      <th>source</th>\n      <th>medium</th>\n      <th>transactions</th>\n      <th>transactionRevenue</th>\n    </tr>\n  </thead>\n  <tbody>\n    <tr>\n      <th>0</th>\n      <td>4085972867127024343</td>\n      <td>Referral</td>\n      <td>Macintosh</td>\n      <td>20161101</td>\n      <td>1478033380</td>\n      <td>2</td>\n      <td>(direct)</td>\n      <td>(none)</td>\n      <td>NaN</td>\n      <td>NaN</td>\n    </tr>\n    <tr>\n      <th>1</th>\n      <td>4085972867127024343</td>\n      <td>Referral</td>\n      <td>Macintosh</td>\n      <td>20161110</td>\n      <td>1478808651</td>\n      <td>7</td>\n      <td>(direct)</td>\n      <td>(none)</td>\n      <td>NaN</td>\n      <td>NaN</td>\n    </tr>\n    <tr>\n      <th>2</th>\n      <td>4085972867127024343</td>\n      <td>Referral</td>\n      <td>Macintosh</td>\n      <td>20161121</td>\n      <td>1479760240</td>\n      <td>10</td>\n      <td>(direct)</td>\n      <td>(none)</td>\n      <td>NaN</td>\n      <td>NaN</td>\n    </tr>\n    <tr>\n      <th>3</th>\n      <td>4085972867127024343</td>\n      <td>Referral</td>\n      <td>Macintosh</td>\n      <td>20161107</td>\n      <td>1478547833</td>\n      <td>3</td>\n      <td>(direct)</td>\n      <td>(none)</td>\n      <td>NaN</td>\n      <td>NaN</td>\n    </tr>\n    <tr>\n      <th>4</th>\n      <td>4085972867127024343</td>\n      <td>Referral</td>\n      <td>Macintosh</td>\n      <td>20161107</td>\n      <td>1478550684</td>\n      <td>4</td>\n      <td>(direct)</td>\n      <td>(none)</td>\n      <td>1.0</td>\n      <td>19190000.0</td>\n    </tr>\n    <tr>\n      <th>5</th>\n      <td>4085972867127024343</td>\n      <td>Referral</td>\n      <td>Macintosh</td>\n      <td>20161213</td>\n      <td>1481660216</td>\n      <td>12</td>\n      <td>(direct)</td>\n      <td>(none)</td>\n      <td>1.0</td>\n      <td>19190000.0</td>\n    </tr>\n    <tr>\n      <th>6</th>\n      <td>4085972867127024343</td>\n      <td>Referral</td>\n      <td>Macintosh</td>\n      <td>20161122</td>\n      <td>1479856417</td>\n      <td>11</td>\n      <td>(direct)</td>\n      <td>(none)</td>\n      <td>1.0</td>\n      <td>23990000.0</td>\n    </tr>\n    <tr>\n      <th>7</th>\n      <td>4085972867127024343</td>\n      <td>Referral</td>\n      <td>Macintosh</td>\n      <td>20161120</td>\n      <td>1479676039</td>\n      <td>9</td>\n      <td>(direct)</td>\n      <td>(none)</td>\n      <td>NaN</td>\n      <td>NaN</td>\n    </tr>\n    <tr>\n      <th>8</th>\n      <td>4085972867127024343</td>\n      <td>Referral</td>\n      <td>Macintosh</td>\n      <td>20161014</td>\n      <td>1476453496</td>\n      <td>1</td>\n      <td>(direct)</td>\n      <td>(none)</td>\n      <td>NaN</td>\n      <td>NaN</td>\n    </tr>\n    <tr>\n      <th>9</th>\n      <td>4085972867127024343</td>\n      <td>Referral</td>\n      <td>Macintosh</td>\n      <td>20161113</td>\n      <td>1479097793</td>\n      <td>8</td>\n      <td>(direct)</td>\n      <td>(none)</td>\n      <td>1.0</td>\n      <td>19190000.0</td>\n    </tr>\n  </tbody>\n</table>\n</div>"
     },
     "metadata": {},
     "execution_count": 36
    }
   ],
   "source": [
    "data = get_data(''' \n",
    "    SELECT  fullvisitorId, channelGrouping,  device.operatingSystem, date, visitId, visitNumber, trafficSource.source, trafficSource.medium, totals.transactions, totals.transactionRevenue\n",
    "    FROM `bigquery-public-data.google_analytics_sample.ga_sessions_*` \n",
    "    WHERE _TABLE_SUFFIX between '20160801' and '20170801' and fullvisitorId = '4085972867127024343'\n",
    "    LIMIT 50\n",
    "    ''')\n",
    "data"
   ]
  },
  {
   "source": [
    "When looking at our case above, we can see that the channel remains the same throughout all visits. Let's check another account with transactions and multiple visits. "
   ],
   "cell_type": "markdown",
   "metadata": {}
  },
  {
   "cell_type": "code",
   "execution_count": 37,
   "metadata": {},
   "outputs": [],
   "source": [
    "data = get_data(''' \n",
    "    SELECT  fullvisitorId, channelGrouping, device.operatingSystem, date, trafficSource.source, trafficSource.medium, totals.transactions, totals.transactionRevenue\n",
    "    FROM `bigquery-public-data.google_analytics_sample.ga_sessions_*` \n",
    "    WHERE _TABLE_SUFFIX between '20160801' and '20170801' and fullvisitorId = '4140559214164857738'\n",
    "    LIMIT 50\n",
    "    ''')"
   ]
  },
  {
   "cell_type": "code",
   "execution_count": 38,
   "metadata": {},
   "outputs": [
    {
     "output_type": "execute_result",
     "data": {
      "text/plain": [
       "         fullvisitorId channelGrouping operatingSystem      date    source  \\\n",
       "0  4140559214164857738  Organic Search       Macintosh  20170707    google   \n",
       "1  4140559214164857738  Organic Search       Macintosh  20170606  (direct)   \n",
       "2  4140559214164857738  Organic Search       Macintosh  20170613  (direct)   \n",
       "3  4140559214164857738  Organic Search       Macintosh  20170726    google   \n",
       "\n",
       "    medium  transactions  transactionRevenue  \n",
       "0  organic             1           243660000  \n",
       "1   (none)             1           120250000  \n",
       "2   (none)             1           117340000  \n",
       "3  organic             1           119400000  "
      ],
      "text/html": "<div>\n<style scoped>\n    .dataframe tbody tr th:only-of-type {\n        vertical-align: middle;\n    }\n\n    .dataframe tbody tr th {\n        vertical-align: top;\n    }\n\n    .dataframe thead th {\n        text-align: right;\n    }\n</style>\n<table border=\"1\" class=\"dataframe\">\n  <thead>\n    <tr style=\"text-align: right;\">\n      <th></th>\n      <th>fullvisitorId</th>\n      <th>channelGrouping</th>\n      <th>operatingSystem</th>\n      <th>date</th>\n      <th>source</th>\n      <th>medium</th>\n      <th>transactions</th>\n      <th>transactionRevenue</th>\n    </tr>\n  </thead>\n  <tbody>\n    <tr>\n      <th>0</th>\n      <td>4140559214164857738</td>\n      <td>Organic Search</td>\n      <td>Macintosh</td>\n      <td>20170707</td>\n      <td>google</td>\n      <td>organic</td>\n      <td>1</td>\n      <td>243660000</td>\n    </tr>\n    <tr>\n      <th>1</th>\n      <td>4140559214164857738</td>\n      <td>Organic Search</td>\n      <td>Macintosh</td>\n      <td>20170606</td>\n      <td>(direct)</td>\n      <td>(none)</td>\n      <td>1</td>\n      <td>120250000</td>\n    </tr>\n    <tr>\n      <th>2</th>\n      <td>4140559214164857738</td>\n      <td>Organic Search</td>\n      <td>Macintosh</td>\n      <td>20170613</td>\n      <td>(direct)</td>\n      <td>(none)</td>\n      <td>1</td>\n      <td>117340000</td>\n    </tr>\n    <tr>\n      <th>3</th>\n      <td>4140559214164857738</td>\n      <td>Organic Search</td>\n      <td>Macintosh</td>\n      <td>20170726</td>\n      <td>google</td>\n      <td>organic</td>\n      <td>1</td>\n      <td>119400000</td>\n    </tr>\n  </tbody>\n</table>\n</div>"
     },
     "metadata": {},
     "execution_count": 38
    }
   ],
   "source": [
    "data"
   ]
  },
  {
   "source": [
    "Again the channel grouping looks to be maintained through all visits. One more. "
   ],
   "cell_type": "markdown",
   "metadata": {}
  },
  {
   "cell_type": "code",
   "execution_count": 39,
   "metadata": {},
   "outputs": [
    {
     "output_type": "execute_result",
     "data": {
      "text/plain": [
       "         fullvisitorId channelGrouping      date     visitId  visitNumber  \\\n",
       "0  6377171440951916612  Organic Search  20170716  1500238874            2   \n",
       "1  6377171440951916612  Organic Search  20170511  1494556236            1   \n",
       "2  6377171440951916612     Paid Search  20170725  1501037798            3   \n",
       "3  6377171440951916612     Paid Search  20170725  1501039074            4   \n",
       "\n",
       "   visitStartTime  source   medium transactions transactionRevenue  \\\n",
       "0      1500238874  google  organic         None               None   \n",
       "1      1494556236  google  organic         None               None   \n",
       "2      1501037798  google      cpc         None               None   \n",
       "3      1501039074  google      cpc         None               None   \n",
       "\n",
       "  totalTransactionRevenue  \n",
       "0                    None  \n",
       "1                    None  \n",
       "2                    None  \n",
       "3                    None  "
      ],
      "text/html": "<div>\n<style scoped>\n    .dataframe tbody tr th:only-of-type {\n        vertical-align: middle;\n    }\n\n    .dataframe tbody tr th {\n        vertical-align: top;\n    }\n\n    .dataframe thead th {\n        text-align: right;\n    }\n</style>\n<table border=\"1\" class=\"dataframe\">\n  <thead>\n    <tr style=\"text-align: right;\">\n      <th></th>\n      <th>fullvisitorId</th>\n      <th>channelGrouping</th>\n      <th>date</th>\n      <th>visitId</th>\n      <th>visitNumber</th>\n      <th>visitStartTime</th>\n      <th>source</th>\n      <th>medium</th>\n      <th>transactions</th>\n      <th>transactionRevenue</th>\n      <th>totalTransactionRevenue</th>\n    </tr>\n  </thead>\n  <tbody>\n    <tr>\n      <th>0</th>\n      <td>6377171440951916612</td>\n      <td>Organic Search</td>\n      <td>20170716</td>\n      <td>1500238874</td>\n      <td>2</td>\n      <td>1500238874</td>\n      <td>google</td>\n      <td>organic</td>\n      <td>None</td>\n      <td>None</td>\n      <td>None</td>\n    </tr>\n    <tr>\n      <th>1</th>\n      <td>6377171440951916612</td>\n      <td>Organic Search</td>\n      <td>20170511</td>\n      <td>1494556236</td>\n      <td>1</td>\n      <td>1494556236</td>\n      <td>google</td>\n      <td>organic</td>\n      <td>None</td>\n      <td>None</td>\n      <td>None</td>\n    </tr>\n    <tr>\n      <th>2</th>\n      <td>6377171440951916612</td>\n      <td>Paid Search</td>\n      <td>20170725</td>\n      <td>1501037798</td>\n      <td>3</td>\n      <td>1501037798</td>\n      <td>google</td>\n      <td>cpc</td>\n      <td>None</td>\n      <td>None</td>\n      <td>None</td>\n    </tr>\n    <tr>\n      <th>3</th>\n      <td>6377171440951916612</td>\n      <td>Paid Search</td>\n      <td>20170725</td>\n      <td>1501039074</td>\n      <td>4</td>\n      <td>1501039074</td>\n      <td>google</td>\n      <td>cpc</td>\n      <td>None</td>\n      <td>None</td>\n      <td>None</td>\n    </tr>\n  </tbody>\n</table>\n</div>"
     },
     "metadata": {},
     "execution_count": 39
    }
   ],
   "source": [
    "data = get_data(''' \n",
    "    SELECT  fullvisitorId, channelGrouping, date, visitId, visitNumber, visitStartTime, trafficSource.source, trafficSource.medium, totals.transactions, totals.transactionRevenue, totals.totalTransactionRevenue\n",
    "    FROM `bigquery-public-data.google_analytics_sample.ga_sessions_*` \n",
    "    WHERE _TABLE_SUFFIX between '20160801' and '20170801' and fullvisitorId = '6377171440951916612'\n",
    "    LIMIT 50\n",
    "    ''')\n",
    "data"
   ]
  },
  {
   "source": [
    "Ok, Now we can see that this user has multiple types of traffic source. "
   ],
   "cell_type": "markdown",
   "metadata": {}
  },
  {
   "cell_type": "code",
   "execution_count": 40,
   "metadata": {},
   "outputs": [
    {
     "output_type": "execute_result",
     "data": {
      "text/plain": [
       "        fullvisitorId channelGrouping      date     visitId  visitNumber  \\\n",
       "0  738777585657711314         Display  20161219  1482183763            2   \n",
       "1  738777585657711314         Display  20161228  1482955195            6   \n",
       "2  738777585657711314         Display  20161220  1482262245            3   \n",
       "3  738777585657711314         Display  20161220  1482267318            4   \n",
       "4  738777585657711314         Display  20161220  1482272043            5   \n",
       "\n",
       "   visitStartTime source medium  transactions  transactionRevenue  \\\n",
       "0      1482183763    dfa    cpm           NaN                 NaN   \n",
       "1      1482955195    dfa    cpm           NaN                 NaN   \n",
       "2      1482262245    dfa    cpm           NaN                 NaN   \n",
       "3      1482267318    dfa    cpm           NaN                 NaN   \n",
       "4      1482272043    dfa    cpm           1.0          79130000.0   \n",
       "\n",
       "   totalTransactionRevenue  \n",
       "0                      NaN  \n",
       "1                      NaN  \n",
       "2                      NaN  \n",
       "3                      NaN  \n",
       "4               86130000.0  "
      ],
      "text/html": "<div>\n<style scoped>\n    .dataframe tbody tr th:only-of-type {\n        vertical-align: middle;\n    }\n\n    .dataframe tbody tr th {\n        vertical-align: top;\n    }\n\n    .dataframe thead th {\n        text-align: right;\n    }\n</style>\n<table border=\"1\" class=\"dataframe\">\n  <thead>\n    <tr style=\"text-align: right;\">\n      <th></th>\n      <th>fullvisitorId</th>\n      <th>channelGrouping</th>\n      <th>date</th>\n      <th>visitId</th>\n      <th>visitNumber</th>\n      <th>visitStartTime</th>\n      <th>source</th>\n      <th>medium</th>\n      <th>transactions</th>\n      <th>transactionRevenue</th>\n      <th>totalTransactionRevenue</th>\n    </tr>\n  </thead>\n  <tbody>\n    <tr>\n      <th>0</th>\n      <td>738777585657711314</td>\n      <td>Display</td>\n      <td>20161219</td>\n      <td>1482183763</td>\n      <td>2</td>\n      <td>1482183763</td>\n      <td>dfa</td>\n      <td>cpm</td>\n      <td>NaN</td>\n      <td>NaN</td>\n      <td>NaN</td>\n    </tr>\n    <tr>\n      <th>1</th>\n      <td>738777585657711314</td>\n      <td>Display</td>\n      <td>20161228</td>\n      <td>1482955195</td>\n      <td>6</td>\n      <td>1482955195</td>\n      <td>dfa</td>\n      <td>cpm</td>\n      <td>NaN</td>\n      <td>NaN</td>\n      <td>NaN</td>\n    </tr>\n    <tr>\n      <th>2</th>\n      <td>738777585657711314</td>\n      <td>Display</td>\n      <td>20161220</td>\n      <td>1482262245</td>\n      <td>3</td>\n      <td>1482262245</td>\n      <td>dfa</td>\n      <td>cpm</td>\n      <td>NaN</td>\n      <td>NaN</td>\n      <td>NaN</td>\n    </tr>\n    <tr>\n      <th>3</th>\n      <td>738777585657711314</td>\n      <td>Display</td>\n      <td>20161220</td>\n      <td>1482267318</td>\n      <td>4</td>\n      <td>1482267318</td>\n      <td>dfa</td>\n      <td>cpm</td>\n      <td>NaN</td>\n      <td>NaN</td>\n      <td>NaN</td>\n    </tr>\n    <tr>\n      <th>4</th>\n      <td>738777585657711314</td>\n      <td>Display</td>\n      <td>20161220</td>\n      <td>1482272043</td>\n      <td>5</td>\n      <td>1482272043</td>\n      <td>dfa</td>\n      <td>cpm</td>\n      <td>1.0</td>\n      <td>79130000.0</td>\n      <td>86130000.0</td>\n    </tr>\n  </tbody>\n</table>\n</div>"
     },
     "metadata": {},
     "execution_count": 40
    }
   ],
   "source": [
    "data = get_data(''' \n",
    "    SELECT  fullvisitorId, channelGrouping, date, visitId, visitNumber, visitStartTime, trafficSource.source, trafficSource.medium, totals.transactions, totals.transactionRevenue, totals.totalTransactionRevenue\n",
    "    FROM `bigquery-public-data.google_analytics_sample.ga_sessions_*` \n",
    "    WHERE _TABLE_SUFFIX between '20160801' and '20170801' and fullvisitorId = '738777585657711314'\n",
    "    LIMIT 50\n",
    "    ''')\n",
    "data"
   ]
  },
  {
   "source": [
    "## Before we get too far along, perhaps it would be good to see who is performing tansactions. "
   ],
   "cell_type": "markdown",
   "metadata": {}
  },
  {
   "source": [
    "Lets diferentiate between those visitors who have come to the site in any fashion through a targeted ad. "
   ],
   "cell_type": "markdown",
   "metadata": {}
  },
  {
   "cell_type": "code",
   "execution_count": 41,
   "metadata": {},
   "outputs": [],
   "source": [
    "data = get_data(''' \n",
    "    SELECT fullvisitorId,\n",
    "           operatingSystem,\n",
    "           sum(paid),\n",
    "           max(visitNumber),\n",
    "           sum(transactions),\n",
    "           sum(transactionRevenue)/1000000\n",
    "    FROM (SELECT  fullvisitorId, \n",
    "            device.operatingSystem,\n",
    "            CASE WHEN channelGrouping in ('Affliates', 'Display', 'Paid Search') THEN 1 ELSE 0 end as paid, \n",
    "            visitNumber,  \n",
    "            totals.transactions, \n",
    "            totals.transactionRevenue,\n",
    "          FROM `bigquery-public-data.google_analytics_sample.ga_sessions_*`\n",
    "          -- To maintain consistency, remove inconsiquential Operating systems.\n",
    "          WHERE device.operatingSystem in ('Windows', 'Macintosh', 'iOS', 'Android', 'Linux', 'Chrome OS'))\n",
    "    GROUP BY 1, 2\n",
    "    ''')"
   ]
  },
  {
   "source": [
    "Aggregate this data to see the sucess rate of purchases between users who experienced at least one paid ad. \n",
    "\n",
    "First lets inspect the data. "
   ],
   "cell_type": "markdown",
   "metadata": {}
  },
  {
   "cell_type": "code",
   "execution_count": 42,
   "metadata": {},
   "outputs": [],
   "source": [
    "# Rename columns to something readable\n",
    "data.columns = ['fullvisitorId', 'operatingSystem', 'Paid', 'Visits', 'Transactions', 'Revenue']\n",
    "# Mark Paid column to a Boolean\n",
    "data['Paid'] = data['Paid']>1"
   ]
  },
  {
   "cell_type": "code",
   "execution_count": 43,
   "metadata": {},
   "outputs": [
    {
     "output_type": "execute_result",
     "data": {
      "text/plain": [
       "              Visits  Transactions       Revenue\n",
       "count  708258.000000  10021.000000   9995.000000\n",
       "mean        1.324242      1.208861    154.081525\n",
       "std         1.977412      0.976053    903.380765\n",
       "min         1.000000      1.000000      0.010000\n",
       "25%         1.000000      1.000000     24.485000\n",
       "50%         1.000000      1.000000     48.890000\n",
       "75%         1.000000      1.000000    108.470000\n",
       "max       395.000000     36.000000  77113.430000"
      ],
      "text/html": "<div>\n<style scoped>\n    .dataframe tbody tr th:only-of-type {\n        vertical-align: middle;\n    }\n\n    .dataframe tbody tr th {\n        vertical-align: top;\n    }\n\n    .dataframe thead th {\n        text-align: right;\n    }\n</style>\n<table border=\"1\" class=\"dataframe\">\n  <thead>\n    <tr style=\"text-align: right;\">\n      <th></th>\n      <th>Visits</th>\n      <th>Transactions</th>\n      <th>Revenue</th>\n    </tr>\n  </thead>\n  <tbody>\n    <tr>\n      <th>count</th>\n      <td>708258.000000</td>\n      <td>10021.000000</td>\n      <td>9995.000000</td>\n    </tr>\n    <tr>\n      <th>mean</th>\n      <td>1.324242</td>\n      <td>1.208861</td>\n      <td>154.081525</td>\n    </tr>\n    <tr>\n      <th>std</th>\n      <td>1.977412</td>\n      <td>0.976053</td>\n      <td>903.380765</td>\n    </tr>\n    <tr>\n      <th>min</th>\n      <td>1.000000</td>\n      <td>1.000000</td>\n      <td>0.010000</td>\n    </tr>\n    <tr>\n      <th>25%</th>\n      <td>1.000000</td>\n      <td>1.000000</td>\n      <td>24.485000</td>\n    </tr>\n    <tr>\n      <th>50%</th>\n      <td>1.000000</td>\n      <td>1.000000</td>\n      <td>48.890000</td>\n    </tr>\n    <tr>\n      <th>75%</th>\n      <td>1.000000</td>\n      <td>1.000000</td>\n      <td>108.470000</td>\n    </tr>\n    <tr>\n      <th>max</th>\n      <td>395.000000</td>\n      <td>36.000000</td>\n      <td>77113.430000</td>\n    </tr>\n  </tbody>\n</table>\n</div>"
     },
     "metadata": {},
     "execution_count": 43
    }
   ],
   "source": [
    "data.describe()"
   ]
  },
  {
   "source": [
    "Looks like there are two a big outliers in there.  Before Moving on, we should remove those. "
   ],
   "cell_type": "markdown",
   "metadata": {}
  },
  {
   "cell_type": "code",
   "execution_count": 44,
   "metadata": {},
   "outputs": [
    {
     "output_type": "execute_result",
     "data": {
      "text/plain": [
       "              fullvisitorId operatingSystem   Paid  Visits  Transactions  \\\n",
       "6524    0220695720492664721       Macintosh   True      16           7.0   \n",
       "41871   3244885836845029978       Macintosh  False       5           4.0   \n",
       "59217    428994201200499894       Macintosh   True      26           3.0   \n",
       "59427   4604965471651937146       Chrome OS  False       3           1.0   \n",
       "60324   6147396474895233852       Chrome OS  False      10           5.0   \n",
       "...                     ...             ...    ...     ...           ...   \n",
       "649812  4950411203281265700         Android  False      10           3.0   \n",
       "670720  2446685875964479851       Macintosh   True      11           6.0   \n",
       "671649  3921649958751416379       Chrome OS   True      15           6.0   \n",
       "689905  7463172420271311409       Chrome OS  False      18           9.0   \n",
       "690015  1759779356678951325         Windows  False      25           6.0   \n",
       "\n",
       "        Revenue  \n",
       "6524    2224.52  \n",
       "41871   4319.52  \n",
       "59217   3286.57  \n",
       "59427   4280.70  \n",
       "60324   3265.28  \n",
       "...         ...  \n",
       "649812  2250.25  \n",
       "670720  4160.76  \n",
       "671649  3142.20  \n",
       "689905  7225.10  \n",
       "690015  3101.35  \n",
       "\n",
       "[100 rows x 6 columns]"
      ],
      "text/html": "<div>\n<style scoped>\n    .dataframe tbody tr th:only-of-type {\n        vertical-align: middle;\n    }\n\n    .dataframe tbody tr th {\n        vertical-align: top;\n    }\n\n    .dataframe thead th {\n        text-align: right;\n    }\n</style>\n<table border=\"1\" class=\"dataframe\">\n  <thead>\n    <tr style=\"text-align: right;\">\n      <th></th>\n      <th>fullvisitorId</th>\n      <th>operatingSystem</th>\n      <th>Paid</th>\n      <th>Visits</th>\n      <th>Transactions</th>\n      <th>Revenue</th>\n    </tr>\n  </thead>\n  <tbody>\n    <tr>\n      <th>6524</th>\n      <td>0220695720492664721</td>\n      <td>Macintosh</td>\n      <td>True</td>\n      <td>16</td>\n      <td>7.0</td>\n      <td>2224.52</td>\n    </tr>\n    <tr>\n      <th>41871</th>\n      <td>3244885836845029978</td>\n      <td>Macintosh</td>\n      <td>False</td>\n      <td>5</td>\n      <td>4.0</td>\n      <td>4319.52</td>\n    </tr>\n    <tr>\n      <th>59217</th>\n      <td>428994201200499894</td>\n      <td>Macintosh</td>\n      <td>True</td>\n      <td>26</td>\n      <td>3.0</td>\n      <td>3286.57</td>\n    </tr>\n    <tr>\n      <th>59427</th>\n      <td>4604965471651937146</td>\n      <td>Chrome OS</td>\n      <td>False</td>\n      <td>3</td>\n      <td>1.0</td>\n      <td>4280.70</td>\n    </tr>\n    <tr>\n      <th>60324</th>\n      <td>6147396474895233852</td>\n      <td>Chrome OS</td>\n      <td>False</td>\n      <td>10</td>\n      <td>5.0</td>\n      <td>3265.28</td>\n    </tr>\n    <tr>\n      <th>...</th>\n      <td>...</td>\n      <td>...</td>\n      <td>...</td>\n      <td>...</td>\n      <td>...</td>\n      <td>...</td>\n    </tr>\n    <tr>\n      <th>649812</th>\n      <td>4950411203281265700</td>\n      <td>Android</td>\n      <td>False</td>\n      <td>10</td>\n      <td>3.0</td>\n      <td>2250.25</td>\n    </tr>\n    <tr>\n      <th>670720</th>\n      <td>2446685875964479851</td>\n      <td>Macintosh</td>\n      <td>True</td>\n      <td>11</td>\n      <td>6.0</td>\n      <td>4160.76</td>\n    </tr>\n    <tr>\n      <th>671649</th>\n      <td>3921649958751416379</td>\n      <td>Chrome OS</td>\n      <td>True</td>\n      <td>15</td>\n      <td>6.0</td>\n      <td>3142.20</td>\n    </tr>\n    <tr>\n      <th>689905</th>\n      <td>7463172420271311409</td>\n      <td>Chrome OS</td>\n      <td>False</td>\n      <td>18</td>\n      <td>9.0</td>\n      <td>7225.10</td>\n    </tr>\n    <tr>\n      <th>690015</th>\n      <td>1759779356678951325</td>\n      <td>Windows</td>\n      <td>False</td>\n      <td>25</td>\n      <td>6.0</td>\n      <td>3101.35</td>\n    </tr>\n  </tbody>\n</table>\n<p>100 rows × 6 columns</p>\n</div>"
     },
     "metadata": {},
     "execution_count": 44
    }
   ],
   "source": [
    "data.loc[data['Revenue'] > data['Revenue'].quantile(.99)]"
   ]
  },
  {
   "cell_type": "code",
   "execution_count": 45,
   "metadata": {},
   "outputs": [],
   "source": [
    "data = data.loc[(data['Revenue'] < data['Revenue'].quantile(.99)) | data['Revenue'].isna()]"
   ]
  },
  {
   "source": [
    "Let's check vor Outliers in `Visits` as well. "
   ],
   "cell_type": "markdown",
   "metadata": {}
  },
  {
   "cell_type": "code",
   "execution_count": 46,
   "metadata": {},
   "outputs": [
    {
     "output_type": "execute_result",
     "data": {
      "text/plain": [
       "              fullvisitorId operatingSystem   Paid  Visits  Transactions  \\\n",
       "59      9138278838478762048       Macintosh  False      30           NaN   \n",
       "116     5112369122544987822       Chrome OS  False      20           5.0   \n",
       "181     7117116572860849022       Macintosh   True      30           NaN   \n",
       "260      603373162136570069         Windows  False      44           NaN   \n",
       "262     0769560476351515188         Windows  False      68           NaN   \n",
       "...                     ...             ...    ...     ...           ...   \n",
       "690071  9467619663210756890         Windows  False      41           2.0   \n",
       "690457  5101701802972301118       Macintosh  False      24           NaN   \n",
       "690723   034879850858322847       Macintosh  False      30           NaN   \n",
       "692097  8386662856094972129       Macintosh  False      33           NaN   \n",
       "697951  9919775020461223195             iOS  False      28           NaN   \n",
       "\n",
       "        Revenue  \n",
       "59          NaN  \n",
       "116     1230.84  \n",
       "181         NaN  \n",
       "260         NaN  \n",
       "262         NaN  \n",
       "...         ...  \n",
       "690071   335.58  \n",
       "690457      NaN  \n",
       "690723      NaN  \n",
       "692097      NaN  \n",
       "697951      NaN  \n",
       "\n",
       "[646 rows x 6 columns]"
      ],
      "text/html": "<div>\n<style scoped>\n    .dataframe tbody tr th:only-of-type {\n        vertical-align: middle;\n    }\n\n    .dataframe tbody tr th {\n        vertical-align: top;\n    }\n\n    .dataframe thead th {\n        text-align: right;\n    }\n</style>\n<table border=\"1\" class=\"dataframe\">\n  <thead>\n    <tr style=\"text-align: right;\">\n      <th></th>\n      <th>fullvisitorId</th>\n      <th>operatingSystem</th>\n      <th>Paid</th>\n      <th>Visits</th>\n      <th>Transactions</th>\n      <th>Revenue</th>\n    </tr>\n  </thead>\n  <tbody>\n    <tr>\n      <th>59</th>\n      <td>9138278838478762048</td>\n      <td>Macintosh</td>\n      <td>False</td>\n      <td>30</td>\n      <td>NaN</td>\n      <td>NaN</td>\n    </tr>\n    <tr>\n      <th>116</th>\n      <td>5112369122544987822</td>\n      <td>Chrome OS</td>\n      <td>False</td>\n      <td>20</td>\n      <td>5.0</td>\n      <td>1230.84</td>\n    </tr>\n    <tr>\n      <th>181</th>\n      <td>7117116572860849022</td>\n      <td>Macintosh</td>\n      <td>True</td>\n      <td>30</td>\n      <td>NaN</td>\n      <td>NaN</td>\n    </tr>\n    <tr>\n      <th>260</th>\n      <td>603373162136570069</td>\n      <td>Windows</td>\n      <td>False</td>\n      <td>44</td>\n      <td>NaN</td>\n      <td>NaN</td>\n    </tr>\n    <tr>\n      <th>262</th>\n      <td>0769560476351515188</td>\n      <td>Windows</td>\n      <td>False</td>\n      <td>68</td>\n      <td>NaN</td>\n      <td>NaN</td>\n    </tr>\n    <tr>\n      <th>...</th>\n      <td>...</td>\n      <td>...</td>\n      <td>...</td>\n      <td>...</td>\n      <td>...</td>\n      <td>...</td>\n    </tr>\n    <tr>\n      <th>690071</th>\n      <td>9467619663210756890</td>\n      <td>Windows</td>\n      <td>False</td>\n      <td>41</td>\n      <td>2.0</td>\n      <td>335.58</td>\n    </tr>\n    <tr>\n      <th>690457</th>\n      <td>5101701802972301118</td>\n      <td>Macintosh</td>\n      <td>False</td>\n      <td>24</td>\n      <td>NaN</td>\n      <td>NaN</td>\n    </tr>\n    <tr>\n      <th>690723</th>\n      <td>034879850858322847</td>\n      <td>Macintosh</td>\n      <td>False</td>\n      <td>30</td>\n      <td>NaN</td>\n      <td>NaN</td>\n    </tr>\n    <tr>\n      <th>692097</th>\n      <td>8386662856094972129</td>\n      <td>Macintosh</td>\n      <td>False</td>\n      <td>33</td>\n      <td>NaN</td>\n      <td>NaN</td>\n    </tr>\n    <tr>\n      <th>697951</th>\n      <td>9919775020461223195</td>\n      <td>iOS</td>\n      <td>False</td>\n      <td>28</td>\n      <td>NaN</td>\n      <td>NaN</td>\n    </tr>\n  </tbody>\n</table>\n<p>646 rows × 6 columns</p>\n</div>"
     },
     "metadata": {},
     "execution_count": 46
    }
   ],
   "source": [
    "data.loc[data['Visits'] > data['Visits'].quantile(.999)]"
   ]
  },
  {
   "cell_type": "code",
   "execution_count": 47,
   "metadata": {},
   "outputs": [],
   "source": [
    "data = data.loc[(data['Visits'] < data['Visits'].quantile(.999)) | (data['Visits'].isna())]"
   ]
  },
  {
   "cell_type": "code",
   "execution_count": 48,
   "metadata": {},
   "outputs": [
    {
     "output_type": "execute_result",
     "data": {
      "text/plain": [
       "707448"
      ]
     },
     "metadata": {},
     "execution_count": 48
    }
   ],
   "source": [
    "len(data)"
   ]
  },
  {
   "source": [
    "Now Let's aggregate the data to look for any patterns insights in Paid traffic."
   ],
   "cell_type": "markdown",
   "metadata": {}
  },
  {
   "cell_type": "code",
   "execution_count": 49,
   "metadata": {},
   "outputs": [],
   "source": [
    "# Group data by operating system and the paid boolean. \n",
    "agg_data = data.groupby(['operatingSystem', 'Paid']).agg({'fullvisitorId':'count', 'Visits':'sum', 'Transactions':'count', 'Revenue':['sum', 'sem']})"
   ]
  },
  {
   "cell_type": "code",
   "execution_count": 50,
   "metadata": {},
   "outputs": [],
   "source": [
    "agg_data.columns = ['fullvisitorId',\n",
    "                   'Visits',\n",
    "             'Transactions',\n",
    "                  'Revenue',\n",
    "                  'Revenue_SEM']"
   ]
  },
  {
   "cell_type": "code",
   "execution_count": 51,
   "metadata": {},
   "outputs": [],
   "source": [
    "# Calculate the sucess rate of Unique visitors to transactions \n",
    "agg_data['Rate'] = agg_data['Transactions']/agg_data['Visits']\n",
    "# Create Average Order size from Revenue and Transactions\n",
    "agg_data['Ave_Order'] = round((agg_data['Revenue']/agg_data['Transactions']), 2)\n",
    "# Reformat Revenue to readable value\n",
    "agg_data['Revenue'] = round(agg_data['Revenue'], 2)\n",
    "agg_data['Revenue_ME'] = agg_data['Revenue_SEM']*1.96"
   ]
  },
  {
   "cell_type": "code",
   "execution_count": 52,
   "metadata": {},
   "outputs": [],
   "source": [
    "agg_data.reset_index(inplace=True)"
   ]
  },
  {
   "cell_type": "code",
   "execution_count": 53,
   "metadata": {},
   "outputs": [
    {
     "output_type": "execute_result",
     "data": {
      "text/plain": [
       "   operatingSystem   Paid  fullvisitorId  Visits  Transactions    Revenue  \\\n",
       "0          Android  False          97279  119417           375   23277.98   \n",
       "1          Android   True           1243    4547            53    4649.79   \n",
       "2        Chrome OS  False          17202   26066           701   96476.87   \n",
       "3        Chrome OS   True            192     800            32    8444.49   \n",
       "4            Linux  False          25168   37552           717   42211.27   \n",
       "5            Linux   True            120     527            12     735.98   \n",
       "6        Macintosh  False         186688  260127          5235  642241.70   \n",
       "7        Macintosh   True           1008    4476           190   26151.80   \n",
       "8          Windows  False         292779  344782          1848  180517.88   \n",
       "9          Windows   True            778    3028            77    7186.79   \n",
       "10             iOS  False          83953  104292           469   18731.61   \n",
       "11             iOS   True           1038    3685            44    3071.97   \n",
       "\n",
       "    Revenue_SEM      Rate  Ave_Order  Revenue_ME  \n",
       "0      6.903727  0.003140      62.07   13.531306  \n",
       "1     21.142060  0.011656      87.73   41.438437  \n",
       "2      8.422773  0.026893     137.63   16.508636  \n",
       "3     65.765738  0.040000     263.89  128.900846  \n",
       "4      2.405015  0.019094      58.87    4.713830  \n",
       "5     11.298084  0.022770      61.33   22.144244  \n",
       "6      2.657324  0.020125     122.68    5.208355  \n",
       "7     16.154638  0.042449     137.64   31.663091  \n",
       "8      4.286546  0.005360      97.68    8.401630  \n",
       "9     15.581563  0.025429      93.33   30.539864  \n",
       "10     2.171283  0.004497      39.94    4.255714  \n",
       "11    15.432970  0.011940      69.82   30.248622  "
      ],
      "text/html": "<div>\n<style scoped>\n    .dataframe tbody tr th:only-of-type {\n        vertical-align: middle;\n    }\n\n    .dataframe tbody tr th {\n        vertical-align: top;\n    }\n\n    .dataframe thead th {\n        text-align: right;\n    }\n</style>\n<table border=\"1\" class=\"dataframe\">\n  <thead>\n    <tr style=\"text-align: right;\">\n      <th></th>\n      <th>operatingSystem</th>\n      <th>Paid</th>\n      <th>fullvisitorId</th>\n      <th>Visits</th>\n      <th>Transactions</th>\n      <th>Revenue</th>\n      <th>Revenue_SEM</th>\n      <th>Rate</th>\n      <th>Ave_Order</th>\n      <th>Revenue_ME</th>\n    </tr>\n  </thead>\n  <tbody>\n    <tr>\n      <th>0</th>\n      <td>Android</td>\n      <td>False</td>\n      <td>97279</td>\n      <td>119417</td>\n      <td>375</td>\n      <td>23277.98</td>\n      <td>6.903727</td>\n      <td>0.003140</td>\n      <td>62.07</td>\n      <td>13.531306</td>\n    </tr>\n    <tr>\n      <th>1</th>\n      <td>Android</td>\n      <td>True</td>\n      <td>1243</td>\n      <td>4547</td>\n      <td>53</td>\n      <td>4649.79</td>\n      <td>21.142060</td>\n      <td>0.011656</td>\n      <td>87.73</td>\n      <td>41.438437</td>\n    </tr>\n    <tr>\n      <th>2</th>\n      <td>Chrome OS</td>\n      <td>False</td>\n      <td>17202</td>\n      <td>26066</td>\n      <td>701</td>\n      <td>96476.87</td>\n      <td>8.422773</td>\n      <td>0.026893</td>\n      <td>137.63</td>\n      <td>16.508636</td>\n    </tr>\n    <tr>\n      <th>3</th>\n      <td>Chrome OS</td>\n      <td>True</td>\n      <td>192</td>\n      <td>800</td>\n      <td>32</td>\n      <td>8444.49</td>\n      <td>65.765738</td>\n      <td>0.040000</td>\n      <td>263.89</td>\n      <td>128.900846</td>\n    </tr>\n    <tr>\n      <th>4</th>\n      <td>Linux</td>\n      <td>False</td>\n      <td>25168</td>\n      <td>37552</td>\n      <td>717</td>\n      <td>42211.27</td>\n      <td>2.405015</td>\n      <td>0.019094</td>\n      <td>58.87</td>\n      <td>4.713830</td>\n    </tr>\n    <tr>\n      <th>5</th>\n      <td>Linux</td>\n      <td>True</td>\n      <td>120</td>\n      <td>527</td>\n      <td>12</td>\n      <td>735.98</td>\n      <td>11.298084</td>\n      <td>0.022770</td>\n      <td>61.33</td>\n      <td>22.144244</td>\n    </tr>\n    <tr>\n      <th>6</th>\n      <td>Macintosh</td>\n      <td>False</td>\n      <td>186688</td>\n      <td>260127</td>\n      <td>5235</td>\n      <td>642241.70</td>\n      <td>2.657324</td>\n      <td>0.020125</td>\n      <td>122.68</td>\n      <td>5.208355</td>\n    </tr>\n    <tr>\n      <th>7</th>\n      <td>Macintosh</td>\n      <td>True</td>\n      <td>1008</td>\n      <td>4476</td>\n      <td>190</td>\n      <td>26151.80</td>\n      <td>16.154638</td>\n      <td>0.042449</td>\n      <td>137.64</td>\n      <td>31.663091</td>\n    </tr>\n    <tr>\n      <th>8</th>\n      <td>Windows</td>\n      <td>False</td>\n      <td>292779</td>\n      <td>344782</td>\n      <td>1848</td>\n      <td>180517.88</td>\n      <td>4.286546</td>\n      <td>0.005360</td>\n      <td>97.68</td>\n      <td>8.401630</td>\n    </tr>\n    <tr>\n      <th>9</th>\n      <td>Windows</td>\n      <td>True</td>\n      <td>778</td>\n      <td>3028</td>\n      <td>77</td>\n      <td>7186.79</td>\n      <td>15.581563</td>\n      <td>0.025429</td>\n      <td>93.33</td>\n      <td>30.539864</td>\n    </tr>\n    <tr>\n      <th>10</th>\n      <td>iOS</td>\n      <td>False</td>\n      <td>83953</td>\n      <td>104292</td>\n      <td>469</td>\n      <td>18731.61</td>\n      <td>2.171283</td>\n      <td>0.004497</td>\n      <td>39.94</td>\n      <td>4.255714</td>\n    </tr>\n    <tr>\n      <th>11</th>\n      <td>iOS</td>\n      <td>True</td>\n      <td>1038</td>\n      <td>3685</td>\n      <td>44</td>\n      <td>3071.97</td>\n      <td>15.432970</td>\n      <td>0.011940</td>\n      <td>69.82</td>\n      <td>30.248622</td>\n    </tr>\n  </tbody>\n</table>\n</div>"
     },
     "metadata": {},
     "execution_count": 53
    }
   ],
   "source": [
    "agg_data"
   ]
  },
  {
   "source": [
    "Determine Confidence Interval"
   ],
   "cell_type": "markdown",
   "metadata": {}
  },
  {
   "cell_type": "code",
   "execution_count": 54,
   "metadata": {},
   "outputs": [],
   "source": [
    "def get_lo_ci(row):\n",
    "    return sm.stats.proportion_confint(count = (row['Visits'] * row['Rate']), nobs=row['Visits'], method='normal')[0]\n",
    "def get_hi_ci(row):\n",
    "    return sm.stats.proportion_confint(count = (row['Visits'] * row['Rate']), nobs=row['Visits'], method='normal')[1]"
   ]
  },
  {
   "cell_type": "code",
   "execution_count": 55,
   "metadata": {},
   "outputs": [],
   "source": [
    "agg_data['lo_ci'] = agg_data.apply(get_lo_ci, axis=1)\n",
    "agg_data['hi_ci'] = agg_data.apply(get_hi_ci, axis=1)\n",
    "agg_data['RATE_ME'] = agg_data['Rate'] - agg_data['lo_ci']"
   ]
  },
  {
   "cell_type": "code",
   "execution_count": 56,
   "metadata": {},
   "outputs": [
    {
     "output_type": "execute_result",
     "data": {
      "text/plain": [
       "sactions    Revenue  \\\n",
       "0          Android  False          97279  119417           375   23277.98   \n",
       "1          Android   True           1243    4547            53    4649.79   \n",
       "2        Chrome OS  False          17202   26066           701   96476.87   \n",
       "3        Chrome OS   True            192     800            32    8444.49   \n",
       "4            Linux  False          25168   37552           717   42211.27   \n",
       "5            Linux   True            120     527            12     735.98   \n",
       "6        Macintosh  False         186688  260127          5235  642241.70   \n",
       "7        Macintosh   True           1008    4476           190   26151.80   \n",
       "8          Windows  False         292779  344782          1848  180517.88   \n",
       "9          Windows   True            778    3028            77    7186.79   \n",
       "10             iOS  False          83953  104292           469   18731.61   \n",
       "11             iOS   True           1038    3685            44    3071.97   \n",
       "\n",
       "    Revenue_SEM      Rate  Ave_Order  Revenue_ME     lo_ci     hi_ci   RATE_ME  \n",
       "0      6.903727  0.003140      62.07   13.531306  0.002823  0.003458  0.000317  \n",
       "1     21.142060  0.011656      87.73   41.438437  0.008536  0.014776  0.003120  \n",
       "2      8.422773  0.026893     137.63   16.508636  0.024929  0.028857  0.001964  \n",
       "3     65.765738  0.040000     263.89  128.900846  0.026421  0.053579  0.013579  \n",
       "4      2.405015  0.019094      58.87    4.713830  0.017709  0.020478  0.001384  \n",
       "5     11.298084  0.022770      61.33   22.144244  0.010035  0.035506  0.012736  \n",
       "6      2.657324  0.020125     122.68    5.208355  0.019585  0.020664  0.000540  \n",
       "7     16.154638  0.042449     137.64   31.663091  0.036542  0.048355  0.005906  \n",
       "8      4.286546  0.005360      97.68    8.401630  0.005116  0.005604  0.000244  \n",
       "9     15.581563  0.025429      93.33   30.539864  0.019822  0.031037  0.005607  \n",
       "10     2.171283  0.004497      39.94    4.255714  0.004091  0.004903  0.000406  \n",
       "11    15.432970  0.011940      69.82   30.248622  0.008433  0.015447  0.003507  "
      ],
      "text/html": "<div>\n<style scoped>\n    .dataframe tbody tr th:only-of-type {\n        vertical-align: middle;\n    }\n\n    .dataframe tbody tr th {\n        vertical-align: top;\n    }\n\n    .dataframe thead th {\n        text-align: right;\n    }\n</style>\n<table border=\"1\" class=\"dataframe\">\n  <thead>\n    <tr style=\"text-align: right;\">\n      <th></th>\n      <th>operatingSystem</th>\n      <th>Paid</th>\n      <th>fullvisitorId</th>\n      <th>Visits</th>\n      <th>Transactions</th>\n      <th>Revenue</th>\n      <th>Revenue_SEM</th>\n      <th>Rate</th>\n      <th>Ave_Order</th>\n      <th>Revenue_ME</th>\n      <th>lo_ci</th>\n      <th>hi_ci</th>\n      <th>RATE_ME</th>\n    </tr>\n  </thead>\n  <tbody>\n    <tr>\n      <th>0</th>\n      <td>Android</td>\n      <td>False</td>\n      <td>97279</td>\n      <td>119417</td>\n      <td>375</td>\n      <td>23277.98</td>\n      <td>6.903727</td>\n      <td>0.003140</td>\n      <td>62.07</td>\n      <td>13.531306</td>\n      <td>0.002823</td>\n      <td>0.003458</td>\n      <td>0.000317</td>\n    </tr>\n    <tr>\n      <th>1</th>\n      <td>Android</td>\n      <td>True</td>\n      <td>1243</td>\n      <td>4547</td>\n      <td>53</td>\n      <td>4649.79</td>\n      <td>21.142060</td>\n      <td>0.011656</td>\n      <td>87.73</td>\n      <td>41.438437</td>\n      <td>0.008536</td>\n      <td>0.014776</td>\n      <td>0.003120</td>\n    </tr>\n    <tr>\n      <th>2</th>\n      <td>Chrome OS</td>\n      <td>False</td>\n      <td>17202</td>\n      <td>26066</td>\n      <td>701</td>\n      <td>96476.87</td>\n      <td>8.422773</td>\n      <td>0.026893</td>\n      <td>137.63</td>\n      <td>16.508636</td>\n      <td>0.024929</td>\n      <td>0.028857</td>\n      <td>0.001964</td>\n    </tr>\n    <tr>\n      <th>3</th>\n      <td>Chrome OS</td>\n      <td>True</td>\n      <td>192</td>\n      <td>800</td>\n      <td>32</td>\n      <td>8444.49</td>\n      <td>65.765738</td>\n      <td>0.040000</td>\n      <td>263.89</td>\n      <td>128.900846</td>\n      <td>0.026421</td>\n      <td>0.053579</td>\n      <td>0.013579</td>\n    </tr>\n    <tr>\n      <th>4</th>\n      <td>Linux</td>\n      <td>False</td>\n      <td>25168</td>\n      <td>37552</td>\n      <td>717</td>\n      <td>42211.27</td>\n      <td>2.405015</td>\n      <td>0.019094</td>\n      <td>58.87</td>\n      <td>4.713830</td>\n      <td>0.017709</td>\n      <td>0.020478</td>\n      <td>0.001384</td>\n    </tr>\n    <tr>\n      <th>5</th>\n      <td>Linux</td>\n      <td>True</td>\n      <td>120</td>\n      <td>527</td>\n      <td>12</td>\n      <td>735.98</td>\n      <td>11.298084</td>\n      <td>0.022770</td>\n      <td>61.33</td>\n      <td>22.144244</td>\n      <td>0.010035</td>\n      <td>0.035506</td>\n      <td>0.012736</td>\n    </tr>\n    <tr>\n      <th>6</th>\n      <td>Macintosh</td>\n      <td>False</td>\n      <td>186688</td>\n      <td>260127</td>\n      <td>5235</td>\n      <td>642241.70</td>\n      <td>2.657324</td>\n      <td>0.020125</td>\n      <td>122.68</td>\n      <td>5.208355</td>\n      <td>0.019585</td>\n      <td>0.020664</td>\n      <td>0.000540</td>\n    </tr>\n    <tr>\n      <th>7</th>\n      <td>Macintosh</td>\n      <td>True</td>\n      <td>1008</td>\n      <td>4476</td>\n      <td>190</td>\n      <td>26151.80</td>\n      <td>16.154638</td>\n      <td>0.042449</td>\n      <td>137.64</td>\n      <td>31.663091</td>\n      <td>0.036542</td>\n      <td>0.048355</td>\n      <td>0.005906</td>\n    </tr>\n    <tr>\n      <th>8</th>\n      <td>Windows</td>\n      <td>False</td>\n      <td>292779</td>\n      <td>344782</td>\n      <td>1848</td>\n      <td>180517.88</td>\n      <td>4.286546</td>\n      <td>0.005360</td>\n      <td>97.68</td>\n      <td>8.401630</td>\n      <td>0.005116</td>\n      <td>0.005604</td>\n      <td>0.000244</td>\n    </tr>\n    <tr>\n      <th>9</th>\n      <td>Windows</td>\n      <td>True</td>\n      <td>778</td>\n      <td>3028</td>\n      <td>77</td>\n      <td>7186.79</td>\n      <td>15.581563</td>\n      <td>0.025429</td>\n      <td>93.33</td>\n      <td>30.539864</td>\n      <td>0.019822</td>\n      <td>0.031037</td>\n      <td>0.005607</td>\n    </tr>\n    <tr>\n      <th>10</th>\n      <td>iOS</td>\n      <td>False</td>\n      <td>83953</td>\n      <td>104292</td>\n      <td>469</td>\n      <td>18731.61</td>\n      <td>2.171283</td>\n      <td>0.004497</td>\n      <td>39.94</td>\n      <td>4.255714</td>\n      <td>0.004091</td>\n      <td>0.004903</td>\n      <td>0.000406</td>\n    </tr>\n    <tr>\n      <th>11</th>\n      <td>iOS</td>\n      <td>True</td>\n      <td>1038</td>\n      <td>3685</td>\n      <td>44</td>\n      <td>3071.97</td>\n      <td>15.432970</td>\n      <td>0.011940</td>\n      <td>69.82</td>\n      <td>30.248622</td>\n      <td>0.008433</td>\n      <td>0.015447</td>\n      <td>0.003507</td>\n    </tr>\n  </tbody>\n</table>\n</div>"
     },
     "metadata": {},
     "execution_count": 56
    }
   ],
   "source": [
    "agg_data"
   ]
  },
  {
   "source": [
    "---\n",
    "\n",
    "## 4. Model\n",
    "\n",
    "The questions we need to find in our business objectives may not need algorithmic modeling. If we were looking to find the variable that was more correlated to purchases or perhaps use this data mining to forecast future trends, we may need to add more. Given our question is only to determine the effectiveness of advertising to a group we can simply look at the historical data. \n",
    "\n",
    "However, we should check the results with confidence intervals of 95% to verify we are seeing differences outside of random chance. "
   ],
   "cell_type": "markdown",
   "metadata": {}
  },
  {
   "source": [
    "--- \n",
    "\n",
    "## 5. Evaluation\n",
    "\n",
    "Now that I have prepared the data and added some basic modeling to help meet our business objectives, lets evaluate the results and see if we can learn what we need to from the data. \n",
    "\n",
    "--- \n",
    "\n",
    "**Traffic by Operating System**\n"
   ],
   "cell_type": "markdown",
   "metadata": {}
  },
  {
   "cell_type": "code",
   "execution_count": 57,
   "metadata": {},
   "outputs": [
    {
     "output_type": "display_data",
     "data": {
      "text/html": "        <script type=\"text/javascript\">\n        window.PlotlyConfig = {MathJaxConfig: 'local'};\n        if (window.MathJax) {MathJax.Hub.Config({SVG: {font: \"STIX-Web\"}});}\n        if (typeof require !== 'undefined') {\n        require.undef(\"plotly\");\n        requirejs.config({\n            paths: {\n                'plotly': ['https://cdn.plot.ly/plotly-latest.min']\n            }\n        });\n        require(['plotly'], function(Plotly) {\n            window._Plotly = Plotly;\n        });\n        }\n        </script>\n        "
     },
     "metadata": {}
    },
    {
     "output_type": "display_data",
     "data": {
      "text/html": "<div>\n        \n        \n            <div id=\"c0e9f270-8a53-4087-9c69-9c29647aaceb\" class=\"plotly-graph-div\" style=\"height:525px; width:100%;\"></div>\n            <script type=\"text/javascript\">\n                require([\"plotly\"], function(Plotly) {\n                    window.PLOTLYENV=window.PLOTLYENV || {};\n                    \n                if (document.getElementById(\"c0e9f270-8a53-4087-9c69-9c29647aaceb\")) {\n                    Plotly.newPlot(\n                        'c0e9f270-8a53-4087-9c69-9c29647aaceb',\n                        [{\"type\": \"bar\", \"x\": [\"Windows\", \"Macintosh\", \"Android\", \"iOS\", \"Linux\", \"Chrome OS\"], \"y\": [0.050940949290431685, 0.045802518725043116, 0.0679139896038485, 0.06907537268378768, 0.03336758577381972, 0.055701104909442994]}],\n                        {\"template\": {\"layout\": {\"annotationdefaults\": {\"arrowcolor\": \"#f2f5fa\", \"arrowhead\": 0, \"arrowwidth\": 1}, \"coloraxis\": {\"colorbar\": {\"outlinewidth\": 0, \"ticks\": \"\"}}, \"colorscale\": {\"diverging\": [[0, \"#8e0152\"], [0.1, \"#c51b7d\"], [0.2, \"#de77ae\"], [0.3, \"#f1b6da\"], [0.4, \"#fde0ef\"], [0.5, \"#f7f7f7\"], [0.6, \"#e6f5d0\"], [0.7, \"#b8e186\"], [0.8, \"#7fbc41\"], [0.9, \"#4d9221\"], [1, \"#276419\"]], \"sequential\": [[0.0, \"#0d0887\"], [0.1111111111111111, \"#46039f\"], [0.2222222222222222, \"#7201a8\"], [0.3333333333333333, \"#9c179e\"], [0.4444444444444444, \"#bd3786\"], [0.5555555555555556, \"#d8576b\"], [0.6666666666666666, \"#ed7953\"], [0.7777777777777778, \"#fb9f3a\"], [0.8888888888888888, \"#fdca26\"], [1.0, \"#f0f921\"]], \"sequentialminus\": [[0.0, \"#0d0887\"], [0.1111111111111111, \"#46039f\"], [0.2222222222222222, \"#7201a8\"], [0.3333333333333333, \"#9c179e\"], [0.4444444444444444, \"#bd3786\"], [0.5555555555555556, \"#d8576b\"], [0.6666666666666666, \"#ed7953\"], [0.7777777777777778, \"#fb9f3a\"], [0.8888888888888888, \"#fdca26\"], [1.0, \"#f0f921\"]]}, \"colorway\": [\"rgba(0, 203, 166, 0.7)\", \"rgba(168, 168, 168, 0.7)\", \"#19d3f3\", \"#00cc96\", \"#ab63fa\", \"#00CBA6\", \"#FF6692\", \"#B6E880\", \"#FF97FF\", \"#FECB52\"], \"font\": {\"color\": \"#2a3f5f\", \"family\": \"plain\"}, \"geo\": {\"bgcolor\": \"black\", \"lakecolor\": \"white\", \"landcolor\": \"white\", \"showlakes\": true, \"showland\": true, \"subunitcolor\": \"#506784\"}, \"hoverlabel\": {\"align\": \"left\"}, \"hovermode\": \"closest\", \"images\": [{\"layer\": \"below\", \"opacity\": 0.05, \"sizex\": 0.7, \"sizey\": 0.7, \"source\": \"https://product-derrick.s3.amazonaws.com/logoWhite.png\", \"x\": 0.15, \"xref\": \"paper\", \"y\": 0.75, \"yref\": \"paper\"}], \"mapbox\": {\"style\": \"light\"}, \"paper_bgcolor\": \"white\", \"plot_bgcolor\": \"white\", \"polar\": {\"angularaxis\": {\"gridcolor\": \"#506784\", \"linecolor\": \"#506784\", \"ticks\": \"\"}, \"bgcolor\": \"white\", \"radialaxis\": {\"gridcolor\": \"#506784\", \"linecolor\": \"#506784\", \"ticks\": \"\"}}, \"scene\": {\"xaxis\": {\"backgroundcolor\": \"white\", \"gridcolor\": \"#506784\", \"gridwidth\": 2, \"linecolor\": \"#506784\", \"showbackground\": true, \"ticks\": \"\", \"zerolinecolor\": \"#C8D4E3\"}, \"yaxis\": {\"backgroundcolor\": \"white\", \"gridcolor\": \"#506784\", \"gridwidth\": 2, \"linecolor\": \"#506784\", \"showbackground\": true, \"ticks\": \"\", \"zerolinecolor\": \"#C8D4E3\"}, \"zaxis\": {\"backgroundcolor\": \"rgb(17,17,17)\", \"gridcolor\": \"#506784\", \"gridwidth\": 2, \"linecolor\": \"#506784\", \"showbackground\": true, \"ticks\": \"\", \"zerolinecolor\": \"#C8D4E3\"}}, \"shapedefaults\": {\"line\": {\"color\": \"#f2f5fa\"}}, \"sliderdefaults\": {\"bgcolor\": \"#C8D4E3\", \"bordercolor\": \"rgb(17,17,17)\", \"borderwidth\": 1, \"tickwidth\": 0}, \"ternary\": {\"aaxis\": {\"gridcolor\": \"#506784\", \"linecolor\": \"#506784\", \"ticks\": \"\"}, \"baxis\": {\"gridcolor\": \"#506784\", \"linecolor\": \"#506784\", \"ticks\": \"\"}, \"bgcolor\": \"rgb(17,17,17)\", \"caxis\": {\"gridcolor\": \"#506784\", \"linecolor\": \"#506784\", \"ticks\": \"\"}}, \"title\": {\"font\": {\"size\": 24}, \"x\": 0.05}, \"updatemenudefaults\": {\"bgcolor\": \"#506784\", \"borderwidth\": 0}, \"xaxis\": {\"automargin\": true, \"gridcolor\": \"#DFE8F3\", \"linecolor\": \"#A2B1C6\", \"tickfont\": {\"color\": \"#2a3f5f\", \"family\": \"InterstateMono\", \"size\": 10}, \"ticks\": \"\", \"title\": {\"font\": {\"family\": \"Plain\", \"size\": 18}}, \"zerolinecolor\": \"#DFE8F3\", \"zerolinewidth\": 2}, \"yaxis\": {\"automargin\": true, \"gridcolor\": \"#DFE8F3\", \"linecolor\": \"#A2B1C6\", \"tickfont\": {\"color\": \"#2a3f5f\", \"family\": \"InterstateMono\", \"size\": 10}, \"ticks\": \"\", \"title\": {\"font\": {\"family\": \"plain\", \"size\": 18}}, \"zerolinecolor\": \"#DFE8F3\", \"zerolinewidth\": 2}}}, \"title\": {\"text\": \"Paid Traffic by Operating System\"}, \"yaxis\": {\"tickformat\": \",.0%\"}},\n                        {\"responsive\": true}\n                    ).then(function(){\n                            \nvar gd = document.getElementById('c0e9f270-8a53-4087-9c69-9c29647aaceb');\nvar x = new MutationObserver(function (mutations, observer) {{\n        var display = window.getComputedStyle(gd).display;\n        if (!display || display === 'none') {{\n            console.log([gd, 'removed!']);\n            Plotly.purge(gd);\n            observer.disconnect();\n        }}\n}});\n\n// Listen for the removal of the full notebook cells\nvar notebookContainer = gd.closest('#notebook-container');\nif (notebookContainer) {{\n    x.observe(notebookContainer, {childList: true});\n}}\n\n// Listen for the clearing of the current output cell\nvar outputEl = gd.closest('.output');\nif (outputEl) {{\n    x.observe(outputEl, {childList: true});\n}}\n\n                        })\n                };\n                });\n            </script>\n        </div>"
     },
     "metadata": {}
    }
   ],
   "source": [
    "traffic_fig = go.Figure()\n",
    "traffic_fig.add_trace(\n",
    "    go.Bar(\n",
    "        x=traffic_by_os.index,\n",
    "        y=traffic_by_os['Paid']\n",
    "    )\n",
    ")\n",
    "traffic_fig.update_layout(title='Paid Traffic by Operating System')\n",
    "traffic_fig.update_yaxes(tickformat=',.0%',)\n",
    "traffic_fig.show(renderer='notebook_connected')"
   ]
  },
  {
   "source": [
    "\n",
    "**Review Process**\n",
    "\n",
    "Interesting to see that both mobile operating systems are being driven to the site at a higher rate from paid sources.\n",
    "One major flaw of this analysis is that the volume of impressions is not known. The Google Merchandise Store may have purchased more advertisements targeted at mobile device users resulting in higher traffic from those Operating Systems. However, we can see that Android and iOS users are coming to the site from paid ads at nearly the same rate. Again, it is possible that the Google Merchandise Store purchased more targeted ad impressions to one group or another in order to realize the same site traffic volume. In a real world scenario working inside an organization, the effectiveness of the impressions converting to traffic would be a obvious metric to track.\n",
    "\n",
    "---\n",
    "\n",
    "**Conversion Rate By Operation System**"
   ],
   "cell_type": "markdown",
   "metadata": {}
  },
  {
   "cell_type": "code",
   "execution_count": 59,
   "metadata": {},
   "outputs": [
    {
     "output_type": "display_data",
     "data": {
      "text/html": "        <script type=\"text/javascript\">\n        window.PlotlyConfig = {MathJaxConfig: 'local'};\n        if (window.MathJax) {MathJax.Hub.Config({SVG: {font: \"STIX-Web\"}});}\n        if (typeof require !== 'undefined') {\n        require.undef(\"plotly\");\n        requirejs.config({\n            paths: {\n                'plotly': ['https://cdn.plot.ly/plotly-latest.min']\n            }\n        });\n        require(['plotly'], function(Plotly) {\n            window._Plotly = Plotly;\n        });\n        }\n        </script>\n        "
     },
     "metadata": {}
    },
    {
     "output_type": "display_data",
     "data": {
      "text/html": "<div>\n        \n        \n            <div id=\"ee7ba44f-df5d-47c8-9865-0197f4d6d61f\" class=\"plotly-graph-div\" style=\"height:525px; width:100%;\"></div>\n            <script type=\"text/javascript\">\n                require([\"plotly\"], function(Plotly) {\n                    window.PLOTLYENV=window.PLOTLYENV || {};\n                    \n                if (document.getElementById(\"ee7ba44f-df5d-47c8-9865-0197f4d6d61f\")) {\n                    Plotly.newPlot(\n                        'ee7ba44f-df5d-47c8-9865-0197f4d6d61f',\n                        [{\"error_y\": {\"array\": [0.0031197164904037088, 0.01357902880891406, 0.012735805142382853, 0.005906304836894326, 0.005607176826496189, 0.00350694157307665], \"type\": \"data\"}, \"name\": \"From Paid Source\", \"type\": \"bar\", \"x\": [\"Android\", \"Chrome OS\", \"Linux\", \"Macintosh\", \"Windows\", \"iOS\"], \"y\": [0.011656036947437871, 0.04, 0.022770398481973434, 0.04244861483467382, 0.025429326287978865, 0.011940298507462687]}, {\"error_y\": {\"array\": [0.0003173325322637344, 0.0019638709542589353, 0.0013841667022479534, 0.0005396428012655156, 0.00024371792402106546, 0.0004060736464112551], \"type\": \"data\"}, \"name\": \"From Organic Source\", \"type\": \"bar\", \"x\": [\"Android\", \"Chrome OS\", \"Linux\", \"Macintosh\", \"Windows\", \"iOS\"], \"y\": [0.003140256412403594, 0.026893270927645208, 0.019093523647209204, 0.02012478520107486, 0.005359908579914265, 0.004496989222567407]}],\n                        {\"template\": {\"layout\": {\"annotationdefaults\": {\"arrowcolor\": \"#f2f5fa\", \"arrowhead\": 0, \"arrowwidth\": 1}, \"coloraxis\": {\"colorbar\": {\"outlinewidth\": 0, \"ticks\": \"\"}}, \"colorscale\": {\"diverging\": [[0, \"#8e0152\"], [0.1, \"#c51b7d\"], [0.2, \"#de77ae\"], [0.3, \"#f1b6da\"], [0.4, \"#fde0ef\"], [0.5, \"#f7f7f7\"], [0.6, \"#e6f5d0\"], [0.7, \"#b8e186\"], [0.8, \"#7fbc41\"], [0.9, \"#4d9221\"], [1, \"#276419\"]], \"sequential\": [[0.0, \"#0d0887\"], [0.1111111111111111, \"#46039f\"], [0.2222222222222222, \"#7201a8\"], [0.3333333333333333, \"#9c179e\"], [0.4444444444444444, \"#bd3786\"], [0.5555555555555556, \"#d8576b\"], [0.6666666666666666, \"#ed7953\"], [0.7777777777777778, \"#fb9f3a\"], [0.8888888888888888, \"#fdca26\"], [1.0, \"#f0f921\"]], \"sequentialminus\": [[0.0, \"#0d0887\"], [0.1111111111111111, \"#46039f\"], [0.2222222222222222, \"#7201a8\"], [0.3333333333333333, \"#9c179e\"], [0.4444444444444444, \"#bd3786\"], [0.5555555555555556, \"#d8576b\"], [0.6666666666666666, \"#ed7953\"], [0.7777777777777778, \"#fb9f3a\"], [0.8888888888888888, \"#fdca26\"], [1.0, \"#f0f921\"]]}, \"colorway\": [\"rgba(0, 203, 166, 0.7)\", \"rgba(168, 168, 168, 0.7)\", \"#19d3f3\", \"#00cc96\", \"#ab63fa\", \"#00CBA6\", \"#FF6692\", \"#B6E880\", \"#FF97FF\", \"#FECB52\"], \"font\": {\"color\": \"#2a3f5f\", \"family\": \"plain\"}, \"geo\": {\"bgcolor\": \"black\", \"lakecolor\": \"white\", \"landcolor\": \"white\", \"showlakes\": true, \"showland\": true, \"subunitcolor\": \"#506784\"}, \"hoverlabel\": {\"align\": \"left\"}, \"hovermode\": \"closest\", \"images\": [{\"layer\": \"below\", \"opacity\": 0.05, \"sizex\": 0.7, \"sizey\": 0.7, \"source\": \"https://product-derrick.s3.amazonaws.com/logoWhite.png\", \"x\": 0.15, \"xref\": \"paper\", \"y\": 0.75, \"yref\": \"paper\"}], \"mapbox\": {\"style\": \"light\"}, \"paper_bgcolor\": \"white\", \"plot_bgcolor\": \"white\", \"polar\": {\"angularaxis\": {\"gridcolor\": \"#506784\", \"linecolor\": \"#506784\", \"ticks\": \"\"}, \"bgcolor\": \"white\", \"radialaxis\": {\"gridcolor\": \"#506784\", \"linecolor\": \"#506784\", \"ticks\": \"\"}}, \"scene\": {\"xaxis\": {\"backgroundcolor\": \"white\", \"gridcolor\": \"#506784\", \"gridwidth\": 2, \"linecolor\": \"#506784\", \"showbackground\": true, \"ticks\": \"\", \"zerolinecolor\": \"#C8D4E3\"}, \"yaxis\": {\"backgroundcolor\": \"white\", \"gridcolor\": \"#506784\", \"gridwidth\": 2, \"linecolor\": \"#506784\", \"showbackground\": true, \"ticks\": \"\", \"zerolinecolor\": \"#C8D4E3\"}, \"zaxis\": {\"backgroundcolor\": \"rgb(17,17,17)\", \"gridcolor\": \"#506784\", \"gridwidth\": 2, \"linecolor\": \"#506784\", \"showbackground\": true, \"ticks\": \"\", \"zerolinecolor\": \"#C8D4E3\"}}, \"shapedefaults\": {\"line\": {\"color\": \"#f2f5fa\"}}, \"sliderdefaults\": {\"bgcolor\": \"#C8D4E3\", \"bordercolor\": \"rgb(17,17,17)\", \"borderwidth\": 1, \"tickwidth\": 0}, \"ternary\": {\"aaxis\": {\"gridcolor\": \"#506784\", \"linecolor\": \"#506784\", \"ticks\": \"\"}, \"baxis\": {\"gridcolor\": \"#506784\", \"linecolor\": \"#506784\", \"ticks\": \"\"}, \"bgcolor\": \"rgb(17,17,17)\", \"caxis\": {\"gridcolor\": \"#506784\", \"linecolor\": \"#506784\", \"ticks\": \"\"}}, \"title\": {\"font\": {\"size\": 24}, \"x\": 0.05}, \"updatemenudefaults\": {\"bgcolor\": \"#506784\", \"borderwidth\": 0}, \"xaxis\": {\"automargin\": true, \"gridcolor\": \"#DFE8F3\", \"linecolor\": \"#A2B1C6\", \"tickfont\": {\"color\": \"#2a3f5f\", \"family\": \"InterstateMono\", \"size\": 10}, \"ticks\": \"\", \"title\": {\"font\": {\"family\": \"Plain\", \"size\": 18}}, \"zerolinecolor\": \"#DFE8F3\", \"zerolinewidth\": 2}, \"yaxis\": {\"automargin\": true, \"gridcolor\": \"#DFE8F3\", \"linecolor\": \"#A2B1C6\", \"tickfont\": {\"color\": \"#2a3f5f\", \"family\": \"InterstateMono\", \"size\": 10}, \"ticks\": \"\", \"title\": {\"font\": {\"family\": \"plain\", \"size\": 18}}, \"zerolinecolor\": \"#DFE8F3\", \"zerolinewidth\": 2}}}, \"title\": {\"text\": \"Conversion Rate by Operating System\"}, \"yaxis\": {\"tickformat\": \"%\"}},\n                        {\"responsive\": true}\n                    ).then(function(){\n                            \nvar gd = document.getElementById('ee7ba44f-df5d-47c8-9865-0197f4d6d61f');\nvar x = new MutationObserver(function (mutations, observer) {{\n        var display = window.getComputedStyle(gd).display;\n        if (!display || display === 'none') {{\n            console.log([gd, 'removed!']);\n            Plotly.purge(gd);\n            observer.disconnect();\n        }}\n}});\n\n// Listen for the removal of the full notebook cells\nvar notebookContainer = gd.closest('#notebook-container');\nif (notebookContainer) {{\n    x.observe(notebookContainer, {childList: true});\n}}\n\n// Listen for the clearing of the current output cell\nvar outputEl = gd.closest('.output');\nif (outputEl) {{\n    x.observe(outputEl, {childList: true});\n}}\n\n                        })\n                };\n                });\n            </script>\n        </div>"
     },
     "metadata": {}
    }
   ],
   "source": [
    "conversion_by_os_fig = go.Figure()\n",
    "conversion_by_os_fig.add_trace(\n",
    "    go.Bar(\n",
    "        x=agg_data.loc[agg_data['Paid']==True]['operatingSystem'],\n",
    "        y=agg_data.loc[agg_data['Paid']==True]['Rate'],\n",
    "        error_y=dict(type='data', array=agg_data.loc[agg_data['Paid']==True]['RATE_ME']),\n",
    "        name=\"From Paid Source\"\n",
    "    )\n",
    ")\n",
    "conversion_by_os_fig.add_trace(\n",
    "    go.Bar(\n",
    "        x=agg_data.loc[agg_data['Paid']==False]['operatingSystem'],\n",
    "        y=agg_data.loc[agg_data['Paid']==False]['Rate'],\n",
    "        error_y=dict(type='data', array=agg_data.loc[agg_data['Paid']==False]['RATE_ME']),\n",
    "        name=\"From Organic Source\"\n",
    "    )\n",
    ")\n",
    "conversion_by_os_fig.update_layout(title='Conversion Rate by Operating System')\n",
    "conversion_by_os_fig.update_yaxes(tickformat='%')\n",
    "conversion_by_os_fig.show(renderer='notebook_connected')"
   ]
  },
  {
   "source": [
    "**Review Process**\n",
    "\n",
    "It looks clear that with each operating system we can see an increase in conversion for the users who had at least one of their visits from a paid source.\n",
    "Further, macOS desktop users had the best conversion from paid traffic. Clearly the targeted ads, and paid search is still effective for Apple users in 2016–2017.\n",
    "\n",
    "One note is that Linux and ChromeOS did not produce enough data points to reject the null hypothesis. The increase in either rate of transactions could be the result of sampling error. "
   ],
   "cell_type": "markdown",
   "metadata": {}
  },
  {
   "source": [
    "Now lets loot at Average order size. "
   ],
   "cell_type": "markdown",
   "metadata": {}
  },
  {
   "cell_type": "code",
   "execution_count": 60,
   "metadata": {},
   "outputs": [
    {
     "output_type": "display_data",
     "data": {
      "text/html": "        <script type=\"text/javascript\">\n        window.PlotlyConfig = {MathJaxConfig: 'local'};\n        if (window.MathJax) {MathJax.Hub.Config({SVG: {font: \"STIX-Web\"}});}\n        if (typeof require !== 'undefined') {\n        require.undef(\"plotly\");\n        requirejs.config({\n            paths: {\n                'plotly': ['https://cdn.plot.ly/plotly-latest.min']\n            }\n        });\n        require(['plotly'], function(Plotly) {\n            window._Plotly = Plotly;\n        });\n        }\n        </script>\n        "
     },
     "metadata": {}
    },
    {
     "output_type": "display_data",
     "data": {
      "text/html": "<div>\n        \n        \n            <div id=\"de993975-30d7-4cf7-b057-689aa05999bf\" class=\"plotly-graph-div\" style=\"height:525px; width:100%;\"></div>\n            <script type=\"text/javascript\">\n                require([\"plotly\"], function(Plotly) {\n                    window.PLOTLYENV=window.PLOTLYENV || {};\n                    \n                if (document.getElementById(\"de993975-30d7-4cf7-b057-689aa05999bf\")) {\n                    Plotly.newPlot(\n                        'de993975-30d7-4cf7-b057-689aa05999bf',\n                        [{\"error_y\": {\"array\": [41.438437228891964, 128.90084647954495, 22.144244175602086, 31.663090795411886, 30.539863636960476, 30.24862193802306], \"type\": \"data\"}, \"name\": \"From Paid Source\", \"type\": \"bar\", \"x\": [\"Android\", \"Chrome OS\", \"Linux\", \"Macintosh\", \"Windows\", \"iOS\"], \"y\": [87.73, 263.89, 61.33, 137.64, 93.33, 69.82]}, {\"error_y\": {\"array\": [13.531305538364151, 16.508635942048375, 4.713829728689751, 5.208354752667661, 8.401630440535703, 4.255714347162829], \"type\": \"data\"}, \"name\": \"From Organic Source\", \"type\": \"bar\", \"x\": [\"Android\", \"Chrome OS\", \"Linux\", \"Macintosh\", \"Windows\", \"iOS\"], \"y\": [62.07, 137.63, 58.87, 122.68, 97.68, 39.94]}],\n                        {\"template\": {\"layout\": {\"annotationdefaults\": {\"arrowcolor\": \"#f2f5fa\", \"arrowhead\": 0, \"arrowwidth\": 1}, \"coloraxis\": {\"colorbar\": {\"outlinewidth\": 0, \"ticks\": \"\"}}, \"colorscale\": {\"diverging\": [[0, \"#8e0152\"], [0.1, \"#c51b7d\"], [0.2, \"#de77ae\"], [0.3, \"#f1b6da\"], [0.4, \"#fde0ef\"], [0.5, \"#f7f7f7\"], [0.6, \"#e6f5d0\"], [0.7, \"#b8e186\"], [0.8, \"#7fbc41\"], [0.9, \"#4d9221\"], [1, \"#276419\"]], \"sequential\": [[0.0, \"#0d0887\"], [0.1111111111111111, \"#46039f\"], [0.2222222222222222, \"#7201a8\"], [0.3333333333333333, \"#9c179e\"], [0.4444444444444444, \"#bd3786\"], [0.5555555555555556, \"#d8576b\"], [0.6666666666666666, \"#ed7953\"], [0.7777777777777778, \"#fb9f3a\"], [0.8888888888888888, \"#fdca26\"], [1.0, \"#f0f921\"]], \"sequentialminus\": [[0.0, \"#0d0887\"], [0.1111111111111111, \"#46039f\"], [0.2222222222222222, \"#7201a8\"], [0.3333333333333333, \"#9c179e\"], [0.4444444444444444, \"#bd3786\"], [0.5555555555555556, \"#d8576b\"], [0.6666666666666666, \"#ed7953\"], [0.7777777777777778, \"#fb9f3a\"], [0.8888888888888888, \"#fdca26\"], [1.0, \"#f0f921\"]]}, \"colorway\": [\"rgba(0, 203, 166, 0.7)\", \"rgba(168, 168, 168, 0.7)\", \"#19d3f3\", \"#00cc96\", \"#ab63fa\", \"#00CBA6\", \"#FF6692\", \"#B6E880\", \"#FF97FF\", \"#FECB52\"], \"font\": {\"color\": \"#2a3f5f\", \"family\": \"plain\"}, \"geo\": {\"bgcolor\": \"black\", \"lakecolor\": \"white\", \"landcolor\": \"white\", \"showlakes\": true, \"showland\": true, \"subunitcolor\": \"#506784\"}, \"hoverlabel\": {\"align\": \"left\"}, \"hovermode\": \"closest\", \"images\": [{\"layer\": \"below\", \"opacity\": 0.05, \"sizex\": 0.7, \"sizey\": 0.7, \"source\": \"https://product-derrick.s3.amazonaws.com/logoWhite.png\", \"x\": 0.15, \"xref\": \"paper\", \"y\": 0.75, \"yref\": \"paper\"}], \"mapbox\": {\"style\": \"light\"}, \"paper_bgcolor\": \"white\", \"plot_bgcolor\": \"white\", \"polar\": {\"angularaxis\": {\"gridcolor\": \"#506784\", \"linecolor\": \"#506784\", \"ticks\": \"\"}, \"bgcolor\": \"white\", \"radialaxis\": {\"gridcolor\": \"#506784\", \"linecolor\": \"#506784\", \"ticks\": \"\"}}, \"scene\": {\"xaxis\": {\"backgroundcolor\": \"white\", \"gridcolor\": \"#506784\", \"gridwidth\": 2, \"linecolor\": \"#506784\", \"showbackground\": true, \"ticks\": \"\", \"zerolinecolor\": \"#C8D4E3\"}, \"yaxis\": {\"backgroundcolor\": \"white\", \"gridcolor\": \"#506784\", \"gridwidth\": 2, \"linecolor\": \"#506784\", \"showbackground\": true, \"ticks\": \"\", \"zerolinecolor\": \"#C8D4E3\"}, \"zaxis\": {\"backgroundcolor\": \"rgb(17,17,17)\", \"gridcolor\": \"#506784\", \"gridwidth\": 2, \"linecolor\": \"#506784\", \"showbackground\": true, \"ticks\": \"\", \"zerolinecolor\": \"#C8D4E3\"}}, \"shapedefaults\": {\"line\": {\"color\": \"#f2f5fa\"}}, \"sliderdefaults\": {\"bgcolor\": \"#C8D4E3\", \"bordercolor\": \"rgb(17,17,17)\", \"borderwidth\": 1, \"tickwidth\": 0}, \"ternary\": {\"aaxis\": {\"gridcolor\": \"#506784\", \"linecolor\": \"#506784\", \"ticks\": \"\"}, \"baxis\": {\"gridcolor\": \"#506784\", \"linecolor\": \"#506784\", \"ticks\": \"\"}, \"bgcolor\": \"rgb(17,17,17)\", \"caxis\": {\"gridcolor\": \"#506784\", \"linecolor\": \"#506784\", \"ticks\": \"\"}}, \"title\": {\"font\": {\"size\": 24}, \"x\": 0.05}, \"updatemenudefaults\": {\"bgcolor\": \"#506784\", \"borderwidth\": 0}, \"xaxis\": {\"automargin\": true, \"gridcolor\": \"#DFE8F3\", \"linecolor\": \"#A2B1C6\", \"tickfont\": {\"color\": \"#2a3f5f\", \"family\": \"InterstateMono\", \"size\": 10}, \"ticks\": \"\", \"title\": {\"font\": {\"family\": \"Plain\", \"size\": 18}}, \"zerolinecolor\": \"#DFE8F3\", \"zerolinewidth\": 2}, \"yaxis\": {\"automargin\": true, \"gridcolor\": \"#DFE8F3\", \"linecolor\": \"#A2B1C6\", \"tickfont\": {\"color\": \"#2a3f5f\", \"family\": \"InterstateMono\", \"size\": 10}, \"ticks\": \"\", \"title\": {\"font\": {\"family\": \"plain\", \"size\": 18}}, \"zerolinecolor\": \"#DFE8F3\", \"zerolinewidth\": 2}}}, \"title\": {\"text\": \"Average Order by Operating System\"}, \"yaxis\": {\"tickformat\": \"$\"}},\n                        {\"responsive\": true}\n                    ).then(function(){\n                            \nvar gd = document.getElementById('de993975-30d7-4cf7-b057-689aa05999bf');\nvar x = new MutationObserver(function (mutations, observer) {{\n        var display = window.getComputedStyle(gd).display;\n        if (!display || display === 'none') {{\n            console.log([gd, 'removed!']);\n            Plotly.purge(gd);\n            observer.disconnect();\n        }}\n}});\n\n// Listen for the removal of the full notebook cells\nvar notebookContainer = gd.closest('#notebook-container');\nif (notebookContainer) {{\n    x.observe(notebookContainer, {childList: true});\n}}\n\n// Listen for the clearing of the current output cell\nvar outputEl = gd.closest('.output');\nif (outputEl) {{\n    x.observe(outputEl, {childList: true});\n}}\n\n                        })\n                };\n                });\n            </script>\n        </div>"
     },
     "metadata": {}
    }
   ],
   "source": [
    "ave_order_fig = go.Figure()\n",
    "ave_order_fig.add_trace(\n",
    "    go.Bar(\n",
    "        x=agg_data.loc[agg_data['Paid']==True]['operatingSystem'],\n",
    "        y=agg_data.loc[agg_data['Paid']==True]['Ave_Order'],\n",
    "        error_y=dict(type='data', array=agg_data.loc[agg_data['Paid']==True]['Revenue_ME']),\n",
    "        name=\"From Paid Source\"\n",
    "    )\n",
    ")\n",
    "ave_order_fig.add_trace(\n",
    "    go.Bar(\n",
    "        x=agg_data.loc[agg_data['Paid']==False]['operatingSystem'],\n",
    "        y=agg_data.loc[agg_data['Paid']==False]['Ave_Order'],\n",
    "        error_y=dict(type='data', array=agg_data.loc[agg_data['Paid']==False]['Revenue_ME']),\n",
    "        name=\"From Organic Source\"\n",
    "    )\n",
    ")\n",
    "ave_order_fig.update_layout(title='Average Order by Operating System')\n",
    "ave_order_fig.update_yaxes(tickformat='$')\n",
    "ave_order_fig.show(renderer='notebook_connected')"
   ]
  },
  {
   "source": [
    "**Review Process**\n",
    "\n",
    "In most cases we can see a very small difference between paid traffic and organic traffic regarding average order size.\n",
    "\n",
    "It doesn’t seem to be the case that macOS users had the highest order value. Instead we can see that ChomeOS users coming from a paid source purchased more goods per transaction, over $200. Logically, it makes sense that ChromeOS users would also be fans of Google branded products, However we are already aware that the volume of ChromeOS data was also much lower than others creating a higher margin of error. \n",
    "\n",
    "--- \n",
    "\n",
    "Let's blow the whole thing up. We may have seen paid traffic increase conversion. We also saw paid traffic not affect average ordersize. However, what about raw volume? "
   ],
   "cell_type": "markdown",
   "metadata": {}
  },
  {
   "cell_type": "code",
   "execution_count": 61,
   "metadata": {},
   "outputs": [
    {
     "output_type": "display_data",
     "data": {
      "text/html": "        <script type=\"text/javascript\">\n        window.PlotlyConfig = {MathJaxConfig: 'local'};\n        if (window.MathJax) {MathJax.Hub.Config({SVG: {font: \"STIX-Web\"}});}\n        if (typeof require !== 'undefined') {\n        require.undef(\"plotly\");\n        requirejs.config({\n            paths: {\n                'plotly': ['https://cdn.plot.ly/plotly-latest.min']\n            }\n        });\n        require(['plotly'], function(Plotly) {\n            window._Plotly = Plotly;\n        });\n        }\n        </script>\n        "
     },
     "metadata": {}
    },
    {
     "output_type": "display_data",
     "data": {
      "text/html": "<div>\n        \n        \n            <div id=\"9d7f5ae4-2a2a-473e-8b0c-32717c7b661b\" class=\"plotly-graph-div\" style=\"height:525px; width:100%;\"></div>\n            <script type=\"text/javascript\">\n                require([\"plotly\"], function(Plotly) {\n                    window.PLOTLYENV=window.PLOTLYENV || {};\n                    \n                if (document.getElementById(\"9d7f5ae4-2a2a-473e-8b0c-32717c7b661b\")) {\n                    Plotly.newPlot(\n                        '9d7f5ae4-2a2a-473e-8b0c-32717c7b661b',\n                        [{\"name\": \"From Paid Source\", \"type\": \"bar\", \"x\": [\"Android\", \"Chrome OS\", \"Linux\", \"Macintosh\", \"Windows\", \"iOS\"], \"y\": [4649.79, 8444.49, 735.98, 26151.8, 7186.79, 3071.97]}, {\"name\": \"From Organic Source\", \"type\": \"bar\", \"x\": [\"Android\", \"Chrome OS\", \"Linux\", \"Macintosh\", \"Windows\", \"iOS\"], \"y\": [23277.98, 96476.87, 42211.27, 642241.7, 180517.88, 18731.61]}],\n                        {\"template\": {\"layout\": {\"annotationdefaults\": {\"arrowcolor\": \"#f2f5fa\", \"arrowhead\": 0, \"arrowwidth\": 1}, \"coloraxis\": {\"colorbar\": {\"outlinewidth\": 0, \"ticks\": \"\"}}, \"colorscale\": {\"diverging\": [[0, \"#8e0152\"], [0.1, \"#c51b7d\"], [0.2, \"#de77ae\"], [0.3, \"#f1b6da\"], [0.4, \"#fde0ef\"], [0.5, \"#f7f7f7\"], [0.6, \"#e6f5d0\"], [0.7, \"#b8e186\"], [0.8, \"#7fbc41\"], [0.9, \"#4d9221\"], [1, \"#276419\"]], \"sequential\": [[0.0, \"#0d0887\"], [0.1111111111111111, \"#46039f\"], [0.2222222222222222, \"#7201a8\"], [0.3333333333333333, \"#9c179e\"], [0.4444444444444444, \"#bd3786\"], [0.5555555555555556, \"#d8576b\"], [0.6666666666666666, \"#ed7953\"], [0.7777777777777778, \"#fb9f3a\"], [0.8888888888888888, \"#fdca26\"], [1.0, \"#f0f921\"]], \"sequentialminus\": [[0.0, \"#0d0887\"], [0.1111111111111111, \"#46039f\"], [0.2222222222222222, \"#7201a8\"], [0.3333333333333333, \"#9c179e\"], [0.4444444444444444, \"#bd3786\"], [0.5555555555555556, \"#d8576b\"], [0.6666666666666666, \"#ed7953\"], [0.7777777777777778, \"#fb9f3a\"], [0.8888888888888888, \"#fdca26\"], [1.0, \"#f0f921\"]]}, \"colorway\": [\"rgba(0, 203, 166, 0.7)\", \"rgba(168, 168, 168, 0.7)\", \"#19d3f3\", \"#00cc96\", \"#ab63fa\", \"#00CBA6\", \"#FF6692\", \"#B6E880\", \"#FF97FF\", \"#FECB52\"], \"font\": {\"color\": \"#2a3f5f\", \"family\": \"plain\"}, \"geo\": {\"bgcolor\": \"black\", \"lakecolor\": \"white\", \"landcolor\": \"white\", \"showlakes\": true, \"showland\": true, \"subunitcolor\": \"#506784\"}, \"hoverlabel\": {\"align\": \"left\"}, \"hovermode\": \"closest\", \"images\": [{\"layer\": \"below\", \"opacity\": 0.05, \"sizex\": 0.7, \"sizey\": 0.7, \"source\": \"https://product-derrick.s3.amazonaws.com/logoWhite.png\", \"x\": 0.15, \"xref\": \"paper\", \"y\": 0.75, \"yref\": \"paper\"}], \"mapbox\": {\"style\": \"light\"}, \"paper_bgcolor\": \"white\", \"plot_bgcolor\": \"white\", \"polar\": {\"angularaxis\": {\"gridcolor\": \"#506784\", \"linecolor\": \"#506784\", \"ticks\": \"\"}, \"bgcolor\": \"white\", \"radialaxis\": {\"gridcolor\": \"#506784\", \"linecolor\": \"#506784\", \"ticks\": \"\"}}, \"scene\": {\"xaxis\": {\"backgroundcolor\": \"white\", \"gridcolor\": \"#506784\", \"gridwidth\": 2, \"linecolor\": \"#506784\", \"showbackground\": true, \"ticks\": \"\", \"zerolinecolor\": \"#C8D4E3\"}, \"yaxis\": {\"backgroundcolor\": \"white\", \"gridcolor\": \"#506784\", \"gridwidth\": 2, \"linecolor\": \"#506784\", \"showbackground\": true, \"ticks\": \"\", \"zerolinecolor\": \"#C8D4E3\"}, \"zaxis\": {\"backgroundcolor\": \"rgb(17,17,17)\", \"gridcolor\": \"#506784\", \"gridwidth\": 2, \"linecolor\": \"#506784\", \"showbackground\": true, \"ticks\": \"\", \"zerolinecolor\": \"#C8D4E3\"}}, \"shapedefaults\": {\"line\": {\"color\": \"#f2f5fa\"}}, \"sliderdefaults\": {\"bgcolor\": \"#C8D4E3\", \"bordercolor\": \"rgb(17,17,17)\", \"borderwidth\": 1, \"tickwidth\": 0}, \"ternary\": {\"aaxis\": {\"gridcolor\": \"#506784\", \"linecolor\": \"#506784\", \"ticks\": \"\"}, \"baxis\": {\"gridcolor\": \"#506784\", \"linecolor\": \"#506784\", \"ticks\": \"\"}, \"bgcolor\": \"rgb(17,17,17)\", \"caxis\": {\"gridcolor\": \"#506784\", \"linecolor\": \"#506784\", \"ticks\": \"\"}}, \"title\": {\"font\": {\"size\": 24}, \"x\": 0.05}, \"updatemenudefaults\": {\"bgcolor\": \"#506784\", \"borderwidth\": 0}, \"xaxis\": {\"automargin\": true, \"gridcolor\": \"#DFE8F3\", \"linecolor\": \"#A2B1C6\", \"tickfont\": {\"color\": \"#2a3f5f\", \"family\": \"InterstateMono\", \"size\": 10}, \"ticks\": \"\", \"title\": {\"font\": {\"family\": \"Plain\", \"size\": 18}}, \"zerolinecolor\": \"#DFE8F3\", \"zerolinewidth\": 2}, \"yaxis\": {\"automargin\": true, \"gridcolor\": \"#DFE8F3\", \"linecolor\": \"#A2B1C6\", \"tickfont\": {\"color\": \"#2a3f5f\", \"family\": \"InterstateMono\", \"size\": 10}, \"ticks\": \"\", \"title\": {\"font\": {\"family\": \"plain\", \"size\": 18}}, \"zerolinecolor\": \"#DFE8F3\", \"zerolinewidth\": 2}}}, \"title\": {\"text\": \"Total Revenue by Operating System\"}, \"yaxis\": {\"tickformat\": \"$\"}},\n                        {\"responsive\": true}\n                    ).then(function(){\n                            \nvar gd = document.getElementById('9d7f5ae4-2a2a-473e-8b0c-32717c7b661b');\nvar x = new MutationObserver(function (mutations, observer) {{\n        var display = window.getComputedStyle(gd).display;\n        if (!display || display === 'none') {{\n            console.log([gd, 'removed!']);\n            Plotly.purge(gd);\n            observer.disconnect();\n        }}\n}});\n\n// Listen for the removal of the full notebook cells\nvar notebookContainer = gd.closest('#notebook-container');\nif (notebookContainer) {{\n    x.observe(notebookContainer, {childList: true});\n}}\n\n// Listen for the clearing of the current output cell\nvar outputEl = gd.closest('.output');\nif (outputEl) {{\n    x.observe(outputEl, {childList: true});\n}}\n\n                        })\n                };\n                });\n            </script>\n        </div>"
     },
     "metadata": {}
    }
   ],
   "source": [
    "total_rev_fig = go.Figure()\n",
    "total_rev_fig.add_trace(\n",
    "    go.Bar(\n",
    "        x=agg_data.loc[agg_data['Paid']==True]['operatingSystem'],\n",
    "        y=agg_data.loc[agg_data['Paid']==True]['Revenue'],\n",
    "        name=\"From Paid Source\"\n",
    "    )\n",
    ")\n",
    "total_rev_fig.add_trace(\n",
    "    go.Bar(\n",
    "        x=agg_data.loc[agg_data['Paid']==False]['operatingSystem'],\n",
    "        y=agg_data.loc[agg_data['Paid']==False]['Revenue'],\n",
    "        name=\"From Organic Source\"\n",
    "    )\n",
    ")\n",
    "total_rev_fig.update_layout(title='Total Revenue by Operating System')\n",
    "total_rev_fig.update_yaxes(tickformat='$')\n",
    "total_rev_fig.show(renderer='notebook_connected')"
   ]
  },
  {
   "source": [
    "**Review Process**\n",
    "\n",
    "It looks as though organic macOS users are dominating sales revenue. This surely forces the business objectives to be put into perspective. \n",
    "\n",
    "--- \n",
    "\n",
    "### Thoughts\n",
    "\n",
    "It’s very important to remember that this data is now nearly 5 years old. A lot has happened in the world of digital advertising, mobile purchasing and the change in marketshare of the OS leaders. While it is interesting to be able to explore and analyze free public data from Google Analytics 360 on BigQuery, the missing pieces regarding original ad impressions and the specifics of purchase data keep this analysis from becoming truly useful.\n",
    "\n",
    "That said, regarding the question of effectiveness of digital advertising on Apple users, it looks as though Display Ads, Affiliates, and Paid Search are just as effective at driving traffic, converting to sales and increasing order size for Apple users.\n",
    "\n",
    "We saw conversion rate nearly double for all OS groups when coming from paid sources. And, percentage of traffic from paid sources was very similar across most of the OS options. Therefore, no OS could be correlated with less traffic (assuming the original ad-buy was similar).\n",
    "\n",
    "However, in the end, product is king. The biggest source of revenue found the products organically and from their macOS equipped machine. For all the money and effort put into digital advertising in this case we are not able to directly relate these purchases to the investment. We do learn, however, which group is most likely to buy. Perhaps we can use this information to help plan product development and ad buys in the future.\n"
   ],
   "cell_type": "markdown",
   "metadata": {}
  },
  {
   "source": [
    "## 6. Deployment \n",
    "\n",
    "In the final step. I will use Plotly's Chart Studio to publish the visualizations in this notebook. \n",
    "\n",
    "This will allow for the full functionality of plotly's visualizations including Hovertext, image capture and zoom. \n",
    "\n",
    "I will then embed these reactive visuals in a Medium post to share the results. "
   ],
   "cell_type": "markdown",
   "metadata": {}
  },
  {
   "cell_type": "code",
   "execution_count": 62,
   "metadata": {},
   "outputs": [],
   "source": [
    "# Send Figure to Plotly Chart Studio to share on embed\n",
    "# py.plot(refer_by_os_fig, filename = 'udacity-web-traffic_by_source', sharing='public')"
   ]
  },
  {
   "cell_type": "code",
   "execution_count": 63,
   "metadata": {},
   "outputs": [],
   "source": [
    "# Send Figure to Plotly Chart Studio to share on embed\n",
    "# py.plot(traffic_fig, filename = 'udacity-paid_web-traffic', sharing='public')"
   ]
  },
  {
   "cell_type": "code",
   "execution_count": 64,
   "metadata": {},
   "outputs": [],
   "source": [
    "# Send Figure to Plotly Chart Studio to share on embed\n",
    "# py.plot(conversion_by_os_fig, filename = 'udacity-conversion_by_os', sharing='public')"
   ]
  },
  {
   "cell_type": "code",
   "execution_count": 65,
   "metadata": {},
   "outputs": [],
   "source": [
    "# Send Figure to Plotly Chart Studio to share on embed\n",
    "# py.plot(ave_order_fig, filename = 'udacity_aveOrder_by_os', sharing='public')"
   ]
  },
  {
   "cell_type": "code",
   "execution_count": 66,
   "metadata": {},
   "outputs": [],
   "source": [
    "# Send Figure to Plotly Chart Studio to share on embed\n",
    "# py.plot(total_rev_fig, filename = 'udacity-totRev_by_os', sharing='public')"
   ]
  },
  {
   "cell_type": "code",
   "execution_count": null,
   "metadata": {},
   "outputs": [],
   "source": []
  }
 ]
}