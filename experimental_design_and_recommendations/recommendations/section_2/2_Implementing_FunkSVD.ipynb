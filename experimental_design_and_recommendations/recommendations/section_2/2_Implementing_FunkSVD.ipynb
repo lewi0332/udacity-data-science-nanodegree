{
 "cells": [
  {
   "cell_type": "markdown",
   "metadata": {},
   "source": [
    "### Implementing FunkSVD\n",
    "\n",
    "In this notebook we will take a look at writing our own function that performs FunkSVD, which will follow the steps you saw in the previous video.  If you find that you aren't ready to tackle this task on your own, feel free to skip to the following video where you can watch as I walk through the steps.\n",
    "\n",
    "To test our algorithm, we will run it on the subset of the data you worked with earlier.  Run the cell below to get started.\n"
   ]
  },
  {
   "cell_type": "code",
   "execution_count": 1,
   "metadata": {
    "collapsed": true
   },
   "outputs": [
    {
     "output_type": "stream",
     "name": "stdout",
     "text": [
      "[[10. 10. 10. 10.]\n [10.  4.  9. 10.]\n [ 8.  9. 10.  5.]\n [ 9.  8. 10. 10.]\n [10.  5.  9.  9.]\n [ 6.  4. 10.  6.]\n [ 9.  8. 10.  9.]\n [10.  5.  9.  8.]\n [ 7.  8. 10.  8.]\n [ 9.  5.  9.  7.]\n [ 9.  8. 10.  8.]\n [ 9. 10. 10.  9.]\n [10.  9. 10.  8.]\n [ 5.  8.  5.  8.]\n [10.  8. 10. 10.]\n [ 9.  9. 10. 10.]\n [ 9.  8.  8.  8.]\n [10.  8.  1. 10.]\n [ 5.  6. 10. 10.]\n [ 8.  7. 10.  7.]]\n"
     ]
    }
   ],
   "source": [
    "import numpy as np\n",
    "import pandas as pd\n",
    "import matplotlib.pyplot as plt\n",
    "from scipy import sparse\n",
    "import svd_tests as t\n",
    "%matplotlib inline\n",
    "\n",
    "# Read in the datasets\n",
    "movies = pd.read_csv('data/movies_clean.csv')\n",
    "reviews = pd.read_csv('data/reviews_clean.csv')\n",
    "\n",
    "del movies['Unnamed: 0']\n",
    "del reviews['Unnamed: 0']\n",
    "\n",
    "# Create user-by-item matrix\n",
    "user_items = reviews[['user_id', 'movie_id', 'rating', 'timestamp']]\n",
    "user_by_movie = user_items.groupby(['user_id', 'movie_id'])['rating'].max().unstack()\n",
    "\n",
    "# Create data subset\n",
    "user_movie_subset = user_by_movie[[73486, 75314,  68646, 99685]].dropna(axis=0)\n",
    "ratings_mat = np.matrix(user_movie_subset)\n",
    "print(ratings_mat)"
   ]
  },
  {
   "cell_type": "markdown",
   "metadata": {},
   "source": [
    "`1.` You will use the **user_movie_subset** matrix to show that your FunkSVD algorithm will converge.  In the below cell, use the comments and document string to assist you as you complete writing your own function to complete FunkSVD.  You may also want to try to complete the function on your own without the assistance of comments.  You may feel free to remove and add to the function in any way that gets you a working solution! \n",
    "\n",
    "**Notice:** There isn't a sigma matrix in this version of the matrix factorization."
   ]
  },
  {
   "cell_type": "code",
   "execution_count": 16,
   "metadata": {},
   "outputs": [
    {
     "output_type": "stream",
     "name": "stdout",
     "text": [
      "[[0.40971363 0.84166788 0.28170935 0.40218341]\n [0.8573548  0.14821751 0.12213245 0.09728095]\n [0.333948   0.90675857 0.24353923 0.32211613]\n [0.28379629 0.19687968 0.28949398 0.7584672 ]]\n\n 0.4097136314649835\n\n 0.8416678776385681\n\n 0.28170935368927486\n\n 0.40218341152206416\n\n 0.85735479811684\n\n 0.14821751498862268\n\n 0.12213244626874942\n\n 0.09728095265030912\n\n 0.3339479958755216\n\n 0.9067585730446895\n\n 0.2435392305743609\n\n 0.3221161259432489\n\n 0.2837962851511634\n\n 0.19687968171932002\n\n 0.28949398016237027\n\n 0.7584671979497223\n"
     ]
    }
   ],
   "source": [
    "movie_mat = np.random.rand(4,4)\n",
    "print(movie_mat)\n",
    "for i in movie_mat:\n",
    "    for j in i:\n",
    "        print(\"\\n\", j)"
   ]
  },
  {
   "cell_type": "code",
   "execution_count": null,
   "metadata": {},
   "outputs": [],
   "source": []
  },
  {
   "cell_type": "code",
   "execution_count": null,
   "metadata": {},
   "outputs": [],
   "source": []
  },
  {
   "cell_type": "code",
   "execution_count": 26,
   "metadata": {
    "collapsed": true
   },
   "outputs": [],
   "source": [
    "def FunkSVD(ratings_mat, latent_features=4, learning_rate=0.0001, iters=100):\n",
    "    '''\n",
    "    This function performs matrix factorization using a basic form of FunkSVD with no regularization\n",
    "    \n",
    "    INPUT:\n",
    "    ratings_mat - (numpy array) a matrix with users as rows, movies as columns, and ratings as values\n",
    "    latent_features - (int) the number of latent features used\n",
    "    learning_rate - (float) the learning rate \n",
    "    iters - (int) the number of iterations\n",
    "    \n",
    "    OUTPUT:\n",
    "    user_mat - (numpy array) a user by latent feature matrix\n",
    "    movie_mat - (numpy array) a latent feature by movie matrix\n",
    "    '''\n",
    "    \n",
    "    # Set up useful values to be used through the rest of the function\n",
    "    n_users = ratings_mat.shape[0]\n",
    "    n_movies = ratings_mat.shape[1]\n",
    "    num_ratings = np.sum(~np.isnan(ratings_mat))\n",
    "    \n",
    "    # initialize the user and movie matrices with random values\n",
    "    # helpful link: https://docs.scipy.org/doc/numpy/reference/generated/numpy.random.rand.html\n",
    "    user_mat = np.random.rand(n_users, latent_features )# user matrix filled with random values of shape user x latent \n",
    "    movie_mat = np.random.rand(latent_features, n_movies) # movie matrix filled with random values of shape latent x movies\n",
    "    \n",
    "    # initialize sse at 0 for first iteration\n",
    "    sse_accum = 0\n",
    "    \n",
    "    # header for running results\n",
    "    print(\"Optimization Statistics\")\n",
    "    print(\"Iterations | Mean Squared Error \")\n",
    "    \n",
    "    # for each iteration\n",
    "    for iteration in range(iters):\n",
    "        # update our sse\n",
    "        old_sse = sse_accum\n",
    "        sse_accum = 0\n",
    "        \n",
    "        # For each user-movie pair\n",
    "        for i in range(n_users):\n",
    "            for h in range(n_movies):\n",
    "                # if the rating exists\n",
    "                if ratings_mat[i,h] > 0:\n",
    "        \n",
    "                    # compute the error as the actual minus the dot product of the user and movie latent features\n",
    "                    error = ratings_mat[i,h] - np.dot(user_mat[i, :], movie_mat[:, h])\n",
    "\n",
    "                    # Keep track of the total sum of squared errors for the matrix\n",
    "                    sse_accum += error**2\n",
    "\n",
    "                    # update the values in each matrix in the direction of the gradient\n",
    "                    for x in range(latent_features):\n",
    "                        user_mat[i,x] += learning_rate * (2 * error * movie_mat[x,h])\n",
    "                        movie_mat[x,h] += learning_rate * (2 * error * user_mat[i,x])\n",
    "\n",
    "        # print results for iteration\n",
    "        print(\"%d \\t\\t %f\" % (iteration+1, sse_accum / num_ratings))\n",
    "\n",
    "        \n",
    "    return user_mat, movie_mat "
   ]
  },
  {
   "cell_type": "markdown",
   "metadata": {},
   "source": [
    "`2.` Try out your function on the **user_movie_subset** dataset.  First try 4 latent features, a learning rate of 0.005, and 10 iterations.  When you take the dot product of the resulting U and V matrices, how does the resulting **user_movie** matrix compare to the original subset of the data?"
   ]
  },
  {
   "cell_type": "code",
   "execution_count": 27,
   "metadata": {
    "collapsed": true
   },
   "outputs": [
    {
     "output_type": "stream",
     "name": "stdout",
     "text": [
      "Optimization Statistics\nIterations | Mean Squared Error \n1 \t\t 48.381282\n2 \t\t 19.545089\n3 \t\t 5.271178\n4 \t\t 2.963819\n5 \t\t 2.753546\n6 \t\t 2.717205\n7 \t\t 2.698137\n8 \t\t 2.680323\n9 \t\t 2.661041\n10 \t\t 2.639537\n"
     ]
    }
   ],
   "source": [
    "user_mat, movie_mat = FunkSVD(ratings_mat, latent_features=4, learning_rate=0.005, iters=10)"
   ]
  },
  {
   "cell_type": "code",
   "execution_count": 28,
   "metadata": {
    "collapsed": true
   },
   "outputs": [
    {
     "output_type": "stream",
     "name": "stdout",
     "text": [
      "[[10.20607933  8.7712631  10.71098085 10.04786673]\n [ 8.65411952  7.35552828  9.07337173  8.84887124]\n [ 7.98000267  7.07794407  8.28532959  7.55204541]\n [ 9.6383224   8.16541504 10.09028108  9.55546534]\n [ 8.65211783  7.43141606  9.09012414  8.36894714]\n [ 6.90708474  5.98776641  7.23148284  6.8040953 ]\n [ 9.30715681  7.95171082  9.72911113  9.14239498]\n [ 8.33248923  6.96809685  8.69041283  8.17527873]\n [ 8.48638591  7.38416192  8.92262186  8.49179801]\n [ 7.60322901  6.69176211  7.9258101   7.8505879 ]\n [ 8.91136895  7.80402257  9.34741491  8.7992733 ]\n [ 9.5997582   8.7292177   9.96364125  9.45668357]\n [ 9.18924381  8.05881762  9.64396754  9.39807471]\n [ 6.6226505   5.85025591  6.94621146  6.60404612]\n [ 9.78433236  8.42286517 10.21896979  9.7813427 ]\n [ 9.5964      8.52046983 10.01269506 10.02558225]\n [ 8.30286704  7.55859461  8.65686672  8.14971737]\n [ 7.05504571  6.19228319  7.34302776  7.21673651]\n [ 8.30465232  7.33970442  8.70806837  8.51371422]\n [ 8.15736395  7.09027557  8.60787827  8.05715171]]\n[[10. 10. 10. 10.]\n [10.  4.  9. 10.]\n [ 8.  9. 10.  5.]\n [ 9.  8. 10. 10.]\n [10.  5.  9.  9.]\n [ 6.  4. 10.  6.]\n [ 9.  8. 10.  9.]\n [10.  5.  9.  8.]\n [ 7.  8. 10.  8.]\n [ 9.  5.  9.  7.]\n [ 9.  8. 10.  8.]\n [ 9. 10. 10.  9.]\n [10.  9. 10.  8.]\n [ 5.  8.  5.  8.]\n [10.  8. 10. 10.]\n [ 9.  9. 10. 10.]\n [ 9.  8.  8.  8.]\n [10.  8.  1. 10.]\n [ 5.  6. 10. 10.]\n [ 8.  7. 10.  7.]]\n"
     ]
    }
   ],
   "source": [
    "#Compare the predicted and actual results\n",
    "print(np.dot(user_mat, movie_mat))\n",
    "print(ratings_mat)"
   ]
  },
  {
   "cell_type": "markdown",
   "metadata": {},
   "source": [
    "**Write your summary here.**"
   ]
  },
  {
   "cell_type": "markdown",
   "metadata": {},
   "source": [
    "`3.` Let's try out the function again on the **user_movie_subset** dataset.  This time we will again use 4 latent features and a learning rate of 0.005.  However, let's bump up the number of iterations to 250.  When you take the dot product of the resulting U and V matrices, how does the resulting **user_movie** matrix compare to the original subset of the data?  What do you notice about your error at the end of the 250 iterations?"
   ]
  },
  {
   "cell_type": "code",
   "execution_count": 30,
   "metadata": {
    "collapsed": true,
    "tags": [
     "outputPrepend"
    ]
   },
   "outputs": [
    {
     "output_type": "stream",
     "name": "stdout",
     "text": [
      "126 \t\t 0.000018\n127 \t\t 0.000016\n128 \t\t 0.000014\n129 \t\t 0.000013\n130 \t\t 0.000011\n131 \t\t 0.000010\n132 \t\t 0.000009\n133 \t\t 0.000008\n134 \t\t 0.000007\n135 \t\t 0.000006\n136 \t\t 0.000006\n137 \t\t 0.000005\n138 \t\t 0.000005\n139 \t\t 0.000004\n140 \t\t 0.000004\n141 \t\t 0.000003\n142 \t\t 0.000003\n143 \t\t 0.000003\n144 \t\t 0.000002\n145 \t\t 0.000002\n146 \t\t 0.000002\n147 \t\t 0.000002\n148 \t\t 0.000001\n149 \t\t 0.000001\n150 \t\t 0.000001\n151 \t\t 0.000001\n152 \t\t 0.000001\n153 \t\t 0.000001\n154 \t\t 0.000001\n155 \t\t 0.000001\n156 \t\t 0.000001\n157 \t\t 0.000001\n158 \t\t 0.000000\n159 \t\t 0.000000\n160 \t\t 0.000000\n161 \t\t 0.000000\n162 \t\t 0.000000\n163 \t\t 0.000000\n164 \t\t 0.000000\n165 \t\t 0.000000\n166 \t\t 0.000000\n167 \t\t 0.000000\n168 \t\t 0.000000\n169 \t\t 0.000000\n170 \t\t 0.000000\n171 \t\t 0.000000\n172 \t\t 0.000000\n173 \t\t 0.000000\n174 \t\t 0.000000\n175 \t\t 0.000000\n176 \t\t 0.000000\n177 \t\t 0.000000\n178 \t\t 0.000000\n179 \t\t 0.000000\n180 \t\t 0.000000\n181 \t\t 0.000000\n182 \t\t 0.000000\n183 \t\t 0.000000\n184 \t\t 0.000000\n185 \t\t 0.000000\n186 \t\t 0.000000\n187 \t\t 0.000000\n188 \t\t 0.000000\n189 \t\t 0.000000\n190 \t\t 0.000000\n191 \t\t 0.000000\n192 \t\t 0.000000\n193 \t\t 0.000000\n194 \t\t 0.000000\n195 \t\t 0.000000\n196 \t\t 0.000000\n197 \t\t 0.000000\n198 \t\t 0.000000\n199 \t\t 0.000000\n200 \t\t 0.000000\n201 \t\t 0.000000\n202 \t\t 0.000000\n203 \t\t 0.000000\n204 \t\t 0.000000\n205 \t\t 0.000000\n206 \t\t 0.000000\n207 \t\t 0.000000\n208 \t\t 0.000000\n209 \t\t 0.000000\n210 \t\t 0.000000\n211 \t\t 0.000000\n212 \t\t 0.000000\n213 \t\t 0.000000\n214 \t\t 0.000000\n215 \t\t 0.000000\n216 \t\t 0.000000\n217 \t\t 0.000000\n218 \t\t 0.000000\n219 \t\t 0.000000\n220 \t\t 0.000000\n221 \t\t 0.000000\n222 \t\t 0.000000\n223 \t\t 0.000000\n224 \t\t 0.000000\n225 \t\t 0.000000\n226 \t\t 0.000000\n227 \t\t 0.000000\n228 \t\t 0.000000\n229 \t\t 0.000000\n230 \t\t 0.000000\n231 \t\t 0.000000\n232 \t\t 0.000000\n233 \t\t 0.000000\n234 \t\t 0.000000\n235 \t\t 0.000000\n236 \t\t 0.000000\n237 \t\t 0.000000\n238 \t\t 0.000000\n239 \t\t 0.000000\n240 \t\t 0.000000\n241 \t\t 0.000000\n242 \t\t 0.000000\n243 \t\t 0.000000\n244 \t\t 0.000000\n245 \t\t 0.000000\n246 \t\t 0.000000\n247 \t\t 0.000000\n248 \t\t 0.000000\n249 \t\t 0.000000\n250 \t\t 0.000000\n"
     ]
    }
   ],
   "source": [
    "user_mat, movie_mat = FunkSVD(ratings_mat, latent_features=4, learning_rate=0.005, iters=250) #use your function with 4 latent features, lr of 0.005 and 250 iterations"
   ]
  },
  {
   "cell_type": "code",
   "execution_count": 31,
   "metadata": {
    "collapsed": true
   },
   "outputs": [
    {
     "output_type": "stream",
     "name": "stdout",
     "text": [
      "[[10.00000329 10.00000177 10.00000074  9.99999657]\n [ 9.999999    3.9999994   8.99999973 10.00000105]\n [ 8.00000092  9.00000042 10.00000014  4.99999905]\n [ 9.00000418  8.00000221 10.00000089  9.99999562]\n [10.00000037  5.00000002  8.99999996  8.99999967]\n [ 5.99999702  3.99999832  9.99999924  6.00000309]\n [ 8.99999517  7.99999712  9.99999875  9.00000519]\n [10.00000026  5.00000024  9.00000012  7.99999966]\n [ 7.000003    8.00000159 10.00000066  7.99999689]\n [ 9.00000495  5.00000273  9.00000113  6.99999476]\n [ 8.99998865  7.99999364  9.99999726  8.00001194]\n [ 9.00000277 10.00000163 10.00000072  8.99999707]\n [ 9.99999487  8.99999727  9.99999886  8.00000535]\n [ 4.99999808  7.99999894  4.99999957  8.00000207]\n [10.00000214  8.0000013  10.00000063  9.99999777]\n [ 8.99999577  8.99999766  9.99999907 10.00000455]\n [ 9.00000568  8.00000331  8.00000147  7.999994  ]\n [ 9.99999893  7.9999994   0.99999974 10.00000113]\n [ 5.00000031  6.00000029 10.00000015  9.99999965]\n [ 8.00000421  7.00000234 10.00000102  6.99999561]]\n[[10. 10. 10. 10.]\n [10.  4.  9. 10.]\n [ 8.  9. 10.  5.]\n [ 9.  8. 10. 10.]\n [10.  5.  9.  9.]\n [ 6.  4. 10.  6.]\n [ 9.  8. 10.  9.]\n [10.  5.  9.  8.]\n [ 7.  8. 10.  8.]\n [ 9.  5.  9.  7.]\n [ 9.  8. 10.  8.]\n [ 9. 10. 10.  9.]\n [10.  9. 10.  8.]\n [ 5.  8.  5.  8.]\n [10.  8. 10. 10.]\n [ 9.  9. 10. 10.]\n [ 9.  8.  8.  8.]\n [10.  8.  1. 10.]\n [ 5.  6. 10. 10.]\n [ 8.  7. 10.  7.]]\n"
     ]
    }
   ],
   "source": [
    "#Compare the predicted and actual results\n",
    "print(np.dot(user_mat, movie_mat))\n",
    "print(ratings_mat)"
   ]
  },
  {
   "cell_type": "markdown",
   "metadata": {},
   "source": [
    "**Write your summary here.**"
   ]
  },
  {
   "cell_type": "markdown",
   "metadata": {},
   "source": [
    "The last time we placed an **np.nan** value into this matrix the entire svd algorithm in python broke.  Let's see if that is still the case using your FunkSVD function.  In the below cell, I have placed a nan into the first cell of your numpy array.  \n",
    "\n",
    "`4.` Use 4 latent features, a learning rate of 0.005, and 250 iterations.  Are you able to run your SVD without it breaking (something that was not true about the python built in)?  Do you get a prediction for the nan value?  What is your prediction for the missing value? Use the cells below to answer these questions."
   ]
  },
  {
   "cell_type": "code",
   "execution_count": 32,
   "metadata": {
    "collapsed": true
   },
   "outputs": [
    {
     "output_type": "execute_result",
     "data": {
      "text/plain": [
       "matrix([[nan, 10., 10., 10.],\n",
       "        [10.,  4.,  9., 10.],\n",
       "        [ 8.,  9., 10.,  5.],\n",
       "        [ 9.,  8., 10., 10.],\n",
       "        [10.,  5.,  9.,  9.],\n",
       "        [ 6.,  4., 10.,  6.],\n",
       "        [ 9.,  8., 10.,  9.],\n",
       "        [10.,  5.,  9.,  8.],\n",
       "        [ 7.,  8., 10.,  8.],\n",
       "        [ 9.,  5.,  9.,  7.],\n",
       "        [ 9.,  8., 10.,  8.],\n",
       "        [ 9., 10., 10.,  9.],\n",
       "        [10.,  9., 10.,  8.],\n",
       "        [ 5.,  8.,  5.,  8.],\n",
       "        [10.,  8., 10., 10.],\n",
       "        [ 9.,  9., 10., 10.],\n",
       "        [ 9.,  8.,  8.,  8.],\n",
       "        [10.,  8.,  1., 10.],\n",
       "        [ 5.,  6., 10., 10.],\n",
       "        [ 8.,  7., 10.,  7.]])"
      ]
     },
     "metadata": {},
     "execution_count": 32
    }
   ],
   "source": [
    "# Here we are placing a nan into our original subset matrix\n",
    "ratings_mat[0, 0] = np.nan\n",
    "ratings_mat"
   ]
  },
  {
   "cell_type": "code",
   "execution_count": 34,
   "metadata": {
    "collapsed": true,
    "tags": [
     "outputPrepend"
    ]
   },
   "outputs": [
    {
     "output_type": "stream",
     "name": "stdout",
     "text": [
      "126 \t\t 0.000017\n127 \t\t 0.000015\n128 \t\t 0.000013\n129 \t\t 0.000012\n130 \t\t 0.000010\n131 \t\t 0.000009\n132 \t\t 0.000008\n133 \t\t 0.000007\n134 \t\t 0.000007\n135 \t\t 0.000006\n136 \t\t 0.000005\n137 \t\t 0.000005\n138 \t\t 0.000004\n139 \t\t 0.000004\n140 \t\t 0.000003\n141 \t\t 0.000003\n142 \t\t 0.000003\n143 \t\t 0.000002\n144 \t\t 0.000002\n145 \t\t 0.000002\n146 \t\t 0.000002\n147 \t\t 0.000001\n148 \t\t 0.000001\n149 \t\t 0.000001\n150 \t\t 0.000001\n151 \t\t 0.000001\n152 \t\t 0.000001\n153 \t\t 0.000001\n154 \t\t 0.000001\n155 \t\t 0.000001\n156 \t\t 0.000001\n157 \t\t 0.000000\n158 \t\t 0.000000\n159 \t\t 0.000000\n160 \t\t 0.000000\n161 \t\t 0.000000\n162 \t\t 0.000000\n163 \t\t 0.000000\n164 \t\t 0.000000\n165 \t\t 0.000000\n166 \t\t 0.000000\n167 \t\t 0.000000\n168 \t\t 0.000000\n169 \t\t 0.000000\n170 \t\t 0.000000\n171 \t\t 0.000000\n172 \t\t 0.000000\n173 \t\t 0.000000\n174 \t\t 0.000000\n175 \t\t 0.000000\n176 \t\t 0.000000\n177 \t\t 0.000000\n178 \t\t 0.000000\n179 \t\t 0.000000\n180 \t\t 0.000000\n181 \t\t 0.000000\n182 \t\t 0.000000\n183 \t\t 0.000000\n184 \t\t 0.000000\n185 \t\t 0.000000\n186 \t\t 0.000000\n187 \t\t 0.000000\n188 \t\t 0.000000\n189 \t\t 0.000000\n190 \t\t 0.000000\n191 \t\t 0.000000\n192 \t\t 0.000000\n193 \t\t 0.000000\n194 \t\t 0.000000\n195 \t\t 0.000000\n196 \t\t 0.000000\n197 \t\t 0.000000\n198 \t\t 0.000000\n199 \t\t 0.000000\n200 \t\t 0.000000\n201 \t\t 0.000000\n202 \t\t 0.000000\n203 \t\t 0.000000\n204 \t\t 0.000000\n205 \t\t 0.000000\n206 \t\t 0.000000\n207 \t\t 0.000000\n208 \t\t 0.000000\n209 \t\t 0.000000\n210 \t\t 0.000000\n211 \t\t 0.000000\n212 \t\t 0.000000\n213 \t\t 0.000000\n214 \t\t 0.000000\n215 \t\t 0.000000\n216 \t\t 0.000000\n217 \t\t 0.000000\n218 \t\t 0.000000\n219 \t\t 0.000000\n220 \t\t 0.000000\n221 \t\t 0.000000\n222 \t\t 0.000000\n223 \t\t 0.000000\n224 \t\t 0.000000\n225 \t\t 0.000000\n226 \t\t 0.000000\n227 \t\t 0.000000\n228 \t\t 0.000000\n229 \t\t 0.000000\n230 \t\t 0.000000\n231 \t\t 0.000000\n232 \t\t 0.000000\n233 \t\t 0.000000\n234 \t\t 0.000000\n235 \t\t 0.000000\n236 \t\t 0.000000\n237 \t\t 0.000000\n238 \t\t 0.000000\n239 \t\t 0.000000\n240 \t\t 0.000000\n241 \t\t 0.000000\n242 \t\t 0.000000\n243 \t\t 0.000000\n244 \t\t 0.000000\n245 \t\t 0.000000\n246 \t\t 0.000000\n247 \t\t 0.000000\n248 \t\t 0.000000\n249 \t\t 0.000000\n250 \t\t 0.000000\n"
     ]
    }
   ],
   "source": [
    "# run SVD on the matrix with the missing value\n",
    "user_mat, movie_mat = FunkSVD(ratings_mat, latent_features=4, learning_rate=.005, iters=250) #use your function with 4 latent features, lr of 0.005 and 250 iterations"
   ]
  },
  {
   "cell_type": "code",
   "execution_count": 38,
   "metadata": {
    "collapsed": true
   },
   "outputs": [
    {
     "output_type": "stream",
     "name": "stdout",
     "text": [
      "The predicted value for the missing rating is 10.75828312609834:\n\nThe actual value for the missing rating is nan:\n\nThat's right! You just predicted a rating for a user-movie pair that was never rated!\nBut if you look in the original matrix, this was actually a value of 10. Not bad!\n"
     ]
    }
   ],
   "source": [
    "# Run this cell to see if you were able to predict for the missing value\n",
    "preds = np.dot(user_mat, movie_mat)\n",
    "print(\"The predicted value for the missing rating is {}:\".format(preds[0,0]))\n",
    "print()\n",
    "print(\"The actual value for the missing rating is {}:\".format(ratings_mat[0,0]))\n",
    "print()\n",
    "assert np.isnan(preds[0,0]) == False\n",
    "print(\"That's right! You just predicted a rating for a user-movie pair that was never rated!\")\n",
    "print(\"But if you look in the original matrix, this was actually a value of 10. Not bad!\")"
   ]
  },
  {
   "cell_type": "markdown",
   "metadata": {},
   "source": [
    "Now let's extend this to a more realistic example. Unfortunately, running this function on your entire user-movie matrix is still not something you likely want to do on your local machine.  However, we can see how well this example extends to 1000 users.  In the above portion, you were using a very small subset of data with no missing values.\n",
    "\n",
    "`5.` Given the size of this matrix, this will take quite a bit of time.  Consider the following hyperparameters: 4 latent features, 0.005 learning rate, and 20 iterations.  Grab a snack, take a walk, and this should be done running in a bit."
   ]
  },
  {
   "cell_type": "code",
   "execution_count": 39,
   "metadata": {
    "collapsed": true
   },
   "outputs": [
    {
     "output_type": "stream",
     "name": "stdout",
     "text": [
      "Optimization Statistics\n",
      "Iterations | Mean Squared Error \n",
      "1 \t\t 23.510507\n",
      "2 \t\t 10.875398\n",
      "3 \t\t 7.421955\n",
      "4 \t\t 5.711398\n",
      "5 \t\t 4.638255\n",
      "6 \t\t 3.888980\n",
      "7 \t\t 3.331989\n",
      "8 \t\t 2.900858\n",
      "9 \t\t 2.557676\n",
      "10 \t\t 2.278813\n",
      "11 \t\t 2.048615\n",
      "12 \t\t 1.856254\n",
      "13 \t\t 1.693977\n",
      "14 \t\t 1.556047\n",
      "15 \t\t 1.438089\n",
      "16 \t\t 1.336661\n",
      "17 \t\t 1.248991\n",
      "18 \t\t 1.172811\n",
      "19 \t\t 1.106247\n",
      "20 \t\t 1.047751\n"
     ]
    }
   ],
   "source": [
    "# Setting up a matrix of the first 1000 users with movie ratings\n",
    "first_1000_users = np.matrix(user_by_movie.head(1000))\n",
    "\n",
    "# perform funkSVD on the matrix of the top 1000 users\n",
    "user_mat, movie_mat = FunkSVD(first_1000_users, latent_features=4, learning_rate=.005, iters=20) #fit to 1000 users with 4 latent features, lr of 0.005, and 20 iterations"
   ]
  },
  {
   "cell_type": "markdown",
   "metadata": {},
   "source": [
    "`6.` Now that you have a set of predictions for each user-movie pair,  let's answer a few questions about your results. Provide the correct values for each of the variables below, and check your solutions using the tests below."
   ]
  },
  {
   "cell_type": "code",
   "execution_count": 40,
   "metadata": {},
   "outputs": [],
   "source": [
    "preds = np.dot(user_mat, movie_mat)"
   ]
  },
  {
   "cell_type": "code",
   "execution_count": 41,
   "metadata": {
    "collapsed": true
   },
   "outputs": [
    {
     "output_type": "stream",
     "name": "stdout",
     "text": [
      "The number of actual ratings in the first_1000_users is 10852.\n\nThe number of ratings made for user-movie pairs that didn't have ratings is 31234148\n"
     ]
    }
   ],
   "source": [
    "# Replace each of the comments below with the correct values\n",
    "num_ratings = np.sum(~np.isnan(first_1000_users))# How many actual ratings exist in first_1000_users\n",
    "print(\"The number of actual ratings in the first_1000_users is {}.\".format(num_ratings))\n",
    "print()\n",
    "\n",
    "\n",
    "ratings_for_missing = np.sum(~np.isnan(preds)) - num_ratings # How many ratings did we make for user-movie pairs that didn't actually have ratings\n",
    "print(\"The number of ratings made for user-movie pairs that didn't have ratings is {}\".format(ratings_for_missing))"
   ]
  },
  {
   "cell_type": "code",
   "execution_count": 42,
   "metadata": {
    "collapsed": true
   },
   "outputs": [
    {
     "output_type": "stream",
     "name": "stdout",
     "text": [
      "Nice job!  Looks like you have predictions made for all the missing user-movie pairs! But I still have one question... How good are they?\n"
     ]
    }
   ],
   "source": [
    "# Test your results against the solution\n",
    "assert num_ratings == 10852, \"Oops!  The number of actual ratings doesn't quite look right.\"\n",
    "assert ratings_for_missing == 31234148, \"Oops!  The number of movie-user pairs that you made ratings for that didn't actually have ratings doesn't look right.\"\n",
    "\n",
    "# Make sure you made predictions on all the missing user-movie pairs\n",
    "preds = np.dot(user_mat, movie_mat)\n",
    "assert np.isnan(preds).sum() == 0\n",
    "print(\"Nice job!  Looks like you have predictions made for all the missing user-movie pairs! But I still have one question... How good are they?\")"
   ]
  },
  {
   "cell_type": "code",
   "execution_count": null,
   "metadata": {
    "collapsed": true
   },
   "outputs": [],
   "source": []
  }
 ],
 "metadata": {
  "kernelspec": {
   "name": "python394jvsc74a57bd0bc2a24d4c3cd17fd9f715a2eaa27c684aca7d481f400247be60a86f25e8df92c",
   "display_name": "Python 3.9.4 64-bit ('edaENV': conda)"
  },
  "language_info": {
   "codemirror_mode": {
    "name": "ipython",
    "version": 3
   },
   "file_extension": ".py",
   "mimetype": "text/x-python",
   "name": "python",
   "nbconvert_exporter": "python",
   "pygments_lexer": "ipython3",
   "version": "3.9.4"
  }
 },
 "nbformat": 4,
 "nbformat_minor": 2
}